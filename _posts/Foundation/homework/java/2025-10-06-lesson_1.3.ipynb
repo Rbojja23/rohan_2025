{
 "cells": [
  {
   "cell_type": "raw",
   "id": "a46ac0ed",
   "metadata": {
    "vscode": {
     "languageId": "raw"
    }
   },
   "source": [
    "---\n",
    "layout: post\n",
    "toc: true\n",
    "title:  Lesson 1.3 - Rohan Bojja\n",
    "type: issues \n",
    "permalink: /lessons_1.3/\n",
    "---"
   ]
  },
  {
   "cell_type": "code",
   "execution_count": 1,
   "id": "73289666",
   "metadata": {
    "vscode": {
     "languageId": "java"
    }
   },
   "outputs": [
    {
     "name": "stdout",
     "output_type": "stream",
     "text": [
      "Player: Rohan\n",
      "Score: 2560\tAccuracy: 92.73%\n",
      "Note: \"Great job!\"\n"
     ]
    },
    {
     "data": {
      "text/plain": [
       "java.io.PrintStream@71902c88"
      ]
     },
     "execution_count": 1,
     "metadata": {},
     "output_type": "execute_result"
    }
   ],
   "source": [
    "System.out.printf(\"Player: %s\\nScore: %d\\tAccuracy: %.2f%%\\nNote: \\\"%s\\\"\\n\", \"Rohan\", 2560, 92.73, \"Great job!\");\n"
   ]
  },
  {
   "cell_type": "code",
   "execution_count": 2,
   "id": "7aef33e3",
   "metadata": {
    "vscode": {
     "languageId": "java"
    }
   },
   "outputs": [],
   "source": [
    "// This program uses formatting tools like %s, %d, %.2f, \\n, \\t, and \\\" to organize output clearly.\n",
    "// They help align text, control decimal places, and include special characters like quotes or new lines.\n",
    "// Using printf() makes the output cleaner, more readable, and more professional than plain print statements.\n"
   ]
  },
  {
   "cell_type": "code",
   "execution_count": 7,
   "id": "51743604",
   "metadata": {
    "vscode": {
     "languageId": "java"
    }
   },
   "outputs": [
    {
     "name": "stdout",
     "output_type": "stream",
     "text": [
      "AP CSA\n",
      "Rocks!\n"
     ]
    }
   ],
   "source": [
    "System.out.print(\"AP \");\n",
    "System.out.println(\"CSA\");\n",
    "System.out.println(\"Rocks!\");\n"
   ]
  },
  {
   "cell_type": "code",
   "execution_count": 6,
   "id": "453b4b29",
   "metadata": {
    "vscode": {
     "languageId": "java"
    }
   },
   "outputs": [
    {
     "name": "stdout",
     "output_type": "stream",
     "text": [
      "C:\\Users\\Student\n"
     ]
    }
   ],
   "source": [
    "System.out.println(\"C:\\\\Users\\\\Student\");\n"
   ]
  },
  {
   "cell_type": "code",
   "execution_count": 5,
   "id": "e19756bb",
   "metadata": {
    "vscode": {
     "languageId": "java"
    }
   },
   "outputs": [],
   "source": [
    "public class Menu {\n",
    "    public static void main(String[] args) {\n",
    "        int optionCount = 4;\n",
    "\n",
    "        System.out.println(\"==== Main Menu ====\");\n",
    "        System.out.println(\"1. Start Game\");\n",
    "        System.out.println(\"2. View Scores\");\n",
    "        System.out.println(\"3. Exit\");\n",
    "        System.out.println(\"4. Settings\");\n",
    "\n",
    "        System.out.println(\"\\nTotal options: \" + optionCount);\n",
    "    }\n",
    "}\n"
   ]
  },
  {
   "cell_type": "code",
   "execution_count": 4,
   "id": "c5f53897",
   "metadata": {
    "vscode": {
     "languageId": "java"
    }
   },
   "outputs": [
    {
     "name": "stdout",
     "output_type": "stream",
     "text": [
      "Pi = 3.14\n"
     ]
    },
    {
     "data": {
      "text/plain": [
       "java.io.PrintStream@71902c88"
      ]
     },
     "execution_count": 4,
     "metadata": {},
     "output_type": "execute_result"
    }
   ],
   "source": [
    "System.out.printf(\"Pi = %.2f\\n\", Math.PI);\n"
   ]
  },
  {
   "cell_type": "code",
   "execution_count": 3,
   "id": "eab22961",
   "metadata": {
    "vscode": {
     "languageId": "java"
    }
   },
   "outputs": [],
   "source": [
    "import java.util.Scanner;\n",
    "\n",
    "public class CalculatorMenu {\n",
    "    public static void main(String[] args) {\n",
    "        Scanner input = new Scanner(System.in);\n",
    "\n",
    "        System.out.println(\"==== Calculator Menu ====\");\n",
    "        System.out.println(\"1. Add\");\n",
    "        System.out.println(\"2. Subtract\");\n",
    "        System.out.println(\"3. Multiply\");\n",
    "        System.out.println(\"4. Divide\");\n",
    "\n",
    "        System.out.print(\"Choose an option (1-4): \");\n",
    "        int choice = input.nextInt();\n",
    "\n",
    "        System.out.print(\"Enter first number: \");\n",
    "        double num1 = input.nextDouble();\n",
    "\n",
    "        System.out.print(\"Enter second number: \");\n",
    "        double num2 = input.nextDouble();\n",
    "\n",
    "        double result = 0;\n",
    "\n",
    "        if (choice == 1) {\n",
    "            result = num1 + num2;\n",
    "            System.out.println(\"Result: \" + result);\n",
    "        } else if (choice == 2) {\n",
    "            result = num1 - num2;\n",
    "            System.out.println(\"Result: \" + result);\n",
    "        } else if (choice == 3) {\n",
    "            result = num1 * num2;\n",
    "            System.out.println(\"Result: \" + result);\n",
    "        } else if (choice == 4) {\n",
    "            if (num2 != 0)\n",
    "                result = num1 / num2;\n",
    "            else\n",
    "                System.out.println(\"Error: Cannot divide by zero!\");\n",
    "            System.out.println(\"Result: \" + result);\n",
    "        } else {\n",
    "            System.out.println(\"Invalid option!\");\n",
    "        }\n",
    "\n",
    "        input.close();\n",
    "    }\n",
    "}\n"
   ]
  }
 ],
 "metadata": {
  "kernelspec": {
   "display_name": "Java",
   "language": "java",
   "name": "java"
  },
  "language_info": {
   "codemirror_mode": "java",
   "file_extension": ".jshell",
   "mimetype": "text/x-java-source",
   "name": "Java",
   "pygments_lexer": "java",
   "version": "17.0.16+0"
  }
 },
 "nbformat": 4,
 "nbformat_minor": 5
}
