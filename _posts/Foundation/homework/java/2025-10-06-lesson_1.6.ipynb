{
 "cells": [
  {
   "cell_type": "raw",
   "id": "a46ac0ed",
   "metadata": {
    "vscode": {
     "languageId": "raw"
    }
   },
   "source": [
    "---\n",
    "layout: post\n",
    "toc: true\n",
    "title:  Lesson 1.6 - Rohan Bojja\n",
    "type: issues \n",
    "permalink: /lessons_1.6/\n",
    "---"
   ]
  },
  {
   "cell_type": "code",
   "execution_count": 1,
   "id": "73289666",
   "metadata": {
    "vscode": {
     "languageId": "java"
    }
   },
   "outputs": [
    {
     "data": {
      "text/plain": [
       "68"
      ]
     },
     "execution_count": 1,
     "metadata": {},
     "output_type": "execute_result"
    }
   ],
   "source": [
    "// Popcorn Hack #1\n",
    "\n",
    "int playerScore = 1000;\n",
    "int playerHealth = 100;\n",
    "int enemiesDefeated = 0;\n",
    "\n",
    "// Player defeats an enemy worth 250 points\n",
    "playerScore += 250;\n",
    "\n",
    "// Player takes 15 damage\n",
    "playerHealth -= 15;\n",
    "\n",
    "// Enemy count goes up\n",
    "enemiesDefeated++;\n",
    "\n",
    "// Boss battle: double the current score!\n",
    "playerScore *= 2;\n",
    "\n",
    "// Healing potion restores health to 80% of current\n",
    "playerHealth *= 4;\n",
    "playerHealth /= 5;  // 4/5 = 0.8, integer math keeps it whole number\n"
   ]
  },
  {
   "cell_type": "code",
   "execution_count": 2,
   "id": "7aef33e3",
   "metadata": {
    "vscode": {
     "languageId": "java"
    }
   },
   "outputs": [],
   "source": [
    "public class ScoreUpdater {\n",
    "    public static void main(String[] args) {\n",
    "        int score = 100;\n",
    "        System.out.println(\"Starting score: \" + score);\n",
    "\n",
    "        // Deduct points for a wrong answer\n",
    "        score -= 25;\n",
    "        System.out.println(\"After wrong answer (-=): \" + score);\n",
    "\n",
    "        // Double the score with a power-up\n",
    "        score *= 2;\n",
    "        System.out.println(\"After power-up (*=): \" + score);\n",
    "\n",
    "        // Find remainder after dividing by 7\n",
    "        score %= 7;\n",
    "        System.out.println(\"After dividing by 7 (%=): \" + score);\n",
    "    }\n",
    "}\n"
   ]
  },
  {
   "cell_type": "code",
   "execution_count": 3,
   "id": "51743604",
   "metadata": {
    "vscode": {
     "languageId": "java"
    }
   },
   "outputs": [],
   "source": [
    "public class InfluencerSimulator {\n",
    "    public static void main(String[] args) {\n",
    "        // Starting stats for the influencer\n",
    "        int followers = 500;\n",
    "        int posts = 10;\n",
    "        int engagement = 200;\n",
    "        double sponsorshipEarnings = 150.0;\n",
    "\n",
    "        System.out.println(\"📱 Social Media Influencer Simulator\");\n",
    "        System.out.println(\"------------------------------------\");\n",
    "        System.out.println(\"Starting followers: \" + followers);\n",
    "        System.out.println(\"Starting engagement: \" + engagement);\n",
    "        System.out.println(\"Starting sponsorship earnings: $\" + sponsorshipEarnings);\n",
    "        System.out.println();\n",
    "\n",
    "        followers += 1200;\n",
    "        System.out.println(\"After viral post, followers += 1200 → Followers: \" + followers);\n",
    "\n",
    "        followers -= 75;\n",
    "        System.out.println(\"After controversy, followers -= 75 → Followers: \" + followers);\n",
    "\n",
    "        engagement *= 2;\n",
    "        System.out.println(\"After trending hashtag, engagement *= 2 → Engagement: \" + engagement);\n",
    "\n",
    "        engagement /= posts;\n",
    "        System.out.println(\"Average engagement per post (engagement /= posts): \" + engagement);\n",
    "\n",
    "        sponsorshipEarnings += 250.75;\n",
    "        System.out.println(\"After new sponsorship deal, earnings += 250.75 → $\" + sponsorshipEarnings);\n",
    "\n",
    "        int position = followers % 100;\n",
    "        System.out.println(\"Leaderboard position (followers % 100): \" + position);\n",
    "    }\n",
    "}\n"
   ]
  }
 ],
 "metadata": {
  "kernelspec": {
   "display_name": "Java",
   "language": "java",
   "name": "java"
  },
  "language_info": {
   "codemirror_mode": "java",
   "file_extension": ".jshell",
   "mimetype": "text/x-java-source",
   "name": "Java",
   "pygments_lexer": "java",
   "version": "17.0.16+0"
  }
 },
 "nbformat": 4,
 "nbformat_minor": 5
}
