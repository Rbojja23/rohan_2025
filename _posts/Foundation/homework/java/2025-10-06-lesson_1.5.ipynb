{
 "cells": [
  {
   "cell_type": "raw",
   "id": "a46ac0ed",
   "metadata": {
    "vscode": {
     "languageId": "raw"
    }
   },
   "source": [
    "---\n",
    "layout: post\n",
    "title:  Lesson 1.5 - Rohan Bojja\n",
    "type: issues \n",
    "permalink: /lessons_1.5/\n",
    "---"
   ]
  },
  {
   "cell_type": "code",
   "execution_count": 1,
   "id": "73289666",
   "metadata": {},
   "outputs": [],
   "source": [
    "public static double avgInt(int a, int b) {\n",
    "    return (a + b) / 2.0;\n",
    "}"
   ]
  },
  {
   "cell_type": "code",
   "execution_count": 2,
   "id": "7aef33e3",
   "metadata": {},
   "outputs": [],
   "source": [
    "public static double percent(int correct, int total) {\n",
    "    if (total == 0) return 0.0;\n",
    "    return (correct * 100.0) / total;\n",
    "}"
   ]
  },
  {
   "cell_type": "code",
   "execution_count": 3,
   "id": "51743604",
   "metadata": {},
   "outputs": [],
   "source": [
    "public static int safeMod(int a, int b) {\n",
    "    if (b == 0) return 0;\n",
    "    return a % b;\n",
    "}"
   ]
  }
 ],
 "metadata": {
  "kernelspec": {
   "display_name": "Java",
   "language": "java",
   "name": "java"
  },
  "language_info": {
   "codemirror_mode": "java",
   "file_extension": ".jshell",
   "mimetype": "text/x-java-source",
   "name": "java",
   "pygments_lexer": "java",
   "version": "17.0.16+0"
  }
 },
 "nbformat": 4,
 "nbformat_minor": 5
}
