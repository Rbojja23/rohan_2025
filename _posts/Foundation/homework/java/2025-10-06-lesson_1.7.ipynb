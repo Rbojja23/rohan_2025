{
 "cells": [
  {
   "cell_type": "raw",
   "id": "a46ac0ed",
   "metadata": {
    "vscode": {
     "languageId": "raw"
    }
   },
   "source": [
    "---\n",
    "layout: post\n",
    "toc: true\n",
    "title:  Lesson 1.7 - Rohan Bojja\n",
    "type: issues \n",
    "permalink: /lessons_1.7/\n",
    "---"
   ]
  },
  {
   "cell_type": "code",
   "execution_count": 1,
   "id": "98c8e33d",
   "metadata": {},
   "outputs": [
    {
     "name": "stdout",
     "output_type": "stream",
     "text": [
      "3^4 = 81.0\n",
      "√64 = 8.0\n",
      "# of colors: 3\n"
     ]
    }
   ],
   "source": [
    "// Popcorn Hack #1: Complete this code\n",
    "\n",
    "import java.util.ArrayList;\n",
    "\n",
    "public class PopcornHack1 {\n",
    "    public static void main(String[] args) {\n",
    "        // Use Math.pow() to calculate 3^4\n",
    "        double powerResult = Math.pow(3, 4);\n",
    "        System.out.println(\"3^4 = \" + powerResult);\n",
    "\n",
    "        // Use Math.sqrt() to find square root of 64\n",
    "        double squareRoot = Math.sqrt(64);\n",
    "        System.out.println(\"√64 = \" + squareRoot);\n",
    "\n",
    "        // Create ArrayList of Strings\n",
    "        ArrayList<String> colors = new ArrayList<>();\n",
    "\n",
    "        // Add 3 colors (\"red\", \"blue\", \"green\")\n",
    "        colors.add(\"red\");\n",
    "        colors.add(\"blue\");\n",
    "        colors.add(\"green\");\n",
    "\n",
    "        // Print the size of the ArrayList\n",
    "        System.out.println(\"# of colors: \" + colors.size());\n",
    "    }\n",
    "}\n",
    "\n",
    "PopcornHack1.main(null);\n"
   ]
  },
  {
   "cell_type": "code",
   "execution_count": null,
   "id": "407cdc53",
   "metadata": {},
   "outputs": [
    {
     "name": "stdout",
     "output_type": "stream",
     "text": [
      "Title: Java Basics\n",
      "Author: John Doe\n",
      "Pages: 350\n",
      "Is this book long? true\n"
     ]
    }
   ],
   "source": [
    "// Popcorn Hack #2: Complete the Book class\n",
    "\n",
    "public class Book {\n",
    "\n",
    "    private String title;\n",
    "    private String author;\n",
    "    private int pages;\n",
    "\n",
    "    public Book(String title, String author, int pages) {\n",
    "        this.title = title;\n",
    "        this.author = author;\n",
    "        this.pages = pages;\n",
    "    }\n",
    "\n",
    "    public void displayInfo() {\n",
    "        System.out.println(\"Title: \" + title);\n",
    "        System.out.println(\"Author: \" + author);\n",
    "        System.out.println(\"Pages: \" + pages);\n",
    "    }\n",
    "\n",
    "    public boolean isLong() {\n",
    "        return pages > 300;\n",
    "    }\n",
    "\n",
    "    public static void main(String[] args) {\n",
    "        Book myBook = new Book(\"Java Basics\", \"John Doe\", 350);\n",
    "        myBook.displayInfo();\n",
    "        System.out.println(\"Is the book long? \" + myBook.isLong());\n",
    "    }\n",
    "}\n",
    "\n",
    "Book.main(null);\n"
   ]
  },
  {
   "cell_type": "code",
   "execution_count": 12,
   "id": "b03296f1",
   "metadata": {},
   "outputs": [
    {
     "name": "stdout",
     "output_type": "stream",
     "text": [
      "Rohan added to contacts on iPhone 2000\n",
      "Pranav added to contacts on iPhone 2000\n",
      "Nikhil added to contacts on iPhone 2000\n",
      "Bob added to contacts on iPhone 100000\n",
      "Smith added to contacts on iPhone 100000\n",
      "JOE added to contacts on iPhone 100000\n",
      "iPhone 2000 used for 30 min. Battery now: 25.0%\n",
      "iPhone 100000 used for 50 min. Battery now: 0.0%\n",
      "Apple iPhone 2000 - Battery: 25.0%\n",
      "iPhone 2000 Contacts: [Rohan, Pranav, Nikhil]\n",
      "Samsung iPhone 100000 - Battery: 0.0%\n",
      "iPhone 100000 Contacts: [Bob, Smith, JOE]\n"
     ]
    }
   ],
   "source": [
    "// Homework Hack: Complete the Phone class\n",
    "\n",
    "import java.util.ArrayList;\n",
    "\n",
    "public class Phone {\n",
    "\n",
    "    private String brand;\n",
    "    private String model;\n",
    "    private double battery;\n",
    "    private ArrayList<String> contacts;\n",
    "\n",
    "    public Phone(String brand, String model, double battery) {\n",
    "        this.brand = brand;\n",
    "        this.model = model;\n",
    "        this.battery = battery;\n",
    "        this.contacts = new ArrayList<>();\n",
    "    }\n",
    "\n",
    "    public void displayInfo() {\n",
    "        System.out.println(brand + \" \" + model + \" - Battery: \" + battery + \"%\");\n",
    "    }\n",
    "\n",
    "    public void addContact(String name) {\n",
    "        contacts.add(name);\n",
    "        System.out.println(name + \" added to contacts on \" + model);\n",
    "    }\n",
    "\n",
    "    public void showContacts() {\n",
    "        System.out.println(model + \" Contacts: \" + contacts);\n",
    "    }\n",
    "\n",
    "    public void usePhone(int minutes) {\n",
    "        double drain = minutes * 0.5; \n",
    "        battery -= drain;\n",
    "        if (battery < 0) battery = 0;\n",
    "        System.out.println(model + \" used for \" + minutes + \" min. Battery now: \" + battery + \"%\");\n",
    "    }\n",
    "}\n",
    "\n",
    "public class PhoneTest {\n",
    "    public static void main(String[] args) {\n",
    "        Phone phone1 = new Phone(\"Apple\", \"iPhone 2000\", 40);\n",
    "        Phone phone2 = new Phone(\"Samsung\", \"iPhone 100000\", 3);\n",
    "\n",
    "        phone1.addContact(\"Rohan\");\n",
    "        phone1.addContact(\"Pranav\");\n",
    "        phone1.addContact(\"Nikhil\");\n",
    "\n",
    "        phone2.addContact(\"Bob\");\n",
    "        phone2.addContact(\"Smith\");\n",
    "        phone2.addContact(\"JOE\");\n",
    "\n",
    "        phone1.usePhone(30);\n",
    "        phone2.usePhone(50);\n",
    "\n",
    "        phone1.displayInfo();\n",
    "        phone1.showContacts();\n",
    "\n",
    "        phone2.displayInfo();\n",
    "        phone2.showContacts();\n",
    "    }\n",
    "}\n",
    "\n",
    "PhoneTest.main(null);\n"
   ]
  }
 ],
 "metadata": {
  "kernelspec": {
   "display_name": "Java",
   "language": "java",
   "name": "java"
  },
  "language_info": {
   "codemirror_mode": "java",
   "file_extension": ".jshell",
   "mimetype": "text/x-java-source",
   "name": "java",
   "pygments_lexer": "java",
   "version": "17.0.16+0"
  }
 },
 "nbformat": 4,
 "nbformat_minor": 5
}
