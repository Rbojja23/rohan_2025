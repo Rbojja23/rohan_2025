{
 "cells": [
  {
   "cell_type": "raw",
   "metadata": {
    "vscode": {
     "languageId": "raw"
    }
   },
   "source": [
    "---\n",
    "layout: post\n",
    "toc: true\n",
    "title: Digital Divide | Rohan Bojja\n",
    "type: issues \n",
    "comments: true\n",
    "---"
   ]
  },
  {
   "cell_type": "code",
   "execution_count": 1,
   "metadata": {
    "vscode": {
     "languageId": "javascript"
    }
   },
   "outputs": [
    {
     "data": {
      "application/javascript": "\n//CODE RAN PROPERLY\n\nfunction exploreDigitalDivide() {\n    // Select what data to display\n    const metric = prompt(\n      \"Which digital divide metric would you like to explore?\\n\" +\n      \"1: Income-based internet access\\n\" +\n      \"2: Urban vs rural access\\n\" +\n      \"3: Age-based internet usage\\n\" +\n      \"4: Global connectivity rates\"\n    );\n  \n    // Sample data\n    const incomeData = {\n      categories: [\"Lowest 20%\", \"Second 20%\", \"Middle 20%\", \"Fourth 20%\", \"Highest 20%\"],\n      values: [62, 71, 80, 88, 95]\n    };\n  \n    const locationData = {\n      categories: [\"Urban\", \"Rural\"],\n      values: [94, 83]\n    };\n  \n    const ageData = {\n      categories: [\"18-29\", \"30-49\", \"50-64\", \"65+\"],\n      values: [97, 93, 88, 61]\n    };\n  \n    const globalData = {\n      categories: [\"North America\", \"Europe\", \"Asia Pacific\", \"Latin America\", \"Middle East/Africa\"],\n      values: [90, 87, 54, 68, 40]\n    };\n  \n    // Select dataset based on user choice\n    let data;\n    let title;\n  \n    switch(metric) {\n      case \"1\":\n        data = incomeData;\n        title = \"Internet Access by Income Level (%)\";\n        break;\n      case \"2\":\n        data = locationData;\n        title = \"Urban vs Rural Internet Access (%)\";\n        break;\n      case \"3\":\n        data = ageData;\n        title = \"Internet Usage by Age Group (%)\";\n        break;\n      case \"4\":\n        data = globalData;\n        title = \"Internet Access by Region (%)\";\n        break;\n      default:\n        alert(\"Invalid selection!\");\n        return;\n    }\n  \n    // Display the data (in a real app, this would create a chart)\n    console.log(title);\n    console.log(\"=\".repeat(title.length));\n  \n    const maxValue = Math.max(...data.values);\n    const maxBarLength = 40;\n  \n    for (let i = 0; i < data.categories.length; i++) {\n      const barLength = Math.round((data.values[i] / maxValue) * maxBarLength);\n      const bar = \"█\".repeat(barLength);\n      console.log(`${data.categories[i].padEnd(12)}: ${bar} ${data.values[i]}%`);\n    }\n  }\n",
      "text/plain": [
       "<IPython.core.display.Javascript object>"
      ]
     },
     "metadata": {},
     "output_type": "display_data"
    }
   ],
   "source": [
    "%%js\n",
    "\n",
    "//CODE RAN PROPERLY\n",
    "\n",
    "function exploreDigitalDivide() {\n",
    "    // Select what data to display\n",
    "    const metric = prompt(\n",
    "      \"Which digital divide metric would you like to explore?\\n\" +\n",
    "      \"1: Income-based internet access\\n\" +\n",
    "      \"2: Urban vs rural access\\n\" +\n",
    "      \"3: Age-based internet usage\\n\" +\n",
    "      \"4: Global connectivity rates\"\n",
    "    );\n",
    "  \n",
    "    // Sample data\n",
    "    const incomeData = {\n",
    "      categories: [\"Lowest 20%\", \"Second 20%\", \"Middle 20%\", \"Fourth 20%\", \"Highest 20%\"],\n",
    "      values: [62, 71, 80, 88, 95]\n",
    "    };\n",
    "  \n",
    "    const locationData = {\n",
    "      categories: [\"Urban\", \"Rural\"],\n",
    "      values: [94, 83]\n",
    "    };\n",
    "  \n",
    "    const ageData = {\n",
    "      categories: [\"18-29\", \"30-49\", \"50-64\", \"65+\"],\n",
    "      values: [97, 93, 88, 61]\n",
    "    };\n",
    "  \n",
    "    const globalData = {\n",
    "      categories: [\"North America\", \"Europe\", \"Asia Pacific\", \"Latin America\", \"Middle East/Africa\"],\n",
    "      values: [90, 87, 54, 68, 40]\n",
    "    };\n",
    "  \n",
    "    // Select dataset based on user choice\n",
    "    let data;\n",
    "    let title;\n",
    "  \n",
    "    switch(metric) {\n",
    "      case \"1\":\n",
    "        data = incomeData;\n",
    "        title = \"Internet Access by Income Level (%)\";\n",
    "        break;\n",
    "      case \"2\":\n",
    "        data = locationData;\n",
    "        title = \"Urban vs Rural Internet Access (%)\";\n",
    "        break;\n",
    "      case \"3\":\n",
    "        data = ageData;\n",
    "        title = \"Internet Usage by Age Group (%)\";\n",
    "        break;\n",
    "      case \"4\":\n",
    "        data = globalData;\n",
    "        title = \"Internet Access by Region (%)\";\n",
    "        break;\n",
    "      default:\n",
    "        alert(\"Invalid selection!\");\n",
    "        return;\n",
    "    }\n",
    "  \n",
    "    // Display the data (in a real app, this would create a chart)\n",
    "    console.log(title);\n",
    "    console.log(\"=\".repeat(title.length));\n",
    "  \n",
    "    const maxValue = Math.max(...data.values);\n",
    "    const maxBarLength = 40;\n",
    "  \n",
    "    for (let i = 0; i < data.categories.length; i++) {\n",
    "      const barLength = Math.round((data.values[i] / maxValue) * maxBarLength);\n",
    "      const bar = \"█\".repeat(barLength);\n",
    "      console.log(`${data.categories[i].padEnd(12)}: ${bar} ${data.values[i]}%`);\n",
    "    }\n",
    "  }"
   ]
  },
  {
   "cell_type": "code",
   "execution_count": 2,
   "metadata": {
    "vscode": {
     "languageId": "javascript"
    }
   },
   "outputs": [
    {
     "data": {
      "application/javascript": "\n//CODE RAN PROPERLY\n\n// Bridge the Divide Challenge Game\nfunction bridgeTheDivideGame() {\n    console.log(\"===============================================\");\n    console.log(\"🌉 BRIDGE THE DIVIDE: Digital Inclusion Challenge\");\n    console.log(\"===============================================\");\n    console.log(\"You are a technology policy advisor tasked with\");\n    console.log(\"helping communities overcome the digital divide.\");\n    console.log(\"Analyze each scenario and make the best decision!\\n\");\n  \n    let score = 0;\n    const totalQuestions = 5;\n  \n    // Scenario 1\n    console.log(\"SCENARIO 1: Rural Connectivity\");\n    console.log(\"A rural community of 500 families is located 50 miles from\");\n    console.log(\"the nearest broadband infrastructure. You have $200,000\");\n    console.log(\"in funding. What's your best approach?\");\n    console.log(\"A: Lay fiber optic cable to each home\");\n    console.log(\"B: Set up a wireless tower system\");\n    console.log(\"C: Provide satellite internet subsidies\");\n    console.log(\"D: Create a community center with high-speed internet\");\n  \n    const answer1 = prompt(\"Your choice (A/B/C/D):\").toUpperCase();\n    if (answer1 === \"B\") {\n      console.log(\"✓ Correct! A wireless tower system provides the best\");\n      console.log(\"  coverage for the investment in this rural setting.\");\n      score++;\n    } else {\n      console.log(\"✗ The best answer is B. Fiber would be too expensive,\");\n      console.log(\"  satellite has high latency issues, and a single center\");\n      console.log(\"  wouldn't provide sufficient access for all families.\");\n    }\n  \n    // Scenario 2\n    console.log(\"\\nSCENARIO 2: Digital Literacy\");\n    console.log(\"An urban neighborhood has new affordable internet access,\");\n    console.log(\"but adoption remains low at 30%. Investigation reveals many\");\n    console.log(\"residents lack digital skills. What approach would help most?\");\n    console.log(\"A: Reduce internet prices further\");\n    console.log(\"B: Distribute free tablets to all residents\");\n    console.log(\"C: Launch digital literacy workshops at local library\");\n    console.log(\"D: Create a tech support hotline\");\n  \n    const answer2 = prompt(\"Your choice (A/B/C/D):\").toUpperCase();\n    if (answer2 === \"C\") {\n      console.log(\"✓ Correct! Digital literacy workshops address the\");\n      console.log(\"  root cause - lack of skills - rather than just\");\n      console.log(\"  providing more access or support.\");\n      score++;\n    } else {\n      console.log(\"✗ The best answer is C. The primary barrier isn't\");\n      console.log(\"  cost or device ownership, but skill development.\");\n      console.log(\"  Workshops provide hands-on learning opportunities.\");\n    }\n  \n    // Add more scenarios as needed...\n  \n    // Final score\n    console.log(\"\\n===============================================\");\n    console.log(`FINAL SCORE: ${score}/${totalQuestions}`);\n    console.log(\"===============================================\");\n  \n    if (score === totalQuestions) {\n      console.log(\"🏆 Perfect! You're a digital inclusion expert!\");\n    } else if (score >= totalQuestions * 0.7) {\n      console.log(\"🥈 Good job! You have strong understanding of digital divide issues.\");\n    } else if (score >= totalQuestions * 0.5) {\n      console.log(\"👍 Decent effort, but review some of the concepts again.\");\n    } else {\n      console.log(\"📚 You need more study on digital divide solutions.\");\n    }\n  }\n  \nbridgeTheDivideGame();\n",
      "text/plain": [
       "<IPython.core.display.Javascript object>"
      ]
     },
     "metadata": {},
     "output_type": "display_data"
    }
   ],
   "source": [
    "%%js \n",
    "\n",
    "//CODE RAN PROPERLY\n",
    "\n",
    "// Bridge the Divide Challenge Game\n",
    "function bridgeTheDivideGame() {\n",
    "    console.log(\"===============================================\");\n",
    "    console.log(\"🌉 BRIDGE THE DIVIDE: Digital Inclusion Challenge\");\n",
    "    console.log(\"===============================================\");\n",
    "    console.log(\"You are a technology policy advisor tasked with\");\n",
    "    console.log(\"helping communities overcome the digital divide.\");\n",
    "    console.log(\"Analyze each scenario and make the best decision!\\n\");\n",
    "  \n",
    "    let score = 0;\n",
    "    const totalQuestions = 5;\n",
    "  \n",
    "    // Scenario 1\n",
    "    console.log(\"SCENARIO 1: Rural Connectivity\");\n",
    "    console.log(\"A rural community of 500 families is located 50 miles from\");\n",
    "    console.log(\"the nearest broadband infrastructure. You have $200,000\");\n",
    "    console.log(\"in funding. What's your best approach?\");\n",
    "    console.log(\"A: Lay fiber optic cable to each home\");\n",
    "    console.log(\"B: Set up a wireless tower system\");\n",
    "    console.log(\"C: Provide satellite internet subsidies\");\n",
    "    console.log(\"D: Create a community center with high-speed internet\");\n",
    "  \n",
    "    const answer1 = prompt(\"Your choice (A/B/C/D):\").toUpperCase();\n",
    "    if (answer1 === \"B\") {\n",
    "      console.log(\"✓ Correct! A wireless tower system provides the best\");\n",
    "      console.log(\"  coverage for the investment in this rural setting.\");\n",
    "      score++;\n",
    "    } else {\n",
    "      console.log(\"✗ The best answer is B. Fiber would be too expensive,\");\n",
    "      console.log(\"  satellite has high latency issues, and a single center\");\n",
    "      console.log(\"  wouldn't provide sufficient access for all families.\");\n",
    "    }\n",
    "  \n",
    "    // Scenario 2\n",
    "    console.log(\"\\nSCENARIO 2: Digital Literacy\");\n",
    "    console.log(\"An urban neighborhood has new affordable internet access,\");\n",
    "    console.log(\"but adoption remains low at 30%. Investigation reveals many\");\n",
    "    console.log(\"residents lack digital skills. What approach would help most?\");\n",
    "    console.log(\"A: Reduce internet prices further\");\n",
    "    console.log(\"B: Distribute free tablets to all residents\");\n",
    "    console.log(\"C: Launch digital literacy workshops at local library\");\n",
    "    console.log(\"D: Create a tech support hotline\");\n",
    "  \n",
    "    const answer2 = prompt(\"Your choice (A/B/C/D):\").toUpperCase();\n",
    "    if (answer2 === \"C\") {\n",
    "      console.log(\"✓ Correct! Digital literacy workshops address the\");\n",
    "      console.log(\"  root cause - lack of skills - rather than just\");\n",
    "      console.log(\"  providing more access or support.\");\n",
    "      score++;\n",
    "    } else {\n",
    "      console.log(\"✗ The best answer is C. The primary barrier isn't\");\n",
    "      console.log(\"  cost or device ownership, but skill development.\");\n",
    "      console.log(\"  Workshops provide hands-on learning opportunities.\");\n",
    "    }\n",
    "  \n",
    "    // Add more scenarios as needed...\n",
    "  \n",
    "    // Final score\n",
    "    console.log(\"\\n===============================================\");\n",
    "    console.log(`FINAL SCORE: ${score}/${totalQuestions}`);\n",
    "    console.log(\"===============================================\");\n",
    "  \n",
    "    if (score === totalQuestions) {\n",
    "      console.log(\"🏆 Perfect! You're a digital inclusion expert!\");\n",
    "    } else if (score >= totalQuestions * 0.7) {\n",
    "      console.log(\"🥈 Good job! You have strong understanding of digital divide issues.\");\n",
    "    } else if (score >= totalQuestions * 0.5) {\n",
    "      console.log(\"👍 Decent effort, but review some of the concepts again.\");\n",
    "    } else {\n",
    "      console.log(\"📚 You need more study on digital divide solutions.\");\n",
    "    }\n",
    "  }\n",
    "  \n",
    "bridgeTheDivideGame();"
   ]
  },
  {
   "cell_type": "markdown",
   "metadata": {},
   "source": [
    "# Essay Question Answers (# 1, 2, 3)\n",
    "\n",
    "### **1. Three Aspects of the Digital Divide**  \n",
    "The digital divide consists of three main factors: device access, internet connectivity, and digital skills. Students without personal computers or tablets struggle to engage in online learning, especially in low-income households. Poor internet access, particularly in rural areas, limits students’ ability to use online resources like virtual classrooms. Additionally, a lack of digital literacy makes it harder for students to complete assignments that require internet-based research or technical skills.  \n",
    "\n",
    "### **2. Digital Divide in Urban vs. Rural Areas**  \n",
    "Urban and rural communities face different digital divide challenges. In cities, the main issue is affordability, as low-income families may not be able to pay for internet or devices despite having the infrastructure available. Rural areas, however, often lack broadband access, making remote learning difficult. Solutions include subsidized internet programs for urban families and government investment in expanding broadband in rural areas.  \n",
    "\n",
    "### **3. The Impact of COVID-19 on the Digital Divide**  \n",
    "The COVID-19 pandemic exposed and worsened digital inequities. Many students lacked the technology or reliable internet needed for remote learning, leading to academic setbacks. The closure of libraries and community centers also cut off access to free internet, leaving disadvantaged students without alternatives. Additionally, some teachers were unprepared for online instruction, making learning even more difficult for students with less tech-savvy educators."
   ]
  },
  {
   "cell_type": "markdown",
   "metadata": {},
   "source": [
    "![Sudan Screenshot]({{site.baseurl}}/images/Sudan.png)"
   ]
  },
  {
   "cell_type": "markdown",
   "metadata": {},
   "source": [
    "![Saudi Arabia Screenshot]({{site.baseurl}}/images/saudia.png)"
   ]
  },
  {
   "cell_type": "markdown",
   "metadata": {},
   "source": [
    "## Sudan\n",
    "\n",
    "Sudan's main digital divide lies in digital litereacy and internet speeds, which were caused by poltical instability. The implications that can occur as a result of this divide is lack of integration with the world economy, as technology is now vital to communicating with other economical powerhouses. Without this simple literacy, it becomes nearly impossible to interact with foreign investors.\n",
    "\n",
    "Stats:\n",
    "- Internet penetration: 19%\n",
    "- Mobile device access: 57%\n",
    "- Average Itnenet Speed: 15.4 Mbps\n",
    "- Digital Literacy: 26%\n",
    "\n",
    "Solution: One solution is creating community technology centers, sparsely, but impactfully. With classes on digital literacy taught by educated voulenteers, the digital literacy rate can increase from 26% to a hopeful 50% in due time. This communtiy center can also increase internet penetration from 31% to at least above 45%, as   access to the internet can be avialable at these centers. Finnaly, implementing center hotpsots, with portability, can increase internet speeds allowing for more efficent communication.\n",
    "\n",
    "\n",
    "## Saudi Arabia\n",
    "\n",
    "Saudi Arabia is already tehcnoligiccly advanced, with its internet penetration at 98%, very close to fulyl being accesible. However, its average intenet speed is lacking, in comparsion to being such a devleoped country. Therefore, the main digital divide is the Internet speed gap, which can cause implications, such as lack of efficent communication. Furthermore, this can cause misinofmration spread with misunderstandings, decrease in effeicncy of the goverment procceses, and even simple public communciation.\n",
    "\n",
    "Stats:\n",
    "- Internet penetration: 98%\n",
    "- Mobile device access: 97%\n",
    "- Average Itnenet Speed: 109.2 Mbps\n",
    "- Digital Literacy: 72%\n",
    "\n",
    "Solution: One solution is increased government funding in public center mobile hotposts, or increased bandwiths. By increased the amount of cell service towers, and wifi availabel in these city centers, the average internet speeds can increase. To do this, legislation can be passed with overall approval from the government, to order new communicty centers to be implemented, which will incoprorate tehcnology to increase wifi speeds. Wifi router companies cna also be invested in, the contribute to this problem."
   ]
  }
 ],
 "metadata": {
  "kernelspec": {
   "display_name": "venv",
   "language": "python",
   "name": "python3"
  },
  "language_info": {
   "codemirror_mode": {
    "name": "ipython",
    "version": 3
   },
   "file_extension": ".py",
   "mimetype": "text/x-python",
   "name": "python",
   "nbconvert_exporter": "python",
   "pygments_lexer": "ipython3",
   "version": "3.9.6"
  }
 },
 "nbformat": 4,
 "nbformat_minor": 2
}
