{
 "cells": [
  {
   "cell_type": "raw",
   "id": "b8d8b69f",
   "metadata": {
    "vscode": {
     "languageId": "raw"
    }
   },
   "source": [
    "---\n",
    "layout: post\n",
    "toc: true\n",
    "title: 1.12 Homework\n",
    "---"
   ]
  },
  {
   "cell_type": "code",
   "execution_count": 1,
   "id": "4a5d44ab",
   "metadata": {
    "vscode": {
     "languageId": "java"
    }
   },
   "outputs": [],
   "source": [
    "// TODO: Finish and run in your Java environment\n",
    "class Book {\n",
    "    String title;\n",
    "    int pages;\n",
    "\n",
    "    void printInfo() {\n",
    "        System.out.println(\"Title: \" + title + \", Pages: \" + pages);\n",
    "    }\n",
    "}\n",
    "\n",
    "class MainPopcorn {\n",
    "    public static void main(String[] args) {\n",
    "        Book myBook = new Book();\n",
    "        myBook.title = \"The Great Gatsby\";\n",
    "        myBook.pages = 180;\n",
    "        myBook.printInfo();\n",
    "    }\n",
    "}"
   ]
  },
  {
   "cell_type": "code",
   "execution_count": null,
   "id": "173ad44f",
   "metadata": {
    "vscode": {
     "languageId": "java"
    }
   },
   "outputs": [],
   "source": [
    "// ## Quick Self-Check (concepts)\n",
    "// 1. In one sentence, explain **class vs. object**.\n",
    "   // - A **class** is a blueprint for creating objects, defining their properties and behaviors, while an **object** is an instance of a class that represents a specific entity with its own state and behavior.\n",
    "\n",
    "// 2. What does a **reference variable** store?\n",
    "   //   - A **reference variable** stores the memory address of an object, allowing access to the object's properties and methods.\n",
    "\n",
    "   // 3. Name one method every object has because it extends **`Object`**.\n",
    "   //   - One method every object has is **`toString()`**, which returns a string representation of the object."
   ]
  },
  {
   "cell_type": "markdown",
   "id": "4aba089c",
   "metadata": {},
   "source": [
    "# Homework\n",
    "---\n",
    "# Scenario\n",
    "\n",
    "Its your first day of class when Mr. Mortenson asks you to identify all the students and list some characteristics about them. Create a class to use as a template to create student objects and create 3 imaginary students.\n",
    "---\n",
    "\n",
    "# Instructions\n",
    "1. **Create a class**\n",
    "    -    **Instance variables:**  \n",
    "    - `String name`  \n",
    "    - `int grade`  \n",
    "    - `int pets`  \n",
    "    - `int siblings`\n",
    "    - `MAKE YOUR OWN`\n",
    "\n",
    "2. **In `main`:**  \n",
    "    - Create three student objects.  \n"
   ]
  },
  {
   "cell_type": "code",
   "execution_count": 2,
   "id": "bd9502da",
   "metadata": {
    "vscode": {
     "languageId": "java"
    }
   },
   "outputs": [],
   "source": [
    "//Code Here\n",
    "\n",
    "public class StudentDemo {\n",
    "\n",
    "    // Define the Student class\n",
    "    static class Student {\n",
    "        // Instance variables\n",
    "        String name;\n",
    "        int grade;\n",
    "        int pets;\n",
    "        int siblings;\n",
    "        String favoriteSubject; // your own custom variable\n",
    "\n",
    "        // Constructor\n",
    "        Student(String name, int grade, int pets, int siblings, String favoriteSubject) {\n",
    "            this.name = name;\n",
    "            this.grade = grade;\n",
    "            this.pets = pets;\n",
    "            this.siblings = siblings;\n",
    "            this.favoriteSubject = favoriteSubject;\n",
    "        }\n",
    "\n",
    "        // Method to display student info\n",
    "        void displayInfo() {\n",
    "            System.out.println(\"Name: \" + name);\n",
    "            System.out.println(\"Grade: \" + grade);\n",
    "            System.out.println(\"Pets: \" + pets);\n",
    "            System.out.println(\"Siblings: \" + siblings);\n",
    "            System.out.println(\"Favorite Subject: \" + favoriteSubject);\n",
    "            System.out.println(\"--------------------------\");\n",
    "        }\n",
    "    }\n",
    "\n",
    "    // Main method\n",
    "    public static void main(String[] args) {\n",
    "        // Create three student objects\n",
    "        Student s1 = new Student(\"Ava\", 10, 1, 2, \"Biology\");\n",
    "        Student s2 = new Student(\"Liam\", 11, 0, 1, \"Computer Science\");\n",
    "        Student s3 = new Student(\"Sophia\", 9, 3, 0, \"History\");\n",
    "\n",
    "        // Display their information\n",
    "        s1.displayInfo();\n",
    "        s2.displayInfo();\n",
    "        s3.displayInfo();\n",
    "    }\n",
    "}\n"
   ]
  },
  {
   "cell_type": "markdown",
   "id": "a4f5f575",
   "metadata": {},
   "source": [
    "# New Scenario\n",
    "\n",
    "You find out that one of the students that you created an object for goes by a nickname. Using your knowledge of reference variables,  create another object that references back to the same student.\n",
    "---\n",
    "\n",
    "# Instructions\n",
    "1. **Use your previous code**\n",
    "\n",
    "\n",
    "2. **In `main`:**  \n",
    "    - Create a reference variable with a different name that points to the same student. \n",
    "    - Output the instance attributes of this student\n"
   ]
  },
  {
   "cell_type": "code",
   "execution_count": 3,
   "id": "0913155e",
   "metadata": {
    "vscode": {
     "languageId": "java"
    }
   },
   "outputs": [],
   "source": [
    "public class StudentDemo {\n",
    "\n",
    "    // Define the Student class\n",
    "    static class Student {\n",
    "        String name;\n",
    "        int grade;\n",
    "        int pets;\n",
    "        int siblings;\n",
    "        String favoriteSubject;\n",
    "\n",
    "        // Constructor\n",
    "        Student(String name, int grade, int pets, int siblings, String favoriteSubject) {\n",
    "            this.name = name;\n",
    "            this.grade = grade;\n",
    "            this.pets = pets;\n",
    "            this.siblings = siblings;\n",
    "            this.favoriteSubject = favoriteSubject;\n",
    "        }\n",
    "\n",
    "        // Display student info\n",
    "        void displayInfo() {\n",
    "            System.out.println(\"Name: \" + name);\n",
    "            System.out.println(\"Grade: \" + grade);\n",
    "            System.out.println(\"Pets: \" + pets);\n",
    "            System.out.println(\"Siblings: \" + siblings);\n",
    "            System.out.println(\"Favorite Subject: \" + favoriteSubject);\n",
    "            System.out.println(\"--------------------------\");\n",
    "        }\n",
    "    }\n",
    "\n",
    "    public static void main(String[] args) {\n",
    "        // Create three student objects\n",
    "        Student s1 = new Student(\"Ava\", 10, 1, 2, \"Biology\");\n",
    "        Student s2 = new Student(\"Liam\", 11, 0, 1, \"Computer Science\");\n",
    "        Student s3 = new Student(\"Sophia\", 9, 3, 0, \"History\");\n",
    "\n",
    "        // Create a reference variable pointing to the same student\n",
    "        Student nickname = s1;  // 'nickname' now refers to the same object as 's1'\n",
    "\n",
    "        // Change the name to reflect the nickname\n",
    "        nickname.name = \"A.J.\";\n",
    "\n",
    "        // Display using both references\n",
    "        System.out.println(\"Displaying s1 info:\");\n",
    "        s1.displayInfo();\n",
    "\n",
    "        System.out.println(\"Displaying nickname info (same object):\");\n",
    "        nickname.displayInfo();\n",
    "    }\n",
    "}\n"
   ]
  }
 ],
 "metadata": {
  "kernelspec": {
   "display_name": "Java",
   "language": "java",
   "name": "java"
  },
  "language_info": {
   "codemirror_mode": "java",
   "file_extension": ".jshell",
   "mimetype": "text/x-java-source",
   "name": "Java",
   "pygments_lexer": "java",
   "version": "17.0.16+0"
  }
 },
 "nbformat": 4,
 "nbformat_minor": 5
}
