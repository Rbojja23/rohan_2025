{
 "cells": [
  {
   "cell_type": "raw",
   "id": "d5bb938b",
   "metadata": {
    "vscode": {
     "languageId": "raw"
    }
   },
   "source": [
    "---\n",
    "layout: post\n",
    "toc: true\n",
    "title: Object Creation and Storage (Instantiation)\n",
    "---"
   ]
  },
  {
   "cell_type": "markdown",
   "id": "3175b61f",
   "metadata": {},
   "source": [
    "## Memory Allocation: Stack and Heap\n",
    "\n",
    "In Java, memory allocation for variables occurs in two main areas: the stack and the heap."
   ]
  },
  {
   "cell_type": "markdown",
   "id": "fe2cdad3",
   "metadata": {},
   "source": [
    "### Stack Memory\n",
    "\n",
    "Stack memory is a region of memory that stores temporary variables created by each function (including the main function). It is managed by the execution stack and follows a last-in-first-out (LIFO) order.\n",
    "\n",
    "- Stores primitive data types and references to objects.\n",
    "- Memory is allocated in a last-in-first-out (LIFO) manner.\n",
    "- Each thread has its own stack, ensuring thread safety.\n",
    "\n",
    "Example:\n",
    "```java\n",
    "int number = 100; // Stored in the stack\n",
    "```\n",
    "\n",
    "\n",
    "#### Stack Variables Tips\n",
    "\n",
    "College Board often asks questions about stack usage.\n",
    "\n",
    "- Since primitives are always on the stack, they point directly to the content. This is best observed in a debugger.\n",
    "- A reference type contains an address to the content on the stack.\n",
    "- Passing a stack variable to a method creates a copy of the content of that variable.\n",
    "- Changes to the content of a primitive type will not return back to the method caller; this is called pass-by-value.\n",
    "- Since a reference type contains an address to the heap, the reference is copied when calling a method. This is called pass-by-reference, as data type changes are then performed according to the reference.\n"
   ]
  },
  {
   "cell_type": "markdown",
   "id": "ef935527",
   "metadata": {},
   "source": [
    "### Heap Memory\n",
    "\n",
    "Heap memory is a region of memory used for dynamic memory allocation. It is managed by Java's memory management system.\n",
    "\n",
    "- Used for storing objects and arrays.\n",
    "- Shared among all threads, requiring synchronization for thread safety.\n",
    "- Managed by thea garbage collector, which reclaims memory when objects are no longer in use.\n",
    "\n",
    "Example:\n",
    "```java\n",
    "// Long form showing new\n",
    "String message = new String(\"Hello\");\n",
    "\n",
    "// Short form Java performs new find the scenes\n",
    "String message = \"Hello\";\n",
    "```\n",
    "\n",
    "### Heap Variables Tips\n",
    "\n",
    "- Heap variables stay alive as long as a stack variable points to them.\n",
    "- By nature, all reference data types refer to an address on the stack but change content on the heap.\n",
    "- Objects created in the heap are globally accessible and can be shared among multiple methods, this creates concurrency issues when programming.\n",
    "- The garbage collector automatically reclaims memory from objects that are no longer referenced, helping to prevent memory leaks."
   ]
  },
  {
   "cell_type": "markdown",
   "id": "26e7c7ed",
   "metadata": {},
   "source": [
    "## Popcorn Hack: literal vs input\n",
    "\n",
    "A value that is directly in code is called a literal.  Often developers will say this value is hard coded value.\n",
    "- Literal: In source code representation of a fixed value, e.g. 17. A hard coded number.\n",
    "- String Literal: In sourced code set of letters within quotes, e.g. \"blue\", A hard coded string.\n",
    "\n",
    "Q1: Define some literal data.\n",
    "Q2: Obtain that data from input versus hard coded."
   ]
  },
  {
   "cell_type": "code",
   "execution_count": 1,
   "id": "9153fe57",
   "metadata": {},
   "outputs": [],
   "source": [
    "// Hard code literal values\n",
    "\n",
    "int literalAge = 17;\n",
    "String literalFavoriteColor = \"blue\";"
   ]
  },
  {
   "cell_type": "code",
   "execution_count": 2,
   "id": "6de75c50",
   "metadata": {},
   "outputs": [
    {
     "name": "stdout",
     "output_type": "stream",
     "text": [
      "Enter age\n",
      "My Age is: 16\n"
     ]
    }
   ],
   "source": [
    "// Input your age\n",
    "Scanner scanObj = new Scanner(System.in);  // Create a Scanner object\n",
    "System.out.println(\"Enter age\");\n",
    "int inputAge = scanObj.nextInt();  // Read user input\n",
    "System.out.println(\"My Age is: \" + inputAge);  // Output user input"
   ]
  },
  {
   "cell_type": "markdown",
   "id": "77232858",
   "metadata": {},
   "source": [
    "## Popcorn Hack: pass-by-value, pass-by-reference\n",
    "For College Articulation in Data Structures and College Board AP Exam you will need to understand pass-by-value and pass-br-reference.  \n",
    "\n",
    "- If you pass primitives to a method they WILL NOT change the callers value.\n",
    "- If you wrap the primitive in a refrence type, in the example below using a class, then you can change the original.\n",
    "\n",
    "Q1: Describe approache difference between IntByValue and IntByReference.\n",
    "Q2: Try to make a changeInt method that change would persist after it is called.  Be careful, this will require a change in approach. "
   ]
  },
  {
   "cell_type": "code",
   "execution_count": 3,
   "id": "59f659d6",
   "metadata": {},
   "outputs": [
    {
     "name": "stdout",
     "output_type": "stream",
     "text": [
      "Main method before changeInt(n): n = 5\n",
      "In changeInt method\n",
      "\tBefore n += 10: n = 5\n",
      "\tAfter n += 10: n = 15\n",
      "Main method after changeInt(n): n = 5\n"
     ]
    }
   ],
   "source": [
    "public class IntByValue {\n",
    "    \n",
    "    public static void changeInt(int n) {\n",
    "        System.out.println(\"In changeInt method\");\n",
    "        System.out.println(\"\\tBefore n += 10: n = \" + n); // prints 5\n",
    "        n = n += 10;\n",
    "        System.out.println(\"\\tAfter n += 10: n = \" + n); // prints 10\n",
    "    }\n",
    "\n",
    "    public static void main(String[] args) {\n",
    "        int n = 5;\n",
    "        System.out.println(\"Main method before changeInt(n): n = \" + n); // prints 5\n",
    "        changeInt(n);\n",
    "        System.out.println(\"Main method after changeInt(n): n = \" + n); // still prints 5\n",
    "    }\n",
    "}\n",
    "IntByValue.main(null);"
   ]
  },
  {
   "cell_type": "code",
   "execution_count": 4,
   "id": "621e8edf",
   "metadata": {},
   "outputs": [
    {
     "name": "stdout",
     "output_type": "stream",
     "text": [
      "Before: 21 16\n",
      "After: 16 21\n",
      "\n",
      "Before: 16 21\n",
      "After: 16 21\n",
      "\n",
      "Before: 16 -1\n",
      "After: -1 16\n",
      "\n"
     ]
    }
   ],
   "source": [
    "public class IntByReference {\n",
    "    private int value;\n",
    "\n",
    "    public IntByReference(Integer value) {\n",
    "        this.value = value;\n",
    "    }\n",
    "\n",
    "    public String toString() {\n",
    "        return (String.format(\"%d\", this.value));\n",
    "    }\n",
    "\n",
    "    public void swapToLowHighOrder(IntByReference i) {\n",
    "        if (this.value > i.value) {\n",
    "            int tmp = this.value;\n",
    "            this.value = i.value;\n",
    "            i.value = tmp;\n",
    "        }\n",
    "    }\n",
    "\n",
    "    public static void swapper(int n0, int n1) {\n",
    "        IntByReference a = new IntByReference(n0);\n",
    "        IntByReference b = new IntByReference(n1);\n",
    "        System.out.println(\"Before: \" + a + \" \" + b);\n",
    "        a.swapToLowHighOrder(b);  // conditionally build swap method to change values of a, b\n",
    "        System.out.println(\"After: \" + a + \" \" + b);\n",
    "        System.out.println();\n",
    "    }\n",
    "\n",
    "    public static void main(String[] ags) {\n",
    "        IntByReference.swapper(21, 16);\n",
    "        IntByReference.swapper(16, 21);\n",
    "        IntByReference.swapper(16, -1);\n",
    "    }\n",
    "\n",
    "}\n",
    "IntByReference.main(null);"
   ]
  },
  {
   "cell_type": "code",
   "execution_count": 5,
   "id": "a9d5143b",
   "metadata": {},
   "outputs": [],
   "source": [
    "public class MemoryDemo {\n",
    "    public static void main(String[] args) {\n",
    "        // Stack variables\n",
    "        int a = 10;\n",
    "        int b = a;  // Copy of value\n",
    "        b = 20;     // Changing b doesn't affect a\n",
    "        \n",
    "        System.out.println(\"Primitives (Stack):\");\n",
    "        System.out.println(\"a = \" + a);  // Still 10\n",
    "        System.out.println(\"b = \" + b);  // Now it's 20\n",
    "        \n",
    "        // Heap variables\n",
    "        int[] array1 = {1, 2, 3};\n",
    "        int[] array2 = array1;  // Copy of reference (address)\n",
    "        array2[0] = 99;         // Changing array2 DOES affect array1\n",
    "        \n",
    "        System.out.println(\"\\nArrays (Heap):\");\n",
    "        System.out.println(\"array1[0] = \" + array1[0]);  // Now it's 99!\n",
    "        System.out.println(\"array2[0] = \" + array2[0]);  // Also 99\n",
    "    }\n",
    "}"
   ]
  },
  {
   "cell_type": "code",
   "execution_count": 6,
   "id": "9fb8fbc5",
   "metadata": {},
   "outputs": [],
   "source": [
    "// Because they are both primitive values. When you set one equal to the other, now they are independent copies of the same value. Changing one does not affect the other.\n",
    "// But the arrays are refrence types. When you set one equal to the other, now they both point to the same array in memory. Changing one affects the other because they are both references to the same underlying data.\n",
    "\n",
    "// The values are in the stack, while the arrays are in stack + heap"
   ]
  },
  {
   "cell_type": "code",
   "execution_count": 1,
   "id": "d9a56571",
   "metadata": {},
   "outputs": [],
   "source": [
    "public class PersonDemo {\n",
    "    static class Person {\n",
    "        String name;\n",
    "        int age;\n",
    "        \n",
    "        Person(String name, int age) {\n",
    "            this.name = name;\n",
    "            this.age = age;\n",
    "        }\n",
    "    }\n",
    "    \n",
    "    public static void haveBirthday(Person p) {\n",
    "        p.age = p.age + 1;  // Modifying object content\n",
    "        System.out.println(\"Inside method: \" + p.name + \" is now \" + p.age);\n",
    "    }\n",
    "    \n",
    "    public static void reassignPerson(Person p) {\n",
    "        p = new Person(\"New Person\", 99);  // Reassigning reference\n",
    "        System.out.println(\"Inside reassign: \" + p.name + \" is \" + p.age);\n",
    "    }\n",
    "    \n",
    "    public static void main(String[] args) {\n",
    "        Person john = new Person(\"John\", 20);\n",
    "        \n",
    "        System.out.println(\"Before birthday: \" + john.name + \" is \" + john.age);\n",
    "        haveBirthday(john);\n",
    "        System.out.println(\"After birthday: \" + john.name + \" is \" + john.age);\n",
    "        \n",
    "        System.out.println(\"\\nBefore reassign: \" + john.name + \" is \" + john.age);\n",
    "        reassignPerson(john);\n",
    "        System.out.println(\"After reassign: \" + john.name + \" is \" + john.age);\n",
    "    }\n",
    "}"
   ]
  },
  {
   "cell_type": "code",
   "execution_count": null,
   "id": "44f9c141",
   "metadata": {},
   "outputs": [],
   "source": [
    "//21\n",
    "//John\n",
    "//Modifying means changing the parameters of that obbject, while reassigning means relocalizing the parameter to a new object."
   ]
  },
  {
   "cell_type": "code",
   "execution_count": 2,
   "id": "16285d47",
   "metadata": {},
   "outputs": [],
   "source": [
    "// Homework Hack #1: Object Creation Practice\n",
    "\n",
    "public class ObjectCreation {\n",
    "    public static void main(String[] args) {\n",
    "        // 1. Create two Car objects using 'new'\n",
    "        Car car1 = new Car(\"Tesla\", 2024);\n",
    "        Car car2 = new Car(\"Ford\", 2020);\n",
    "\n",
    "        // 2. Print each car's info\n",
    "        System.out.println(car1);\n",
    "        System.out.println(car2);\n",
    "    }\n",
    "}\n",
    "\n",
    "class Car {\n",
    "    // 1. Declare variables: brand, year\n",
    "    private String brand;\n",
    "    private int year;\n",
    "\n",
    "\n",
    "    // 2. Create a constructor to set those variables\n",
    "    public Car(String brand, int year) {\n",
    "        this.brand = brand;\n",
    "        this.year = year;\n",
    "    }\n",
    "\n",
    "    // 3. Add a method or toString() to display car info\n",
    "    public String toString() {\n",
    "        return \"Car{\" +\n",
    "                \"brand='\" + brand + '\\'' +\n",
    "                \", year=\" + year +\n",
    "                '}';\n",
    "    }\n",
    "}"
   ]
  },
  {
   "cell_type": "code",
   "execution_count": 3,
   "id": "78b2db0a",
   "metadata": {},
   "outputs": [],
   "source": [
    "// Homework Hack #2: Heap vs Stack Storage Demo\n",
    "\n",
    "public class HeapVsStack {\n",
    "    public static void main(String[] args) {\n",
    "        // 1. Create a primitive variable (int pages)\n",
    "        int pages = 100;\n",
    "        // 2. Create another primitive variable that copies it\n",
    "        int copiedPages = pages;\n",
    "        \n",
    "        // 3. Create a Book object (Book b1 = new Book(\"Java Basics\");)\n",
    "        Book b1 = new Book(\"Java Basics\");\n",
    "\n",
    "        // 4. Create another Book reference (Book b2 = b1;)\n",
    "        Book b2 = b1;\n",
    "\n",
    "        // 5. Change the original primitive and the Book title\n",
    "        pages = 200;\n",
    "        b2.setTitle(\"Advanced Java\");\n",
    "\n",
    "        // 6. Print both sets of values to compare behavior\n",
    "        System.out.println(\"Original Pages: \" + pages);\n",
    "        System.out.println(\"Copied Pages: \" + copiedPages);\n",
    "        System.out.println(\"Book 1 Title: \" + b1);\n",
    "        System.out.println(\"Book 2 Title: \" + b2);\n",
    "    }\n",
    "}\n",
    "\n",
    "class Book {\n",
    "    // 1. Declare variable: String title\n",
    "    private String title;\n",
    "    public Book(String title) {\n",
    "        this.title = title;\n",
    "    }\n",
    "    \n",
    "    // 2. Create a constructor to set the title\n",
    "    \n",
    "    // 3. Create a toString() to show the title\n",
    "    public String toString() {\n",
    "        return title;\n",
    "    }\n",
    "}"
   ]
  }
 ],
 "metadata": {
  "kernelspec": {
   "display_name": "Java",
   "language": "java",
   "name": "java"
  },
  "language_info": {
   "codemirror_mode": "java",
   "file_extension": ".jshell",
   "mimetype": "text/x-java-source",
   "name": "java",
   "pygments_lexer": "java",
   "version": "17.0.16+0"
  }
 },
 "nbformat": 4,
 "nbformat_minor": 5
}
