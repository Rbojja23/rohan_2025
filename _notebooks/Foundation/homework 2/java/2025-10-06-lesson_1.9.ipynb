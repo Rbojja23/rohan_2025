{
 "cells": [
  {
   "cell_type": "raw",
   "id": "a46ac0ed",
   "metadata": {
    "vscode": {
     "languageId": "raw"
    }
   },
   "source": [
    "---\n",
    "layout: post\n",
    "toc: true\n",
    "title:  Lesson 1.9 - Rohan Bojja\n",
    "type: issues \n",
    "permalink: /lessons_1.9/\n",
    "---"
   ]
  },
  {
   "cell_type": "code",
   "execution_count": 5,
   "id": "f69a2e19",
   "metadata": {
    "vscode": {
     "languageId": "java"
    }
   },
   "outputs": [],
   "source": [
    "public class PopcornMax {\n",
    "    public static int max(int a, int b) {\n",
    "        if (a > b) {\n",
    "            return a;\n",
    "        } else {\n",
    "            return b;\n",
    "        }\n",
    "    }\n",
    "    public static double max(double a, double b) {\n",
    "        if (a > b) {\n",
    "            return a;\n",
    "        } else {\n",
    "            return b;\n",
    "        }\n",
    "    }\n",
    "\n",
    "    public static void main(String[] args) {\n",
    "        System.out.println(max(3, 9));      // expected: 9\n",
    "        System.out.println(max(-2, -7));    // expected: -2\n",
    "        System.out.println(max(3.5, 2.9));  // expected: 3.5\n",
    "        System.out.println(max(2, 2.0));    // should call double version → 2.0\n",
    "    }\n",
    "}"
   ]
  },
  {
   "cell_type": "code",
   "execution_count": 6,
   "id": "c0850856",
   "metadata": {
    "vscode": {
     "languageId": "java"
    }
   },
   "outputs": [],
   "source": [
    "public class PopcornPrint {    public static void print(int n) {\n",
    "        System.out.println(\"int:\" + n);\n",
    "    }\n",
    "\n",
    "    public static void print(String s) {\n",
    "        System.out.println(\"str:\" + s);\n",
    "    }\n",
    "\n",
    "    public static void main(String[] args) {\n",
    "        print(42);          // expected: int:42\n",
    "        print(\"hello\");     // expected: str:hello\n",
    "        print('A' + \"!\");   // char + String → String → expected: str:A!\n",
    "    }\n",
    "}\n"
   ]
  },
  {
   "cell_type": "code",
   "execution_count": 12,
   "id": "4a8ee2d9",
   "metadata": {
    "vscode": {
     "languageId": "java"
    }
   },
   "outputs": [],
   "source": [
    "//Short Answer #1\n",
    "\n",
    "//Because their parameter lists are identical, and return type alone doesn’t distinguish overloaded methods — the compiler can’t tell which to call.\n",
    "\n",
    "//Short Answer #2\n",
    "\n",
    "// Parameters are variables in the method definition, while arguments are the actual values passed to the method when it’s called."
   ]
  },
  {
   "cell_type": "code",
   "execution_count": 11,
   "id": "44bbe66d",
   "metadata": {
    "vscode": {
     "languageId": "java"
    }
   },
   "outputs": [],
   "source": [
    "// Coding Tasl #1\n",
    "\n",
    "public class AbsExample {\n",
    "    public static int abs(int x) {\n",
    "        return (x < 0) ? -x : x;\n",
    "    }\n",
    "\n",
    "    public static double abs(double x) {\n",
    "        return (x < 0) ? -x : x;\n",
    "    }\n",
    "\n",
    "    public static long abs(long x) {\n",
    "        return (x < 0) ? -x : x;\n",
    "    }\n",
    "}"
   ]
  },
  {
   "cell_type": "code",
   "execution_count": 10,
   "id": "ba154913",
   "metadata": {
    "vscode": {
     "languageId": "java"
    }
   },
   "outputs": [],
   "source": [
    "// Coding Task #2\n",
    "\n",
    "public class ConcatExample {\n",
    "    public static String concat(String a, String b) {\n",
    "        return a + b;\n",
    "    }\n",
    "\n",
    "    public static String concat(String a, int n) {\n",
    "        String result = \"\";\n",
    "        for (int i = 0; i < n; i++) {\n",
    "            result += a;\n",
    "        }\n",
    "        return result;\n",
    "    }\n",
    "\n",
    "    public static void main(String[] args) {\n",
    "        System.out.println(concat(\"Hi\", \"There\"));  // HiThere\n",
    "        System.out.println(concat(\"Yo\", 3));        // YoYoYo\n",
    "    }\n",
    "}\n"
   ]
  },
  {
   "cell_type": "code",
   "execution_count": 9,
   "id": "49f01a45",
   "metadata": {
    "vscode": {
     "languageId": "java"
    }
   },
   "outputs": [
    {
     "name": "stdout",
     "output_type": "stream",
     "text": [
      "int\n",
      "long\n",
      "double\n"
     ]
    }
   ],
   "source": [
    "// Coding Task #3\n",
    "\n",
    "static void show(int x) { System.out.println(\"int\"); }\n",
    "static void show(double x) { System.out.println(\"double\"); }\n",
    "static void show(long x) { System.out.println(\"long\"); }\n",
    "\n",
    "show(7);\n",
    "show(7L);\n",
    "show(7.0);\n"
   ]
  },
  {
   "cell_type": "code",
   "execution_count": 8,
   "id": "b7b8ca79",
   "metadata": {
    "vscode": {
     "languageId": "java"
    }
   },
   "outputs": [],
   "source": [
    "// FRQ #1\n",
    "\n",
    "public class StringFinder {\n",
    "    // index of a single character\n",
    "    public static int indexOf(char target, String s) {\n",
    "        for (int i = 0; i < s.length(); i++) {\n",
    "            if (s.charAt(i) == target) {\n",
    "                return i;\n",
    "            }\n",
    "        }\n",
    "        return -1;\n",
    "    }\n",
    "\n",
    "    // index of a substring\n",
    "    public static int indexOf(String target, String s) {\n",
    "        int tLen = target.length();\n",
    "        for (int i = 0; i <= s.length() - tLen; i++) {\n",
    "            if (s.substring(i, i + tLen).equals(target)) {\n",
    "                return i;\n",
    "            }\n",
    "        }\n",
    "        return -1;\n",
    "    }\n",
    "\n",
    "    public static void main(String[] args) {\n",
    "        System.out.println(indexOf('a', \"banana\"));   // 1\n",
    "        System.out.println(indexOf(\"ana\", \"banana\")); // 1\n",
    "    }\n",
    "}"
   ]
  },
  {
   "cell_type": "code",
   "execution_count": 7,
   "id": "e1e90d05",
   "metadata": {
    "vscode": {
     "languageId": "java"
    }
   },
   "outputs": [],
   "source": [
    "// FRQ #2\n",
    "\n",
    "public class ClampExample {\n",
    "    public static int clamp(int value, int low, int high) {\n",
    "        if (low > high) { int temp = low; low = high; high = temp; }\n",
    "        if (value < low) return low;\n",
    "        if (value > high) return high;\n",
    "        return value;\n",
    "    }\n",
    "\n",
    "    public static double clamp(double value, double low, double high) {\n",
    "        if (low > high) { double temp = low; low = high; high = temp; }\n",
    "        if (value < low) return low;\n",
    "        if (value > high) return high;\n",
    "        return value;\n",
    "    }\n",
    "\n",
    "    public static void main(String[] args) {\n",
    "        System.out.println(clamp(15, 0, 10));     // 10\n",
    "        System.out.println(clamp(5.5, 0, 10));    // 5.5\n",
    "        System.out.println(clamp(5, 10, 0));      // 5 (swaps bounds)\n",
    "    }\n",
    "}\n"
   ]
  }
 ],
 "metadata": {
  "kernelspec": {
   "display_name": "Java",
   "language": "java",
   "name": "java"
  },
  "language_info": {
   "codemirror_mode": "java",
   "file_extension": ".jshell",
   "mimetype": "text/x-java-source",
   "name": "Java",
   "pygments_lexer": "java",
   "version": "17.0.16+0"
  }
 },
 "nbformat": 4,
 "nbformat_minor": 5
}
