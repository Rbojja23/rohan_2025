{
 "cells": [
  {
   "cell_type": "raw",
   "id": "a46ac0ed",
   "metadata": {
    "vscode": {
     "languageId": "raw"
    }
   },
   "source": [
    "---\n",
    "layout: post\n",
    "toc: true\n",
    "title:  Lesson 1.4 - Rohan Bojja\n",
    "type: issues \n",
    "permalink: /lessons_1.4/\n",
    "---"
   ]
  },
  {
   "cell_type": "code",
   "execution_count": 6,
   "id": "73289666",
   "metadata": {
    "vscode": {
     "languageId": "java"
    }
   },
   "outputs": [],
   "source": [
    "// int x = 10;     // x is first assigned the value 10\n",
    "// x = 20;         // x is then updated to 20, replacing the old value\n",
    "// int y = x;      // y is assigned the current value of x, which is 20\n",
    "// Final value of y: 20"
   ]
  },
  {
   "cell_type": "code",
   "execution_count": null,
   "id": "7aef33e3",
   "metadata": {
    "vscode": {
     "languageId": "java"
    }
   },
   "outputs": [],
   "source": [
    "// int count = \"hello\";  // ❌ This causes a compile-time error.\n",
    "// Reason: \"hello\" is a String, not an int. Java is strongly typed, so you can’t assign text to a number variable.\n",
    "// This behavior is helpful because it prevents type mistakes before the program runs, making code safer and more reliable.\n"
   ]
  },
  {
   "cell_type": "code",
   "execution_count": 5,
   "id": "51743604",
   "metadata": {
    "vscode": {
     "languageId": "java"
    }
   },
   "outputs": [],
   "source": [
    "// Popcorn Hack 2.1: Input Validation\n",
    "// If a user types \"twenty\" when nextInt() expects a number, the program crashes with an InputMismatchException.\n",
    "// To make the program more robust, you can use try-catch blocks or check input with hasNextInt() before reading it."
   ]
  },
  {
   "cell_type": "code",
   "execution_count": 4,
   "id": "453b4b29",
   "metadata": {
    "vscode": {
     "languageId": "java"
    }
   },
   "outputs": [],
   "source": [
    "// Popcorn Hack 2.2: Token vs Line\n",
    "// If a user enters \"San Diego\" when next() is called, only \"San\" is stored (it stops at the space).\n",
    "// With nextLine(), the entire line \"San Diego\" is stored."
   ]
  },
  {
   "cell_type": "code",
   "execution_count": 3,
   "id": "e19756bb",
   "metadata": {
    "vscode": {
     "languageId": "java"
    }
   },
   "outputs": [],
   "source": [
    "// Assuming the example code is something like:\n",
    "// Scanner input = new Scanner(System.in);\n",
    "// System.out.print(\"Enter name: \");\n",
    "// String name = input.nextLine();\n",
    "// System.out.print(\"Enter age: \");\n",
    "// int age = input.nextInt();\n",
    "// System.out.print(\"Enter GPA: \");\n",
    "// double gpa = input.nextDouble();\n",
    "// System.out.println(\"Name: \" + name + \", Age: \" + age + \", GPA: \" + gpa);\n",
    "\n",
    "// User inputs:\n",
    "// Name: Alice Wonderland\n",
    "// Age: 20\n",
    "// GPA: 3.85\n",
    "\n",
    "// Exact output:\n",
    "//Enter name: Enter age: Enter GPA: Name: Alice Wonderland, Age: 20, GPA: 3.85\n"
   ]
  },
  {
   "cell_type": "code",
   "execution_count": null,
   "id": "c5f53897",
   "metadata": {
    "vscode": {
     "languageId": "java"
    }
   },
   "outputs": [],
   "source": [
    "import java.util.Scanner;\n",
    "\n",
    "public class ThreeNumberAverage {\n",
    "    public static void main(String[] args) {\n",
    "        Scanner input = new Scanner(System.in);\n",
    "\n",
    "        System.out.print(\"Enter first number: \");\n",
    "        int num1 = input.nextInt();\n",
    "\n",
    "        System.out.print(\"Enter second number: \");\n",
    "        int num2 = input.nextInt();\n",
    "\n",
    "        System.out.print(\"Enter third number: \");\n",
    "        int num3 = input.nextInt();\n",
    "\n",
    "        double average = (double)(num1 + num2 + num3) / 3;\n",
    "\n",
    "        System.out.printf(\"Average: %.2f\\n\", average);\n",
    "\n",
    "        input.close();\n",
    "    }\n",
    "}"
   ]
  },
  {
   "cell_type": "code",
   "execution_count": null,
   "id": "eab22961",
   "metadata": {
    "vscode": {
     "languageId": "java"
    }
   },
   "outputs": [
    {
     "name": "stdout",
     "output_type": "stream",
     "text": [
      "x is equal to 5\n"
     ]
    }
   ],
   "source": [
    "int x = 5;\n",
    "\n",
    "if (x == 5) {\n",
    "    System.out.println(\"x is equal to 5\");\n",
    "}"
   ]
  }
 ],
 "metadata": {
  "kernelspec": {
   "display_name": "Java",
   "language": "java",
   "name": "java"
  },
  "language_info": {
   "codemirror_mode": "java",
   "file_extension": ".jshell",
   "mimetype": "text/x-java-source",
   "name": "Java",
   "pygments_lexer": "java",
   "version": "17.0.16+0"
  }
 },
 "nbformat": 4,
 "nbformat_minor": 5
}
