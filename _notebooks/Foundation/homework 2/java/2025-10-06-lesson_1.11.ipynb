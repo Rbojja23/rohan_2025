{
 "cells": [
  {
   "cell_type": "raw",
   "id": "a46ac0ed",
   "metadata": {
    "vscode": {
     "languageId": "raw"
    }
   },
   "source": [
    "---\n",
    "layout: post\n",
    "toc: true\n",
    "title:  Lesson 1.11 - Rohan Bojja\n",
    "type: issues \n",
    "permalink: /lessons_1.11/\n",
    "---"
   ]
  },
  {
   "cell_type": "code",
   "execution_count": null,
   "id": "02733a11",
   "metadata": {},
   "outputs": [],
   "source": [
    "public class PowerCalculator {\n",
    "    public static void main(String[] args) {\n",
    "        // Base power and level (you can change level or make it user input)\n",
    "        double basePower = 100;\n",
    "        int level = 10;  // you can replace this with user input if desired\n",
    "\n",
    "        // Calculate final power using the formula: basePower * (1.2)^level\n",
    "        double finalPower = basePower * Math.pow(1.2, level);\n",
    "\n",
    "        // Print results\n",
    "        System.out.println(\"Level: \" + level);\n",
    "        System.out.println(\"Base Power: \" + basePower);\n",
    "        System.out.printf(\"Final Power: %.2f\\n\", finalPower);\n",
    "    }\n",
    "}\n"
   ]
  }
 ],
 "metadata": {
  "kernelspec": {
   "display_name": "Java",
   "language": "java",
   "name": "java"
  },
  "language_info": {
   "codemirror_mode": "java",
   "file_extension": ".jshell",
   "mimetype": "text/x-java-source",
   "name": "java",
   "pygments_lexer": "java",
   "version": "17.0.16+0"
  }
 },
 "nbformat": 4,
 "nbformat_minor": 5
}
