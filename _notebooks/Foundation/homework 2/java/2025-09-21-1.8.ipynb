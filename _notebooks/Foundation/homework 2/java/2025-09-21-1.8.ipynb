{
 "cells": [
  {
   "cell_type": "raw",
   "id": "d886c8cb",
   "metadata": {
    "vscode": {
     "languageId": "raw"
    }
   },
   "source": [
    "---\n",
    "layout: post\n",
    "toc: true\n",
    "title: Documentation with Comments\n",
    "---"
   ]
  },
  {
   "cell_type": "markdown",
   "id": "e2d94e01",
   "metadata": {
    "vscode": {
     "languageId": "plaintext"
    }
   },
   "source": [
    "# CSA Unit 1.8: Documentation with Comments\\n\",\n",
    "\n",
    "## Lesson Plan\n",
    "\n",
    "**Learning Objectives:**\n",
    "- Understand the purpose and importance of code documentation\n",
    "- Master Javadoc comment syntax and structure\n",
    "- Learn to write effective preconditions and postconditions\n",
    "- Apply documentation best practices to classes and methods\n",
    "\n",
    "\n",
    "**AP Exam Focus:** Required for FRQ responses, demonstrates professional programming practices\n",
    "\n"
   ]
  },
  {
   "cell_type": "markdown",
   "id": "c3ad035b",
   "metadata": {},
   "source": [
    "We need 2 volunteers to come up to play a game!"
   ]
  },
  {
   "cell_type": "markdown",
   "id": "be88be74",
   "metadata": {
    "vscode": {
     "languageId": "plaintext"
    }
   },
   "source": [
    "## Part 1: Why Documentation Matters\n",
    "\n",
    "Documentation serves multiple audiences:\n",
    "- **Other developers:** How do I use this method? What parameters does it expect?\n",
    "- **Maintainers:** Why was this implemented this way? What are the edge cases?\n",
    "- **Testers:** What should this method do in different scenarios?\n",
    "- **Your future self:** Will you remember your logic in 3 months?\n",
    "\n",
    "**Think of documentation as the user manual for your code.**\n",
    "\n",
    "### Types of Java Comments:\n",
    "1. **Single-line comments:** `//` - Quick notes and explanations\n",
    "2. **Multi-line comments:** `/* */` - Longer explanations\n",
    "3. **Javadoc comments:** `/** */` - API documentation (our focus today!)\n",
    "\n",
    "---"
   ]
  },
  {
   "cell_type": "markdown",
   "id": "697c0a1a",
   "metadata": {
    "vscode": {
     "languageId": "plaintext"
    }
   },
   "source": [
    "##  Part 2: Javadoc Comment Structure\n",
    "\n",
    "Javadoc uses special tags to create comprehensive documentation:\n",
    "- `@param` - Describes a parameter\n",
    "- `@return` - Describes the return value\n",
    "- `@throws` - Describes exceptions that might be thrown\n",
    "\n",
    "**Basic Template:**\n",
    "```java\n",
    "/**\n",
    " * Brief description of what the method does.\n",
    " * \n",
    " * More detailed explanation if needed, including algorithm\n",
    " * information, usage notes, or important behaviors.\n",
    " *\n",
    " * @param paramName description of the parameter\n",
    " * @return description of what is returned\n",
    " */\n",
    "```\n",
    "\n",
    "---"
   ]
  },
  {
   "cell_type": "code",
   "execution_count": null,
   "id": "ac434458",
   "metadata": {
    "vscode": {
     "languageId": "java"
    }
   },
   "outputs": [
    {
     "name": "stdout",
     "output_type": "stream",
     "text": [
      "Final Grade: 89.1\n"
     ]
    }
   ],
   "source": [
    "/**\n",
    " * Calculates the final grade for a student based on weighted categories.\n",
    " * The grade is computed using the formula: \n",
    " * (homework * 0.3) + (tests * 0.5) + (participation * 0.2)\n",
    " *\n",
    " * @param homework the average homework score (0.0 to 100.0)\n",
    " * @param tests the average test score (0.0 to 100.0)  \n",
    " * @param participation the participation score (0.0 to 100.0)\n",
    " * @return the weighted final grade as a percentage (0.0 to 100.0)\n",
    " */\n",
    "public double calculateFinalGrade(double homework, double tests, double participation) {\n",
    "    return homework * 0.3 + tests * 0.5 + participation * 0.2;\n",
    "}\n",
    "\n",
    "// Test the method\n",
    "System.out.println(\"Final Grade: \" + calculateFinalGrade(85.0, 92.0, 88.0));"
   ]
  },
  {
   "cell_type": "markdown",
   "id": "f8048d2a",
   "metadata": {},
   "source": [
    "## Part 3: Preconditions and Postconditions\n",
    "\n",
    "**Preconditions:** What must be true BEFORE the method is called\n",
    "**Postconditions:** What will be true AFTER the method completes successfully\n",
    "\n",
    "These create a **contract** between the method and its callers.\n",
    "\n",
    "### Why They Matter:\n",
    "- Clarify responsibilities\n",
    "- Define expected behavior\n",
    "- Help identify bugs\n",
    "- Essential for AP FRQs!\n",
    "\n",
    "---"
   ]
  },
  {
   "cell_type": "code",
   "execution_count": 8,
   "id": "7486d57e",
   "metadata": {
    "vscode": {
     "languageId": "java"
    }
   },
   "outputs": [
    {
     "name": "stdout",
     "output_type": "stream",
     "text": [
      "Transaction: Withdraw $100.0\n",
      "New balance: $400.0\n"
     ]
    },
    {
     "data": {
      "text/plain": [
       "true"
      ]
     },
     "execution_count": 8,
     "metadata": {},
     "output_type": "execute_result"
    }
   ],
   "source": [
    "/**\n",
    " * Withdraws money from the bank account.\n",
    " * \n",
    " * Preconditions: \n",
    " * - amount must be positive\n",
    " * - amount must not exceed current balance\n",
    " * - account must not be frozen\n",
    " * \n",
    " * Postconditions:\n",
    " * - balance is reduced by the withdrawal amount\n",
    " * - transaction is recorded in account history\n",
    " * - returns true if withdrawal successful\n",
    " *\n",
    " * @param amount the amount to withdraw (must be positive)\n",
    " * @return true if withdrawal successful, false otherwise\n",
    " */\n",
    "\n",
    "public boolean withdraw(double amount) {\n",
    "    // Local variable definitions\n",
    "    double balance = 500.0;      // example current balance\n",
    "    boolean isFrozen = false;    // example account state\n",
    "\n",
    "    // Preconditions: amount must be positive, not exceed balance, and account not frozen\n",
    "    if (amount <= 0 || amount > balance || isFrozen) {\n",
    "        return false;  // Precondition not met\n",
    "    }\n",
    "\n",
    "    // Perform withdrawal\n",
    "    balance -= amount;\n",
    "\n",
    "    // Record transaction (for now, just print it)\n",
    "    System.out.println(\"Transaction: Withdraw $\" + amount);\n",
    "    System.out.println(\"New balance: $\" + balance);\n",
    "\n",
    "    // Postcondition: balance reduced, transaction recorded\n",
    "    return true;\n",
    "}\n",
    "withdraw(100.0);"
   ]
  },
  {
   "cell_type": "markdown",
   "id": "c7069af2",
   "metadata": {},
   "source": [
    "## Part 4: Class-Level Documentation\n",
    "\n",
    "Classes need documentation explaining their overall purpose and usage.\n",
    "\n",
    "**Key Elements:**\n",
    "- Overall purpose of the class\n",
    "- Key responsibilities\n",
    "- Usage examples\n",
    "- Important design decisions\n",
    "- Author and version information\n",
    "\n",
    "---"
   ]
  },
  {
   "cell_type": "code",
   "execution_count": 15,
   "id": "a0d8c9d2",
   "metadata": {
    "vscode": {
     "languageId": "java"
    }
   },
   "outputs": [
    {
     "name": "stdout",
     "output_type": "stream",
     "text": [
      "95.5\n"
     ]
    }
   ],
   "source": [
    "/**\n",
    " * Represents a student in the school management system.\n",
    " * \n",
    " * This class maintains student information including personal details,\n",
    " * academic records, and enrollment status. It provides methods for\n",
    " * updating grades, managing course enrollment, and generating reports.\n",
    " * \n",
    " * Example usage:\n",
    " * <pre>\n",
    " * Student alice = new Student(\"Alice Johnson\", 12);\n",
    " * alice.enrollInCourse(\"AP Computer Science\");\n",
    " * alice.updateGrade(\"Math\", 95.5);\n",
    " * System.out.println(alice.getGPA());\n",
    " * </pre>\n",
    " *\n",
    " * @author Your Name\n",
    " * @version 1.0\n",
    " * @since 2024-01-15\n",
    " */\n",
    "public class Student {\n",
    "    private String name;\n",
    "    private int gradeLevel;\n",
    "    private ArrayList<String> courses;\n",
    "    private HashMap<String, Double> grades;\n",
    "    \n",
    "    // Constructor fix\n",
    "    public Student(String name, int gradeLevel) {\n",
    "        this.name = name;\n",
    "        this.gradeLevel = gradeLevel;\n",
    "        this.courses = new ArrayList<>();\n",
    "        this.grades = new HashMap<>();\n",
    "    }\n",
    "\n",
    "    // Example methods\n",
    "    public void enrollInCourse(String course) {\n",
    "        courses.add(course);\n",
    "    }\n",
    "\n",
    "    public void updateGrade(String course, double grade) {\n",
    "        grades.put(course, grade);\n",
    "    }\n",
    "\n",
    "    public double getGPA() {\n",
    "        if (grades.isEmpty()) return 0.0;\n",
    "        double sum = 0;\n",
    "        for (double g : grades.values()) {\n",
    "            sum += g;\n",
    "        }\n",
    "        return sum / grades.size();\n",
    "    }\n",
    "}\n",
    "// Test the Student class\n",
    "Student alice = new Student(\"Alice Johnson\", 12);\n",
    "alice.enrollInCourse(\"AP Computer Science\");\n",
    "alice.updateGrade(\"Math\", 95.5);\n",
    "System.out.println(alice.getGPA());"
   ]
  },
  {
   "cell_type": "markdown",
   "id": "bdab0599",
   "metadata": {},
   "source": [
    "## Part 5: Documentation Best Practices\n",
    "\n",
    "### DO:\n",
    "1. **Be specific and actionable** - \"sets the student's GPA to the specified value, rounded to one decimal place\"\n",
    "2. **Include examples for complex methods**\n",
    "3. **Document assumptions and limitations**\n",
    "4. **Update docs when code changes**\n",
    "5. **Focus on WHY, not just WHAT**\n",
    "\n",
    "### DON'T:\n",
    "1. **Over-document obvious code** - Simple getters/setters don't need documentation\n",
    "2. **Use vague descriptions** - \"processes the data\" tells us nothing\n",
    "3. **Forget edge cases** - What happens with null? Empty arrays?\n",
    "4. **Let documentation become outdated**\n",
    "\n",
    "---"
   ]
  },
  {
   "cell_type": "code",
   "execution_count": 17,
   "id": "9de83950",
   "metadata": {
    "vscode": {
     "languageId": "java"
    }
   },
   "outputs": [
    {
     "ename": "CompilationException",
     "evalue": "",
     "output_type": "error",
     "traceback": [
      "\u001b[1m\u001b[30m|   \u001b[1m\u001b[30m    \u001b[0m\u001b[1m\u001b[30m\u001b[41mthis\u001b[0m\u001b[1m\u001b[30m.name = normalizeName(name.trim());\u001b[0m",
      "\u001b[1m\u001b[31mnon-static variable this cannot be referenced from a static context\u001b[0m",
      "",
      "\u001b[1m\u001b[30m|   \u001b[1m\u001b[30m    \u001b[0m\u001b[1m\u001b[30m\u001b[41mthis.name\u001b[0m\u001b[1m\u001b[30m = normalizeName(name.trim());\u001b[0m",
      "\u001b[1m\u001b[31mcannot find symbol\u001b[0m",
      "\u001b[1m\u001b[31m  symbol: variable name\u001b[0m",
      "",
      "\u001b[1m\u001b[30m|   \u001b[1m\u001b[30m    this.name = \u001b[0m\u001b[1m\u001b[30m\u001b[41mnormalizeName\u001b[0m\u001b[1m\u001b[30m(name.trim());\u001b[0m",
      "\u001b[1m\u001b[31mcannot find symbol\u001b[0m",
      "\u001b[1m\u001b[31m  symbol:   method normalizeName(java.lang.String)\u001b[0m",
      ""
     ]
    }
   ],
   "source": [
    "// BAD: Over-documentation of obvious code\n",
    "/**\n",
    " * Gets the name.\n",
    " * @return the name\n",
    " */\n",
    "public String getName() {\n",
    "    return name;\n",
    "}\n",
    "\n",
    "// GOOD: No documentation needed for simple accessor\n",
    "public String getName() { \n",
    "    return name; \n",
    "}\n",
    "\n",
    "// GOOD: Document complex behavior\n",
    "/**\n",
    " * Updates the student's name with validation and normalization.\n",
    " * \n",
    " * Trims whitespace, converts to proper case, and validates that\n",
    " * the name contains only letters, spaces, hyphens, and apostrophes.\n",
    " *\n",
    " * @param name the new name (will be normalized)\n",
    " * @throws IllegalArgumentException if name is null, empty, or contains invalid characters\n",
    " */\n",
    "public void setNameWithValidation(String name) {\n",
    "    if (name == null || name.trim().isEmpty()) {\n",
    "        throw new IllegalArgumentException(\"Name cannot be null or empty\");\n",
    "    }\n",
    "    this.name = normalizeName(name.trim());\n",
    "}"
   ]
  },
  {
   "cell_type": "markdown",
   "id": "b364f26d",
   "metadata": {},
   "source": [
    "## Part 6: AP Exam Connections\n",
    "\n",
    "### Multiple Choice Tips:\n",
    "- Know the difference between `//`, `/* */`, and `/** */`\n",
    "- Understand when documentation is most helpful\n",
    "- Recognize proper @param and @return usage\n",
    "\n",
    "### FRQ Requirements:\n",
    "- **Always document complex methods** - Shows programming maturity\n",
    "- **Explain your logic** - Helps scorers understand your intent\n",
    "- **Document non-obvious design decisions**\n",
    "- **Specify parameter constraints**\n",
    "\n",
    "### Quick Documentation Checklist:\n",
    "- ✓ Complex methods have clear purpose descriptions\n",
    "- ✓ Parameter constraints are specified\n",
    "- ✓ Return values are explained\n",
    "- ✓ Edge cases and error conditions are documented\n",
    "- ✓ Examples provided for non-obvious usage\n",
    "\n",
    "---"
   ]
  },
  {
   "cell_type": "markdown",
   "id": "2b44f1d1",
   "metadata": {},
   "source": [
    "##  Lesson Hack #1: Fix the Documentation\n",
    "\n",
    "**Task:** The following code has poor documentation. Rewrite it with proper Javadoc comments including preconditions and postconditions.\n",
    "\n",
    "```java\n",
    "// Does stuff with numbers\n",
    "public int doSomething(int[] nums) {\n",
    "    int result = 0;\n",
    "    for (int i = 0; i < nums.length; i++) {\n",
    "        if (nums[i] > 0 && nums[i] % 2 == 0) {\n",
    "            result += nums[i];\n",
    "        }\n",
    "    }\n",
    "    return result;\n",
    "}\n",
    "```\n",
    "\n",
    "**Your task:** Write proper Javadoc documentation for this method in the code cell below.\n",
    "\n",
    "---"
   ]
  },
  {
   "cell_type": "code",
   "execution_count": 2,
   "id": "347c940e",
   "metadata": {
    "vscode": {
     "languageId": "java"
    }
   },
   "outputs": [],
   "source": [
    "/**\n",
    " * Computes the total sum of all positive even integers in the specified array.\n",
    " *\n",
    " * <p>This method scans through each element in the array {@code nums}.\n",
    " * If an element is both greater than zero and divisible by two, it is\n",
    " * added to a cumulative sum. The method then returns the final sum.</p>\n",
    " *\n",
    " * <p>This operation does not modify the input array.</p>\n",
    " *\n",
    " * @param nums an array of integers to analyze\n",
    " * @return the sum of all positive even values found in {@code nums};\n",
    " *         returns 0 if no such elements exist\n",
    " *\n",
    " * @precondition\n",
    " * {@code nums} must not be {@code null}.\n",
    " *\n",
    " * @postcondition\n",
    " * The array {@code nums} remains unchanged after execution.\n",
    " * The return value equals the sum of all positive even numbers within {@code nums}.\n",
    " */\n",
    "public int doSomething(int[] nums) {\n",
    "    int result = 0;\n",
    "    for (int i = 0; i < nums.length; i++) {\n",
    "        if (nums[i] > 0 && nums[i] % 2 == 0) {\n",
    "            result += nums[i];\n",
    "        }\n",
    "    }\n",
    "    return result;\n",
    "}\n"
   ]
  },
  {
   "cell_type": "markdown",
   "id": "84ece20e",
   "metadata": {},
   "source": [
    "## Popcorn Hack #2: Write Class Documentation\n",
    "\n",
    "**Your Mission:** Add Javadoc comments to document this GradeBook class!\n",
    "\n",
    "**What to include:**\n",
    "- What does this class do? (purpose)\n",
    "- What are the main features? (key methods)\n",
    "- How would someone use it? (example)\n",
    "- Tags: @author, @version, @since\n",
    "```java\n",
    "// TODO: Add your class-level Javadoc here!\n",
    "// Hint: Start with /** and end with */\n",
    "\n",
    "public class GradeBook {\n",
    "    private HashMap<String, Double> assignments;\n",
    "    private HashMap<String, Double> categoryWeights;\n",
    "    private double extraCredit;\n",
    "    \n",
    "    // TODO: Document each method too!\n",
    "    public void addAssignment(String category, String name, double score) { }\n",
    "    \n",
    "    public void setCategoryWeight(String category, double weight) { }\n",
    "    \n",
    "    public double calculateFinalGrade() { }\n",
    "    \n",
    "    public String generateReport() { }\n",
    "}"
   ]
  },
  {
   "cell_type": "markdown",
   "id": "2e24f3b5",
   "metadata": {},
   "source": [
    "Check your answer below!"
   ]
  },
  {
   "cell_type": "code",
   "execution_count": 3,
   "id": "2358b2f5",
   "metadata": {
    "vscode": {
     "languageId": "java"
    }
   },
   "outputs": [],
   "source": [
    "/**\n",
    " * The {@code GradeBook} class manages a student's assignments, category weights,\n",
    " * and calculates a final grade based on weighted categories.\n",
    " * \n",
    " * <p>This class allows users to:\n",
    " * <ul>\n",
    " *   <li>Add assignments with scores organized by category (e.g., Homework, Tests, Projects)</li>\n",
    " *   <li>Assign weights to categories to reflect their importance in the overall grade</li>\n",
    " *   <li>Calculate the final weighted grade</li>\n",
    " *   <li>Generate a report summarizing all assignments and the student's performance</li>\n",
    " * </ul>\n",
    " * \n",
    " * <p><b>Example Usage:</b></p>\n",
    " * <pre>{@code\n",
    " * GradeBook gb = new GradeBook();\n",
    " * gb.setCategoryWeight(\"Homework\", 0.4);\n",
    " * gb.setCategoryWeight(\"Tests\", 0.6);\n",
    " * gb.addAssignment(\"Homework\", \"HW1\", 95);\n",
    " * gb.addAssignment(\"Tests\", \"Unit Test 1\", 88);\n",
    " * double finalGrade = gb.calculateFinalGrade();\n",
    " * System.out.println(gb.generateReport());\n",
    " * }</pre>\n",
    " * \n",
    " * @author Rohan\n",
    " * @version 1.0\n",
    " * @since 2025-10-13\n",
    " */\n",
    "public class GradeBook {\n",
    "    private HashMap<String, Double> assignments;\n",
    "    private HashMap<String, Double> categoryWeights;\n",
    "    private double extraCredit;\n",
    "\n",
    "    /**\n",
    "     * Adds a new assignment and its score under the specified category.\n",
    "     *\n",
    "     * @param category the name of the category (e.g., \"Homework\", \"Tests\")\n",
    "     * @param name the name of the assignment\n",
    "     * @param score the score earned on the assignment (0–100)\n",
    "     *\n",
    "     * @precondition {@code category} and {@code name} are not null, and {@code score} ≥ 0\n",
    "     * @postcondition The assignment is stored in the {@code assignments} list under its category\n",
    "     */\n",
    "    public void addAssignment(String category, String name, double score) { }\n",
    "\n",
    "    /**\n",
    "     * Sets the weight of a specific category used for calculating the final grade.\n",
    "     *\n",
    "     * @param category the name of the category (e.g., \"Homework\", \"Projects\")\n",
    "     * @param weight the weight of the category (e.g., 0.3 for 30%)\n",
    "     *\n",
    "     * @precondition {@code weight} must be between 0.0 and 1.0\n",
    "     * @postcondition The category and its weight are recorded in {@code categoryWeights}\n",
    "     */\n",
    "    public void setCategoryWeight(String category, double weight) { }\n",
    "\n",
    "    /**\n",
    "     * Calculates and returns the student's final weighted grade.\n",
    "     *\n",
    "     * @return the overall grade as a percentage (0–100)\n",
    "     *\n",
    "     * @precondition Categories and assignments must have been added\n",
    "     * @postcondition Returns the weighted average grade, including any extra credit applied\n",
    "     */\n",
    "    public double calculateFinalGrade() { return 0.0; }\n",
    "\n",
    "    /**\n",
    "     * Generates a formatted report of all assignments, category weights, and the final grade.\n",
    "     *\n",
    "     * @return a String summary of the student's grade information\n",
    "     *\n",
    "     * @precondition At least one assignment has been added\n",
    "     * @postcondition Returns a non-null report string summarizing student performance\n",
    "     */\n",
    "    public String generateReport() { return \"\"; }\n",
    "}"
   ]
  },
  {
   "cell_type": "markdown",
   "id": "9461cca7",
   "metadata": {},
   "source": [
    "##  Homework Assignment\n",
    "\n",
    "### Part 1: Documentation Analysis \n",
    "Submission: https://docs.google.com/forms/d/e/1FAIpQLSepOCmW6KeE7jw4f80JO4Kad5YWeDUHKTpnNxnCPTtj9WEAsw/viewform?usp=header \n",
    "Rewrite the poorly written code. Write them with proper Javadoc comments.\n",
    "1. The original code:"
   ]
  },
  {
   "cell_type": "code",
   "execution_count": 5,
   "id": "ef9efa33",
   "metadata": {
    "vscode": {
     "languageId": "java"
    }
   },
   "outputs": [],
   "source": [
    "/**\n",
    " * The {@code Stuff} class demonstrates a simple addition operation.\n",
    " * <p>\n",
    " * It contains a method to add two integers and prints the result.\n",
    " * </p>\n",
    " * \n",
    " * <p><b>Example:</b></p>\n",
    " * <pre>{@code\n",
    " * int result = Stuff.add(5, 10); // result = 15\n",
    " * }</pre>\n",
    " * \n",
    " * @author Rohan\n",
    " * @version 1.0\n",
    " * @since 2025-10-13\n",
    " */\n",
    "public class Stuff {\n",
    "\n",
    "    /**\n",
    "     * The main method serves as the entry point of the program.\n",
    "     * It demonstrates using the {@link #add(int, int)} method\n",
    "     * to add two numbers and print the result.\n",
    "     *\n",
    "     * @param args command-line arguments (not used)\n",
    "     * @precondition none\n",
    "     * @postcondition prints the sum of two integers to the console\n",
    "     */\n",
    "    public static void main(String[] args) {\n",
    "        int x = 5;\n",
    "        int y = 10;\n",
    "        int z = add(x, y);\n",
    "        System.out.println(\"Answer is \" + z);\n",
    "    }\n",
    "\n",
    "    /**\n",
    "     * Adds two integers and returns the result.\n",
    "     *\n",
    "     * @param a the first integer\n",
    "     * @param b the second integer\n",
    "     * @return the sum of {@code a} and {@code b}\n",
    "     * @precondition none\n",
    "     * @postcondition the return value equals the sum of the input integers\n",
    "     */\n",
    "    static int add(int a, int b) {\n",
    "        return a + b;\n",
    "    }\n",
    "}\n",
    "\n",
    "// I improved the code by following Java naming conventions, renaming the class to Stuff and formatting it with proper indentation and spacing for readability. I added Javadoc comments for the class and methods, including descriptions, parameters, return values, and preconditions/postconditions, so the purpose and behavior are clear. The print statement was made more descriptive, and variable spacing was standardized. Overall, these changes make the code more professional, readable, and easier to maintain.\n"
   ]
  },
  {
   "cell_type": "markdown",
   "id": "cace0026",
   "metadata": {},
   "source": [
    "\n",
    "Submit:\n",
    "\n",
    "2. Your improved version\n",
    "3. A brief explanation of what you improved\n",
    "\n",
    "### Part 2: \n",
    "Problem 1: Document a Complex Method\n",
    "Write complete Javadoc documentation for this method:\n",
    "\n",
    "public boolean enrollStudent(String studentId, String courseCode, int semester) {\n",
    "    Student student = findStudentById(studentId);\n",
    "    if (student == null) return false;\n",
    "\n",
    "    Course course = findCourseByCode(courseCode);\n",
    "    if (course == null) return false;\n",
    "\n",
    "    if (course.isFull()) return false;\n",
    "    if (student.hasScheduleConflict(course)) return false;\n",
    "    if (!student.hasPrerequisites(course)) return false;\n",
    "    if (student.getCreditHours() + course.getCreditHours() > 18) return false;\n",
    "\n",
    "    student.addCourse(course);\n",
    "    course.addStudent(student);\n",
    "    recordEnrollmentTransaction(studentId, courseCode, semester);\n",
    "    return true;\n",
    "}\n",
    "\n",
    "\n",
    "### Part 3: Reflection Questions \n",
    "1. Why is documentation more important in team projects than solo projects?\n",
    "2. Give an example of when a method SHOULD be documented and when it SHOULD NOT.\n",
    "\n",
    "**Submit:** A Jupyter notebook or Java file with all three parts completed.\n",
    "\n",
    "---"
   ]
  },
  {
   "cell_type": "code",
   "execution_count": null,
   "id": "9ebb98a4",
   "metadata": {
    "vscode": {
     "languageId": "java"
    }
   },
   "outputs": [],
   "source": [
    "/**\n",
    " * Attempts to enroll a student in a specified course for a given semester.\n",
    " * \n",
    " * <p>This method verifies multiple conditions before enrollment:\n",
    " * it ensures that the student and course exist, the course is not full,\n",
    " * the student’s schedule does not conflict, prerequisites are met, \n",
    " * and total credit hours do not exceed the allowed limit (18).</p>\n",
    " * \n",
    " * <p>If all checks pass, the method enrolls the student in the course,\n",
    " * updates both the student and course records, and logs the transaction.</p>\n",
    " *\n",
    " * @param studentId the unique identifier of the student to enroll\n",
    " * @param courseCode the code of the course to enroll in\n",
    " * @param semester the semester number or ID for which enrollment is requested\n",
    " * @return {@code true} if the student is successfully enrolled; \n",
    " *         {@code false} if any condition prevents enrollment\n",
    " *\n",
    " * @precondition \n",
    " * - {@code studentId} and {@code courseCode} are valid identifiers  \n",
    " * - The {@code semester} is within the valid academic schedule  \n",
    " * - Both {@code findStudentById()} and {@code findCourseByCode()} return valid objects\n",
    " *\n",
    " * @postcondition \n",
    " * - If enrollment is successful, the student and course records are updated,\n",
    " *   and a transaction is recorded.  \n",
    " * - If enrollment fails, no data is modified.\n",
    " */\n",
    "public boolean enrollStudent(String studentId, String courseCode, int semester) {\n",
    "    Student student = findStudentById(studentId);\n",
    "    if (student == null) return false;\n",
    "\n",
    "    Course course = findCourseByCode(courseCode);\n",
    "    if (course == null) return false;\n",
    "\n",
    "    if (course.isFull()) return false;\n",
    "    if (student.hasScheduleConflict(course)) return false;\n",
    "    if (!student.hasPrerequisites(course)) return false;\n",
    "    if (student.getCreditHours() + course.getCreditHours() > 18) return false;\n",
    "\n",
    "    student.addCourse(course);\n",
    "    course.addStudent(student);\n",
    "    recordEnrollmentTransaction(studentId, courseCode, semester);\n",
    "    return true;\n",
    "}\n"
   ]
  },
  {
   "cell_type": "code",
   "execution_count": null,
   "id": "353baded",
   "metadata": {
    "vscode": {
     "languageId": "java"
    }
   },
   "outputs": [],
   "source": [
    "// 1. Why is documentation more important in team projects than solo projects?\n",
    "// Documentation is crucial in team projects because multiple developers need to understand, maintain, and extend each other’s code. Without clear documentation, team members waste time deciphering logic or risk introducing bugs when modifying code. It ensures consistency, transparency, and efficient collaboration throughout the project.\n",
    "// 2. Give an example of when a method SHOULD be documented and when it SHOULD NOT.\n",
    "// A method should be documented when it performs a non-trivial operation, involves multiple steps, or has specific preconditions or side effects (e.g., a database update method).\n",
    "// A method does not need documentation when it’s very simple and self-explanatory, such as a basic getter or setter (getName() or setAge())."
   ]
  },
  {
   "cell_type": "markdown",
   "id": "1b063ed3",
   "metadata": {},
   "source": [
    "##  Key Takeaways\n",
    "\n",
    "1. **Documentation is communication** - Write for others (and your future self)\n",
    "2. **Javadoc format matters** - Use `/** */` with proper tags\n",
    "3. **Preconditions and postconditions create contracts** - Essential for reliable code\n",
    "4. **Balance is key** - Don't over-document obvious code, but thoroughly document complex logic\n",
    "5. **Keep it updated** - Outdated documentation is worse than no documentation\n",
    "6. **AP Exam success** - Good documentation demonstrates programming maturity on FRQs\n",
    "\n",
    "### Remember:\n",
    "> \"Code tells you HOW, documentation tells you WHY\"\n",
    "\n",
    "**The collaborative mindset:** Write documentation that you would want to find when using someone else's code. Be specific, be helpful, and anticipate questions.\n",
    "\n",
    "---\n",
    "\n",
    "##  Additional Resources\n",
    "- [Oracle Java Documentation Guidelines](https://www.oracle.com/technical-resources/articles/java/javadoc-tool.html)\n",
    "- [AP Computer Science A Course Description](https://apcentral.collegeboard.org/)\n",
    "- Practice writing documentation for existing code projects!"
   ]
  },
  {
   "cell_type": "markdown",
   "id": "11f14ac0",
   "metadata": {},
   "source": [
    "## Challenge Problems (Extra Credit)\n",
    "\n",
    "### Challenge 1: Document a Recursive Method\n",
    "Write complete documentation for a recursive method including base case, recursive case, and complexity analysis.\n",
    "\n",
    "### Challenge 2: Team Documentation Standard\n",
    "Create a documentation style guide for a team project. Include:\n",
    "- When to document (and when not to)\n",
    "- Required tags for different method types\n",
    "- Example templates\n",
    "- Common mistakes to avoid\n",
    "\n",
    "### Challenge 3: Documentation Detective\n",
    "Find a poorly documented open-source project. Write improved documentation for one class and submit a comparison showing before/after.\n",
    "\n",
    "---"
   ]
  },
  {
   "cell_type": "code",
   "execution_count": null,
   "id": "1021aabf",
   "metadata": {
    "vscode": {
     "languageId": "java"
    }
   },
   "outputs": [],
   "source": [
    "/**\n",
    " * Computes the factorial of a given non-negative integer recursively.\n",
    " *\n",
    " * <p><b>Base Case:</b> When n == 0 or n == 1, returns 1.</p>\n",
    " * <p><b>Recursive Case:</b> Returns n multiplied by factorial(n - 1).</p>\n",
    " *\n",
    " * <p><b>Time Complexity:</b> O(n), since one recursive call is made per decrement of n.</p>\n",
    " * <p><b>Space Complexity:</b> O(n), due to the call stack depth.</p>\n",
    " *\n",
    " * @param n The non-negative integer for which the factorial is calculated\n",
    " * @return The factorial of n\n",
    " * @throws IllegalArgumentException if n is negative\n",
    " */\n",
    "public static long factorial(int n) {\n",
    "    if (n < 0) {\n",
    "        throw new IllegalArgumentException(\"Input must be non-negative\");\n",
    "    }\n",
    "    if (n == 0 || n == 1) {\n",
    "        return 1;\n",
    "    }\n",
    "    return n * factorial(n - 1);\n",
    "}\n"
   ]
  },
  {
   "cell_type": "code",
   "execution_count": null,
   "id": "47a1428c",
   "metadata": {
    "vscode": {
     "languageId": "java"
    }
   },
   "outputs": [],
   "source": [
    "Team Documentation Style Guide\n",
    "When to Document:\n",
    "Document all public methods, constructors, and complex private methods.\n",
    "Do not over-document simple getters/setters unless they include logic.\n",
    "Required Tags:\n",
    "@param for each parameter\n",
    "@return for return values\n",
    "@throws for exceptions\n",
    "@precondition and @postcondition for complex logic\n",
    "@author, @version, @since for class-level Javadoc\n",
    "Example Template:\n",
    "/**\n",
    " * Brief description of what the method does.\n",
    " *\n",
    " * @param paramName Description of the parameter\n",
    " * @return Description of the return value\n",
    " * @throws ExceptionType Description of when exception occurs\n",
    " */"
   ]
  },
  {
   "cell_type": "code",
   "execution_count": null,
   "id": "e92caa3a",
   "metadata": {
    "vscode": {
     "languageId": "java"
    }
   },
   "outputs": [],
   "source": [
    "// handles users\n",
    "public void addUser(User u) {\n",
    "    users.add(u);\n",
    "}"
   ]
  },
  {
   "cell_type": "code",
   "execution_count": null,
   "id": "07e5ee17",
   "metadata": {
    "vscode": {
     "languageId": "java"
    }
   },
   "outputs": [],
   "source": [
    "/**\n",
    " * Adds a new user to the system’s user list.\n",
    " *\n",
    " * <p><b>Preconditions:</b> The user object must not be null.</p>\n",
    " * <p><b>Postconditions:</b> The user is stored in the system for future operations.</p>\n",
    " *\n",
    " * @param u The User object to be added\n",
    " * @throws IllegalArgumentException if the user object is null\n",
    " */\n",
    "public void addUser(User u) {\n",
    "    if (u == null) throw new IllegalArgumentException(\"User cannot be null\");\n",
    "    users.add(u);\n",
    "}\n"
   ]
  }
 ],
 "metadata": {
  "kernelspec": {
   "display_name": "Java",
   "language": "java",
   "name": "java"
  },
  "language_info": {
   "codemirror_mode": "java",
   "file_extension": ".jshell",
   "mimetype": "text/x-java-source",
   "name": "Java",
   "pygments_lexer": "java",
   "version": "17.0.16+0"
  }
 },
 "nbformat": 4,
 "nbformat_minor": 5
}
