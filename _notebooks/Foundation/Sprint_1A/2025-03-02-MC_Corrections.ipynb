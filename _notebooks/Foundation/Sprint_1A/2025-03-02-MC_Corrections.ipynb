{
 "cells": [
  {
   "cell_type": "raw",
   "metadata": {
    "vscode": {
     "languageId": "raw"
    }
   },
   "source": [
    "---\n",
    "layout: post\n",
    "toc: true\n",
    "title: Practice Exam 1 MCQ | Rohan Bojja\n",
    "type: issues \n",
    "comments: true\n",
    "---"
   ]
  },
  {
   "cell_type": "markdown",
   "metadata": {
    "vscode": {
     "languageId": "plaintext"
    }
   },
   "source": [
    "## Overall Performance:"
   ]
  },
  {
   "cell_type": "markdown",
   "metadata": {},
   "source": [
    "Total Score: 45/67\n",
    "Total Time Spent: 2 hours and 4 minutes"
   ]
  },
  {
   "cell_type": "markdown",
   "metadata": {
    "vscode": {
     "languageId": "html"
    }
   },
   "source": [
    "![Overview Screenshot]({{site.baseurl}}/images/Overview.png)\n",
    "\n",
    "Anlysis:\n",
    "- Needs improvment in indeitfying vode errors\n",
    "- Needs imrpovment in speed of indetifcation\n",
    "- Needs improvment in theory (e.g Data Compression)\n",
    "- Performed well on efficency questions and simulations\n",
    "- Perofmred well on ethics and legality\n",
    "\n",
    "Steps to imrpove:\n",
    "- Watching College Board Videos and taking notes\n",
    "- Increasing number of practice, and repition of reviewing questions\n",
    "- Applying pseudocode to development to gain expiernce with reading and writing"
   ]
  },
  {
   "cell_type": "markdown",
   "metadata": {},
   "source": [
    "## Question Corrections"
   ]
  },
  {
   "cell_type": "markdown",
   "metadata": {},
   "source": [
    "Q2:\n",
    "A small team of wildlife researchers is working on a project that uses motion-activated field cameras to capture images of animals at study sites. The team is considering using a “citizen science” approach to analyze the images.\n",
    "Which of the following best explains why such an approach is considered useful for this project?\n",
    "\n",
    "Correct Choice: the image analysis is likely to take a longer time for the research tream than for a distrubuted group of indivudals\n",
    "\n",
    "Reason: Citizen science is when the general public particpates in the research of a project, and larger groups essentially means less time needed."
   ]
  },
  {
   "cell_type": "markdown",
   "metadata": {},
   "source": [
    "![Q6 Screenshot]({{site.baseurl}}/images/q6.png)\n",
    "Q6:\n",
    "\n",
    "Reason: Both of them will corectly move to the suare through looking at the repeat cycle and constant repition, and eventually both make it to the end."
   ]
  },
  {
   "cell_type": "markdown",
   "metadata": {},
   "source": [
    "Q9:\n",
    "An Internet user has a need to send private data to another user. Which of the following provides the most security when transmitting private data?\n",
    "\n",
    "Correct Choice: Sending the data using a public encyrption key\n",
    "\n",
    "Reason: With this key a user can encyrpt any message anf cannot be decrypted without the recievers private key."
   ]
  },
  {
   "cell_type": "markdown",
   "metadata": {},
   "source": [
    "![Q10 Screenshot]({{site.baseurl}}/images/q10.png)\n",
    "Q10:\n",
    "\n",
    "Reason: This code segment initially sets cost to 6 (the cheapest possible ticket price), then increases cost by 2 for people whose age is greater than 12. Regardless of the person’s age, cost is increased by 2 for people going on a guided tour."
   ]
  },
  {
   "cell_type": "markdown",
   "metadata": {},
   "source": [
    "Q14:\n",
    "The following algorithm is intended to take a positive integer as input and display its individual digits in order from right to left. For example, if the input is 512, the algorithm should produce the output 2 1 5. Step 3 of the algorithm is missing.\n",
    "Step 1: Input a positive integer from the user and store it in the variable number.\n",
    "Step 2: Divide number by 10 and record the integer quotient and the remainder. The integer quotient is the quotient with any part after the decimal point dropped. For example, when 127 is divided by 10, the quotient is 12.7, the integer quotient is 12 and the remainder is 7.\n",
    "Step 3: (missing step)\n",
    "Step 4: Repeat steps 2 and 3 until number is 0.\n",
    "\n",
    "Correct Choice: Step 3: Display the remainder of number divided by 10 and store the integer quotient in number.\n",
    "\n",
    "Reason: By using integer divison on the number, and then printing the remainder until 0, it will correctly store the information, then terminate itself."
   ]
  },
  {
   "cell_type": "markdown",
   "metadata": {},
   "source": [
    "![Q18 Screenshot]({{site.baseurl}}/images/q18.png)\n",
    "Q18:\n",
    "\n",
    "Reason: This code segment moves the robot forward whenever there is an open square in front of it. Once there is not an open square in front of it, the robot rotates right. The robot moves forward from its initial location to the upper right corner of the grid, then rotates right, then moves forward to the bottom right corner of the grid, then rotates right, then moves forward to the bottom left corner of the grid, then rotates right, then moves forward two squares to the gray square."
   ]
  },
  {
   "cell_type": "markdown",
   "metadata": {},
   "source": [
    "Q25:\n",
    "\n",
    "Which of the following statements correctly explain how the Internet is able to facilitate communication at a large scale?\n",
    "\n",
    "A central monitoring computer is used to track and maintain the connections of the Internet.\n",
    "Data is routed between points in multiple ways so that if a connection fails, the data can be rerouted around the inoperative connections.\n",
    "Protocols for packets and routing are used so that computers from different manufacturers can communicate in a standard way.\n",
    "\n",
    "Correct Choice: II and III only\n",
    "\n",
    "Reason: The Internet is not controlled from a central device. Statements II and III are true. The Internet uses redundant routing to support fault tolerance. The Internet uses protocols so that data is transmitted in a standard format."
   ]
  },
  {
   "cell_type": "markdown",
   "metadata": {},
   "source": []
  },
  {
   "cell_type": "markdown",
   "metadata": {},
   "source": [
    "Q26:\n",
    "\n",
    "A list of binary values (0 or 1) is used to represent a black-and-white image. Which of the following is LEAST likely to be stored as metadata associated with the image?\n",
    "\n",
    "Correct Choice: A duplicate copy of data.\n",
    "\n",
    "Reason: Metadata typically consists of descriptive information about the data, not a copy of the data itself."
   ]
  },
  {
   "cell_type": "markdown",
   "metadata": {},
   "source": [
    "![Q28 Screenshot]({{site.baseurl}}/images/q28.png)\n",
    "Q28:\n",
    "\n",
    "Reason: Code segment I assigns the initial value of alpha to temp, then assigns the initial value of beta to alpha. The initial value of alpha, which has been stored in temp, is then assigned to beta. Therefore, the values of alpha and beta are interchanged. Code segment II assigns the initial value of alpha to temp, then assigns the initial value of alpha to beta."
   ]
  },
  {
   "cell_type": "markdown",
   "metadata": {},
   "source": [
    "Q29:\n",
    "\n",
    "A person wants to transmit an audio file from a device to a second device. Which of the following scenarios best demonstrates the use of lossless compression of the original file?\n",
    "\n",
    "Correct Choice: A device compresses the audio file before transmitting it to a second device. The second device restores the compressed file to its original version before playing it.\n",
    "\n",
    "Reason: Lossless compression is a technique that allows for complete reconstruction of the original data."
   ]
  },
  {
   "cell_type": "markdown",
   "metadata": {},
   "source": [
    "Q35:\n",
    "\n",
    "A programmer notices the following two procedures in a library. The procedures do similar, but not identical, things.\n",
    "Procedure MaxTwo (x, y) returns the greater of its two integer parameters.\n",
    "Procedure MaxThree (x, y, z) returns the greatest of its three integer parameters.\n",
    "\n",
    "Correct Choice: Procedure Max (numList), which returns the maximum value in the list of integers numList\n",
    "\n",
    "Reason: A generalization of this procedure is Max, which takes a list parameter as input to determine the maximum of any number of values."
   ]
  },
  {
   "cell_type": "markdown",
   "metadata": {},
   "source": [
    "Q38:\n",
    "\n",
    "Internet protocol version 6 (IPv6) has been introduced to replace the previous version (IPv4). Which of the following best describes a benefit of IPv6 over IPv4?\n",
    "\n",
    "Correct Choice: IPv6 allows for a greater number of addresses than IPv4, which allows more devices to be connected to the Internet.\n",
    "\n",
    "Reason: IPv6 allows for a greater number of IP addresses than IPv4 does, which allows more devices to be connected."
   ]
  },
  {
   "cell_type": "markdown",
   "metadata": {},
   "source": [
    "Q40:\n",
    "\n",
    "Which of the following best explains how a certificate authority is used in protecting data?\n",
    "\n",
    "Correct Choice: A certificate authority verifies the authenticity of encryption keys used in secured communications.\n",
    "\n",
    "Reason: Certificate authorities are entities that issue digital certificates, which are used to certify the ownership of public keys."
   ]
  },
  {
   "cell_type": "markdown",
   "metadata": {},
   "source": [
    "Q55:\n",
    "\n",
    "The following algorithm is intended to determine the average height, in centimeters, of a group of people in a room. Each person has a card, a pencil, and an eraser. Step 2 of the algorithm is missing.\n",
    "Step 1: All people stand up.\n",
    "Step 2: (missing step)\n",
    "Step 3: Each standing person finds another standing person and they form a pair. If a person cannot find an unpaired standing person, that person remains standing and waits until the next opportunity to form pairs.\n",
    "Step 4: In each pair, one person hands their card to the other person and sits down.\n",
    "Step 5: At this point, the standing person in each pair is holding two cards. The standing person in each pair replaces the top number on their card with the sum of the top numbers on the two cards and replaces the bottom number on their card with the sum of the bottom numbers on the two cards. The sitting partner’s card is discarded.\n",
    "Step 6: Repeat steps 3–5 until there is only one person standing.\n",
    "Step 7: The last person standing divides the top number by the bottom number to determine the average height.\n",
    "Which of the following can be used as step 2 so that the algorithm works as intended?\n",
    "\n",
    "Correct Choice: Step 2: Each person writes their height, in centimeters, at the top of the card and writes the number 1 at the bottom of the card.\n",
    "\n",
    "Reason: By starting the process by writing a height at the top of the card and writing a 1 at the bottom of the card, the algorithm will work such that the last person’s card will have the sum of the heights at the top and the number of people at the bottom."
   ]
  },
  {
   "cell_type": "markdown",
   "metadata": {},
   "source": [
    "![Q58 Screenshot]({{site.baseurl}}/images/q58.png)\n",
    "Q58:\n",
    "\n",
    "Reason: The IF condition x = y evaluates to false, so the body of the ELSE statement is executed. The expression y = z evaluates to false, so false is returned."
   ]
  },
  {
   "cell_type": "markdown",
   "metadata": {},
   "source": [
    "![Q60 Screenshot]({{site.baseurl}}/images/q60.png)\n",
    "Q60:\n",
    "\n",
    "Reason: The neq list will contain the 5 integers, and the second line of code will creat eht esecond lsit with four integers. The third list, fourth list, and so on, with produce incorrect results of 2."
   ]
  },
  {
   "cell_type": "markdown",
   "metadata": {},
   "source": [
    "![Q62 Screenshot]({{site.baseurl}}/images/q62.png)\n",
    "Q62:\n",
    "\n",
    "Reason: True is displayed because the IF statement evaluates to true."
   ]
  },
  {
   "cell_type": "markdown",
   "metadata": {},
   "source": [
    "![Q63 Screenshot]({{site.baseurl}}/images/q63.png)\n",
    "Q63:\n",
    "\n",
    "Reason: Title is also requried because the item that is being sold is required."
   ]
  },
  {
   "cell_type": "markdown",
   "metadata": {},
   "source": [
    "![Q64 Screenshot]({{site.baseurl}}/images/q64.png)\n",
    "Q64:\n",
    "\n",
    "Reason: Since y is initially negative, the loop condition count ≥ y is initially true, so the body of the loop is never executed and 0 is returned."
   ]
  },
  {
   "cell_type": "markdown",
   "metadata": {},
   "source": [
    "![Q65 Screenshot]({{site.baseurl}}/images/q65.png)\n",
    "Q65:\n",
    "\n",
    "Reason: Answers B and C are correct because they soeccufcck y can store the animal in the animal string variable, rather than A and D which cannot."
   ]
  },
  {
   "cell_type": "markdown",
   "metadata": {},
   "source": [
    "![Q66 Screenshot]({{site.baseurl}}/images/q66.png)\n",
    "Q66:\n",
    "\n",
    "Reason: This line should be removed. Every integer from start to end should be checked, so currentNum should only be incremented inside the loop but outside the body of the IF statement. So therefore, Line 9 is as well correct."
   ]
  },
  {
   "cell_type": "markdown",
   "metadata": {},
   "source": [
    "![Q67 Screenshot]({{site.baseurl}}/images/q67.png)\n",
    "Q67:\n",
    "\n",
    "Reason: Regarding Answer B: For this code segment, count is increased to 1 the first time \"maple\" is encountered in the list. However, count is reset to 0 when the code segment moves to the next list element. This causes the procedure to return 0 instead of the intended result 1."
   ]
  }
 ],
 "metadata": {
  "kernelspec": {
   "display_name": "venv",
   "language": "python",
   "name": "python3"
  },
  "language_info": {
   "codemirror_mode": {
    "name": "ipython",
    "version": 3
   },
   "file_extension": ".py",
   "mimetype": "text/x-python",
   "name": "python",
   "nbconvert_exporter": "python",
   "pygments_lexer": "ipython3",
   "version": "3.12.9"
  }
 },
 "nbformat": 4,
 "nbformat_minor": 2
}
