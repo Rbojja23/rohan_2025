{
 "cells": [
  {
   "cell_type": "raw",
   "metadata": {
    "vscode": {
     "languageId": "raw"
    }
   },
   "source": [
    "---\n",
    "layout: post\n",
    "toc: true\n",
    "title: N@TM Review | Rohan Bojja\n",
    "type: issues \n",
    "comments: true\n",
    "---"
   ]
  },
  {
   "cell_type": "markdown",
   "metadata": {},
   "source": [
    "## N@TM Review\n",
    "\n",
    "How was it:\n",
    "I was able to check out some of the fellow CSP projects, as well as looking some CSA and CSSE projects too. The reviews I wil be doing are on two CSP projects, as well as one CSSE project."
   ]
  },
  {
   "cell_type": "markdown",
   "metadata": {},
   "source": [
    "## Main Takeaways\n",
    "\n",
    "- By veiwing others CRUD functionality and how it was implemented, it taught me thatit doesnt have to be a simple feature such as editing a rating, but rather, implemented in a calender format or other unique method.\n",
    "- the UI doesnt have to be completely straightforward, but implementing game like features, or something to pull in the user, could be beneficial to the overall program value.\n",
    "- A cohesive theme throughout the features is greatly important to the website itself, so the user is able to track each feature for the enccesary information, and connect between them.\n",
    "\n",
    "### Internships\n",
    "\n",
    "- By presenting at N@TM, I have gained expeirence to present and demo my projects in front of other people who would review or interview.\n",
    "- This improves my ability to gain internships in CS, as I am able to shwocase the skills I have, such as CRUD operations.\n",
    "- How I am preogressing with this now:\n",
    "    - Working with a research proffesor as of now, and am able to use CRUD operations to help create his website, and knowledge in python to work with molecular dynamics and integrate my intrests."
   ]
  },
  {
   "cell_type": "markdown",
   "metadata": {},
   "source": [
    "## How was our presentation\n",
    "\n",
    "Stats:\n",
    "Total repsonses: 12\n",
    "Unqiness: 4.42\n",
    "Website Attractivness: 3.92\n",
    "Presnetation Simplicity: 4.42\n",
    "Serving Prupose of Intertravel: 4.67\n",
    "How can we improve:\n",
    "- More color would be inviting\n",
    "- Adding about page on the website\n",
    "- Using agents to do booking for user\n",
    "- Explaining basic backend in presentation"
   ]
  },
  {
   "cell_type": "markdown",
   "metadata": {},
   "source": [
    "### Club Organizing Website\n",
    "\n",
    "This website seemed to have the main idea of making a space for clubs to itneract, for people to join,a nd also to create one. It uses proper funcitonality with unqiue features, sucha s a calender, where CRUD operations can remove, add, or edit events. One improvment I would give them would be on their presentation, as it was not well rehearsed and did not cover all the features as well as it could have been. Hwoever, what I enjoyed the most was the UI design, as it seemed unqiue and it stood out in the crowd.\n",
    "\n",
    "![Club Hub Screenshot]({{site.baseurl}}/images/Club_Hub.png)"
   ]
  },
  {
   "cell_type": "markdown",
   "metadata": {},
   "source": [
    "### Landscape Website\n",
    "\n",
    "This website was a little hard to follow as I came within the middle of the live demo. Hwoever, the UI seemed to be an area for improvment, as it seemed to be very consitent with the ones used in previous projects. Hwoever, their CRUD operations with the landscaping feature shows the consitent funcitonality of the website, and that is what I enjoyed most about the live demonstration.\n",
    "\n",
    "![Landscape Screenshot]({{site.baseurl}}/images/Landscape.png)"
   ]
  },
  {
   "cell_type": "markdown",
   "metadata": {},
   "source": [
    "### CSSE Math Game Project\n",
    "\n",
    "This website had a extremely unqiue UI design, where a game was implemented in order to elad to differnt challenges. However, after meeting a challenge, the user is met with a series of math problems or other types of questions, whcih must be answered correctly in order to procced. The funcitonality of thsi website was spot on, with teh game aspect showing an impressive understanding of the javascript on frontend design. However, one improvment is making the UI of the testing part better, as it could really tie in the whole project.\n",
    "\n",
    "![CSSE Game Screenshot]({{site.baseurl}}/images/CSSE_game.png)"
   ]
  }
 ],
 "metadata": {
  "kernelspec": {
   "display_name": "venv",
   "language": "python",
   "name": "python3"
  },
  "language_info": {
   "codemirror_mode": {
    "name": "ipython",
    "version": 3
   },
   "file_extension": ".py",
   "mimetype": "text/x-python",
   "name": "python",
   "nbconvert_exporter": "python",
   "pygments_lexer": "ipython3",
   "version": "3.12.9"
  }
 },
 "nbformat": 4,
 "nbformat_minor": 2
}
