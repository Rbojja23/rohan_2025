{
 "cells": [
  {
   "cell_type": "raw",
   "metadata": {
    "vscode": {
     "languageId": "raw"
    }
   },
   "source": [
    "---\n",
    "layout: post\n",
    "toc: true\n",
    "title: Cyber Security | Rohan Bojja\n",
    "type: issues \n",
    "comments: true\n",
    "---"
   ]
  },
  {
   "cell_type": "markdown",
   "metadata": {},
   "source": [
    "# Cybersecurity Insights & Inspiration\n",
    "\n",
    "## 🧠 Key Concepts\n",
    "\n",
    "### Ransomware\n",
    "- **Definition**: A form of malicious software that encrypts an entire network or system and demands a ransom payment in order to decrypt the files.\n",
    "- **Impact**: Targets include corporations, hospitals, and government agencies.\n",
    "- **Ransomware-as-a-Service (RaaS)**: Attackers now rent out ransomware kits, making it easier for low-skill criminals to launch large-scale attacks.\n",
    "- **AI-Enhanced Ransomware**: Artificial intelligence is increasingly used to automate, optimize, and scale cyberattacks.\n",
    "\n",
    "### AI in Cybersecurity\n",
    "- **Used offensively**: AI is leveraged to analyze systems, exploit vulnerabilities, and bypass traditional defenses.\n",
    "- **Used defensively**: AI is used to monitor traffic, detect anomalies, and respond in real-time to breaches.\n",
    "- **Need for education**: Understanding AI from both technical and strategic perspectives is critical to modern cybersecurity.\n",
    "\n",
    "### Zero-Day Vulnerabilities\n",
    "- **Definition**: A zero-day is a security flaw unknown to the vendor, exploited before a fix is issued.\n",
    "- **Risk window**: These exploits are especially dangerous because systems remain vulnerable until a patch is released and applied.\n",
    "- **Cloud-based updates**: Sometimes, systems don’t update until they pull from the cloud, increasing the exposure period.\n",
    "\n",
    "### Intellectual Property Theft\n",
    "- **China reportedly steals** over $100 billion worth of intellectual property every year.\n",
    "- **Corporate espionage** is a growing concern in sectors like biotech, aerospace, and AI.\n",
    "\n",
    "---\n",
    "\n",
    "## 👤 People & Case Studies\n",
    "\n",
    "### Thosmaz\n",
    "- Tracks cybercriminals using their own methods, including ransomware.\n",
    "- **Unique approach**: Hacks criminals back using randomized ransomware tactics.\n",
    "- **Long-term pursuit**: Tracked a subject for 3 years before catching them due to a single mistake.\n",
    "- **Emotion**: \"Very cool feeling to track someone that long and finally succeed.\"\n",
    "\n",
    "### Victor\n",
    "- **Big data expertise**: Managed large datasets and systems across networks.\n",
    "- **Impact**: Opened the landscape for future cybersecurity innovations.\n",
    "- **Visionary**: Contributed to modern frameworks for data security.\n",
    "\n",
    "### Tricia\n",
    "- Took a **leave of absence** due to suspicious activity.\n",
    "- Discovered internal **data theft**: A group was stealing proprietary data and sharing it with other companies.\n",
    "- **Resolution**: Shut down the malicious group, entered legal negotiations with the companies involved.\n",
    "\n",
    "---\n",
    "\n",
    "## 💡 Inspiration & Advice\n",
    "\n",
    "- **Start with curiosity**: Many experts began by reading books and exploring computer science in their free time.\n",
    "- **Not too steep of a learning curve**: With dedication and the right resources, anyone can build a solid foundation in cybersecurity.\n",
    "- **Secure an IT background**: Basics in networking, databases, operating systems, and scripting are essential.\n",
    "- **Build people skills**: Being a good leader and communicator is just as important as technical knowledge.\n",
    "- **Know the essentials**: Understand protocols, threat modeling, and risk assessment.\n",
    "\n",
    "---\n",
    "\n",
    "## 🏢 Sectors to Explore\n",
    "\n",
    "- **Business side of cybersecurity**: Includes policy, compliance, risk management, and client relations.\n",
    "- **Network architecture**: Building secure and scalable systems from the ground up.\n",
    "- **AI & ML applications**: Growing need for experts who can build or defend AI-driven tools.\n",
    "\n",
    "---\n",
    "\n",
    "## 🧠 Blog Requirements\n",
    "\n",
    "### Key Takeaways\n",
    "- Ransomware and AI are at the forefront of both cyber offense and defense.\n",
    "- Human error continues to be the most exploited vulnerability.\n",
    "- Passion and persistence (like Thosmaz) can lead to breakthroughs even after years.\n",
    "\n",
    "### What to Implement in the Future\n",
    "- More AI-integrated threat detection systems.\n",
    "- Better patching protocols to reduce zero-day exposure.\n",
    "- Increased cybersecurity education in schools and workplaces.\n",
    "\n",
    "### Why This Matters (Extra Credit Justification)\n",
    "- Demonstrates initiative and real-world relevance.\n",
    "- Shows understanding beyond the classroom.\n",
    "- Builds a bridge between theory and actual application in cybersecurity.\n"
   ]
  }
 ],
 "metadata": {
  "kernelspec": {
   "display_name": "venv",
   "language": "python",
   "name": "python3"
  },
  "language_info": {
   "codemirror_mode": {
    "name": "ipython",
    "version": 3
   },
   "file_extension": ".py",
   "mimetype": "text/x-python",
   "name": "python",
   "nbconvert_exporter": "python",
   "pygments_lexer": "ipython3",
   "version": "3.9.6"
  }
 },
 "nbformat": 4,
 "nbformat_minor": 2
}
