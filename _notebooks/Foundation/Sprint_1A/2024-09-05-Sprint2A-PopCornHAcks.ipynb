{
 "cells": [
  {
   "attachments": {},
   "cell_type": "markdown",
   "metadata": {},
   "source": [
    "# 3.8"
   ]
  },
  {
   "cell_type": "code",
   "execution_count": 1,
   "metadata": {},
   "outputs": [
    {
     "name": "stdout",
     "output_type": "stream",
     "text": [
      "meh dal\n",
      "yummy rasam\n"
     ]
    }
   ],
   "source": [
    "# HW 1 FIRST SECTION PY\n",
    "\n",
    "curry = {'meh': 'dal', 'yummy': \"rasam\"}\n",
    "\n",
    "for key in curry:\n",
    "    print(key, curry[key])\n",
    " "
   ]
  },
  {
   "cell_type": "code",
   "execution_count": 30,
   "metadata": {
    "vscode": {
     "languageId": "javascript"
    }
   },
   "outputs": [
    {
     "data": {
      "application/javascript": "// HW 1 FIRST SECTION JV\n\nconst bobs = {\n    \"first\": \"bob1\",\n    \"second\": \"bob2\"\n}\n\nfor (const key in bobs) {\n    console.log(key + \": \" + bobs[key])\n}\n",
      "text/plain": [
       "<IPython.core.display.Javascript object>"
      ]
     },
     "metadata": {},
     "output_type": "display_data"
    }
   ],
   "source": [
    "%%js\n",
    "// HW 1 FIRST SECTION JV\n",
    "\n",
    "const bobs = {\n",
    "    \"first\": \"bob1\",\n",
    "    \"second\": \"bob2\"\n",
    "}\n",
    "\n",
    "for (const key in bobs) {\n",
    "    console.log(key + \": \" + bobs[key])\n",
    "}"
   ]
  },
  {
   "cell_type": "code",
   "execution_count": 35,
   "metadata": {
    "vscode": {
     "languageId": "javascript"
    }
   },
   "outputs": [
    {
     "data": {
      "application/javascript": "//POP 1 FIRST SECTION\n\nfor (let i = 0; i < 5; i++) {\n    console.log(i);\n}\n",
      "text/plain": [
       "<IPython.core.display.Javascript object>"
      ]
     },
     "metadata": {},
     "output_type": "display_data"
    }
   ],
   "source": [
    "%%js\n",
    "//POP 1 FIRST SECTION\n",
    "\n",
    "for (let i = 0; i < 5; i++) {\n",
    "    console.log(i);\n",
    "}"
   ]
  },
  {
   "cell_type": "code",
   "execution_count": 1,
   "metadata": {},
   "outputs": [
    {
     "name": "stdout",
     "output_type": "stream",
     "text": [
      "🗿\n",
      "🏛\n",
      "🛳\n"
     ]
    }
   ],
   "source": [
    "# POP 2 FIRST SECTION\n",
    "structures = ['🗿', '🏛', '🛳']\n",
    "for structure in structures:\n",
    "    print(structure)"
   ]
  },
  {
   "cell_type": "code",
   "execution_count": 3,
   "metadata": {
    "vscode": {
     "languageId": "javascript"
    }
   },
   "outputs": [
    {
     "data": {
      "application/javascript": "const fruits = ['apple', 'banana', 'cherry'];\n\nfor (let i = 0; i < fruits.length; i++) {\n    console.log(fruits[i]);\n}\n",
      "text/plain": [
       "<IPython.core.display.Javascript object>"
      ]
     },
     "metadata": {},
     "output_type": "display_data"
    }
   ],
   "source": [
    "//POP 2 FIRST SECTION\n",
    "%%javascript\n",
    "const names = ['bob', 'joe', 'smith'];\n",
    "\n",
    "for (let i = 0; i < names.length; i++) {\n",
    "    console.log(names[i]);\n",
    "}"
   ]
  },
  {
   "cell_type": "code",
   "execution_count": 6,
   "metadata": {},
   "outputs": [
    {
     "name": "stdout",
     "output_type": "stream",
     "text": [
      "1\n",
      "3\n",
      "5\n",
      "7\n",
      "9\n",
      "11\n",
      "13\n",
      "15\n",
      "17\n",
      "19\n"
     ]
    }
   ],
   "source": [
    "# POP 1 SECOND SECTION\n",
    "number = 1\n",
    "\n",
    "while number <= 20:\n",
    "    if number % 2 == 1:\n",
    "        print(number)\n",
    "    number += 1"
   ]
  },
  {
   "cell_type": "code",
   "execution_count": 9,
   "metadata": {},
   "outputs": [
    {
     "name": "stdout",
     "output_type": "stream",
     "text": [
      "Flipped: tails\n",
      "Landed on tails!\n"
     ]
    }
   ],
   "source": [
    "# POP 2 SECOND SECTION\n",
    "import random\n",
    "\n",
    "flip = \"\"\n",
    "\n",
    "while flip != \"tails\":\n",
    "    flip = random.choice([\"heads\", \"tails\"])\n",
    "    print(f\"Flipped: {flip}\")\n",
    "\n",
    "print(\"Landed on tails!\")"
   ]
  },
  {
   "cell_type": "code",
   "execution_count": 44,
   "metadata": {},
   "outputs": [
    {
     "name": "stdout",
     "output_type": "stream",
     "text": [
      "1\n",
      "2\n",
      "Fizz\n",
      "4\n",
      "Buzz\n",
      "Fizz\n",
      "Boom\n",
      "8\n",
      "Fizz\n",
      "Buzz\n",
      "11\n",
      "Fizz\n",
      "13\n",
      "Boom\n",
      "FizzBuzz\n",
      "16\n",
      "17\n",
      "Fizz\n",
      "19\n",
      "Buzz\n",
      "Boom\n",
      "22\n",
      "23\n",
      "Fizz\n",
      "Buzz\n",
      "26\n",
      "Fizz\n",
      "Boom\n",
      "29\n",
      "FizzBuzz\n",
      "31\n",
      "32\n",
      "Fizz\n",
      "34\n",
      "Buzz\n",
      "Fizz\n",
      "37\n",
      "38\n",
      "Fizz\n",
      "Buzz\n",
      "41\n",
      "Boom\n",
      "43\n",
      "44\n",
      "FizzBuzz\n",
      "46\n",
      "47\n",
      "Fizz\n",
      "Boom\n",
      "Buzz\n"
     ]
    }
   ],
   "source": [
    "# HW 1 SECTION 2\n",
    "'''\n",
    "Print numbers from 1 to 50.\n",
    "For multiples of 3, print “Fizz” instead of the number.\n",
    "For multiples of 5, print “Buzz” instead of the number.\n",
    "For numbers divisible by both 3 and 5, print “FizzBuzz”.\n",
    "Add a twist: for multiples of 7, print “Boom”.\n",
    "'''\n",
    "i = 1\n",
    "while i < 51:\n",
    "    if i % 3 == 0:\n",
    "        if i % 5 == 0:\n",
    "            print(\"FizzBuzz\")\n",
    "        elif i % 7 == 0:\n",
    "            print(\"Boom\")\n",
    "        else:\n",
    "            print(\"Fizz\")\n",
    "    elif i % 5 == 0:\n",
    "        if i % 3 == 0:\n",
    "            print(\"FizzBuzz\")\n",
    "        else:\n",
    "            print(\"Buzz\")\n",
    "    elif i % 7 == 0:\n",
    "            print(\"Boom\")\n",
    "    else:\n",
    "        print(i)\n",
    "    i += 1"
   ]
  },
  {
   "cell_type": "code",
   "execution_count": 57,
   "metadata": {},
   "outputs": [
    {
     "name": "stdout",
     "output_type": "stream",
     "text": [
      "good job bringing out your inner indian scammer vibes\n",
      "Faild Attempt you bad bad person\n",
      "Amount of times you brain is bad again: 2\n",
      "Faild Attempt you bad bad person\n",
      "Amount of times you brain is bad again: 2\n",
      "Faild Attempt you bad bad person\n",
      "Amount of times you brain is bad again: 2\n",
      "Faild Attempt you bad bad person\n",
      "Amount of times you brain is bad again: 2\n"
     ]
    },
    {
     "ename": "KeyboardInterrupt",
     "evalue": "Interrupted by user",
     "output_type": "error",
     "traceback": [
      "\u001b[0;31m---------------------------------------------------------------------------\u001b[0m",
      "\u001b[0;31mKeyboardInterrupt\u001b[0m                         Traceback (most recent call last)",
      "Cell \u001b[0;32mIn[57], line 15\u001b[0m\n\u001b[1;32m     13\u001b[0m \u001b[39mwhile\u001b[39;00m wrong_counter \u001b[39m>\u001b[39m \u001b[39m0\u001b[39m:\n\u001b[1;32m     14\u001b[0m     user \u001b[39m=\u001b[39m \u001b[39minput\u001b[39m(\u001b[39m\"\u001b[39m\u001b[39mEnter the username buddy: \u001b[39m\u001b[39m\"\u001b[39m)\n\u001b[0;32m---> 15\u001b[0m     psd \u001b[39m=\u001b[39m \u001b[39minput\u001b[39;49m(\u001b[39m\"\u001b[39;49m\u001b[39mEnter passcode or i will come to ur house and find you: \u001b[39;49m\u001b[39m\"\u001b[39;49m)\n\u001b[1;32m     17\u001b[0m     \u001b[39mif\u001b[39;00m user \u001b[39m!=\u001b[39m username \u001b[39mor\u001b[39;00m psd \u001b[39m!=\u001b[39m password:\n\u001b[1;32m     18\u001b[0m         \u001b[39mprint\u001b[39m(\u001b[39m\"\u001b[39m\u001b[39mFaild Attempt you bad bad person\u001b[39m\u001b[39m\"\u001b[39m)\n",
      "File \u001b[0;32m~/nighthawk/student_2025/venv/lib/python3.12/site-packages/ipykernel/kernelbase.py:1282\u001b[0m, in \u001b[0;36mKernel.raw_input\u001b[0;34m(self, prompt)\u001b[0m\n\u001b[1;32m   1280\u001b[0m     msg \u001b[39m=\u001b[39m \u001b[39m\"\u001b[39m\u001b[39mraw_input was called, but this frontend does not support input requests.\u001b[39m\u001b[39m\"\u001b[39m\n\u001b[1;32m   1281\u001b[0m     \u001b[39mraise\u001b[39;00m StdinNotImplementedError(msg)\n\u001b[0;32m-> 1282\u001b[0m \u001b[39mreturn\u001b[39;00m \u001b[39mself\u001b[39;49m\u001b[39m.\u001b[39;49m_input_request(\n\u001b[1;32m   1283\u001b[0m     \u001b[39mstr\u001b[39;49m(prompt),\n\u001b[1;32m   1284\u001b[0m     \u001b[39mself\u001b[39;49m\u001b[39m.\u001b[39;49m_parent_ident[\u001b[39m\"\u001b[39;49m\u001b[39mshell\u001b[39;49m\u001b[39m\"\u001b[39;49m],\n\u001b[1;32m   1285\u001b[0m     \u001b[39mself\u001b[39;49m\u001b[39m.\u001b[39;49mget_parent(\u001b[39m\"\u001b[39;49m\u001b[39mshell\u001b[39;49m\u001b[39m\"\u001b[39;49m),\n\u001b[1;32m   1286\u001b[0m     password\u001b[39m=\u001b[39;49m\u001b[39mFalse\u001b[39;49;00m,\n\u001b[1;32m   1287\u001b[0m )\n",
      "File \u001b[0;32m~/nighthawk/student_2025/venv/lib/python3.12/site-packages/ipykernel/kernelbase.py:1325\u001b[0m, in \u001b[0;36mKernel._input_request\u001b[0;34m(self, prompt, ident, parent, password)\u001b[0m\n\u001b[1;32m   1322\u001b[0m \u001b[39mexcept\u001b[39;00m \u001b[39mKeyboardInterrupt\u001b[39;00m:\n\u001b[1;32m   1323\u001b[0m     \u001b[39m# re-raise KeyboardInterrupt, to truncate traceback\u001b[39;00m\n\u001b[1;32m   1324\u001b[0m     msg \u001b[39m=\u001b[39m \u001b[39m\"\u001b[39m\u001b[39mInterrupted by user\u001b[39m\u001b[39m\"\u001b[39m\n\u001b[0;32m-> 1325\u001b[0m     \u001b[39mraise\u001b[39;00m \u001b[39mKeyboardInterrupt\u001b[39;00m(msg) \u001b[39mfrom\u001b[39;00m \u001b[39mNone\u001b[39;00m\n\u001b[1;32m   1326\u001b[0m \u001b[39mexcept\u001b[39;00m \u001b[39mException\u001b[39;00m:\n\u001b[1;32m   1327\u001b[0m     \u001b[39mself\u001b[39m\u001b[39m.\u001b[39mlog\u001b[39m.\u001b[39mwarning(\u001b[39m\"\u001b[39m\u001b[39mInvalid Message:\u001b[39m\u001b[39m\"\u001b[39m, exc_info\u001b[39m=\u001b[39m\u001b[39mTrue\u001b[39;00m)\n",
      "\u001b[0;31mKeyboardInterrupt\u001b[0m: Interrupted by user"
     ]
    }
   ],
   "source": [
    "# HW 2 SECTION 2\n",
    "'''\n",
    "The user has 3 attempts to enter the correct username and password.\n",
    "After each failed attempt, display how many attempts are left.\n",
    "After 3 failed attempts, display a message saying the account is locked.\n",
    "Use a do-while loop to handle the login process, prompting the user for their credentials until they either succeed or run out of attempts.\n",
    "'''\n",
    "\n",
    "username = \"bobski123\"\n",
    "password = \"12345\"\n",
    "wrong_counter = 3\n",
    "\n",
    "while wrong_counter > 0:\n",
    "    user = input(\"Enter the username buddy: \")\n",
    "    psd = input(\"Enter passcode or i will come to ur house and find you: \")\n",
    "    \n",
    "    if user != username or psd != password:\n",
    "        print(\"Faild Attempt you bad bad person\")\n",
    "        print(\"Amount of times you brain is bad again:\", wrong_counter - 1)\n",
    "    else:\n",
    "        print(\"good job bringing out your inner indian scammer vibes\")\n",
    "    \n",
    "\n",
    "\n",
    "\n"
   ]
  },
  {
   "cell_type": "code",
   "execution_count": 10,
   "metadata": {},
   "outputs": [
    {
     "name": "stdout",
     "output_type": "stream",
     "text": [
      "Your To-Do List:\n",
      "1. Study Chem\n",
      "2. Study math\n",
      "3. Almost forgetting world\n",
      "4. eating cereal\n",
      "5. pat nikhil aggresivley on the back\n"
     ]
    }
   ],
   "source": [
    "# POP 1 SECTION THREE\n",
    "tasks = [\n",
    "    \"Study Chem\",\n",
    "    \"Study math\",\n",
    "    \"Almost forgetting world\",\n",
    "    \"eating cereal\",\n",
    "    \"pat nikhil aggresivley on the back\"\n",
    "]\n",
    "\n",
    "# Function to display tasks with indices\n",
    "def display_tasks():\n",
    "    print(\"Your To-Do List:\")\n",
    "    for index in range(len(tasks)):\n",
    "        print(f\"{index + 1}. {tasks[index]}\")  # Display task with its index\n",
    "\n",
    "# Call the function\n",
    "display_tasks()"
   ]
  },
  {
   "cell_type": "code",
   "execution_count": 12,
   "metadata": {
    "vscode": {
     "languageId": "javascript"
    }
   },
   "outputs": [
    {
     "data": {
      "application/javascript": "// List of tasks\nconst tasks = [\n    \"Study Chem\",\n    \"Study math\",\n    \"Almost forgetting world\",\n    \"eating cereal\",\n    \"pat nikhil aggresivley on the back\"\n];\n\n// Function to display tasks with indices\nfunction displayTasks() {\n    console.log(\"Your To-Do List:\");\n    for (let index = 0; index < tasks.length; index++) {\n        console.log(`${index + 1}. ${tasks[index]}`); // Display task with its index\n    }\n}\n\n// Call the function\ndisplayTasks();\n",
      "text/plain": [
       "<IPython.core.display.Javascript object>"
      ]
     },
     "metadata": {},
     "output_type": "display_data"
    }
   ],
   "source": [
    "// POP 1 SECTION THREE \n",
    "%%javascript\n",
    "// List of tasks\n",
    "const tasks = [\n",
    "    \"Study Chem\",\n",
    "    \"Study math\",\n",
    "    \"Almost forgetting world\",\n",
    "    \"eating cereal\",\n",
    "    \"pat nikhil aggresivley on the back\"\n",
    "];\n",
    "\n",
    "// Function to display tasks with indices\n",
    "function displayTasks() {\n",
    "    console.log(\"Your To-Do List:\");\n",
    "    for (let index = 0; index < tasks.length; index++) {\n",
    "        console.log(`${index + 1}. ${tasks[index]}`); // Display task with its index\n",
    "    }\n",
    "}\n",
    "\n",
    "// Call the function\n",
    "displayTasks();"
   ]
  },
  {
   "cell_type": "code",
   "execution_count": null,
   "metadata": {
    "vscode": {
     "languageId": "javascript"
    }
   },
   "outputs": [],
   "source": [
    "// POP 1 SECTION FOUR \n",
    "\n",
    "%%javascript\n",
    "for (let i = 0; i < 10; i++)\n",
    "  for (let i = 0; i < 10; i++) {\n",
    "    if (i === 5) {\n",
    "        break;\n",
    "    }\n",
    "    console.log(i);\n",
    "}"
   ]
  },
  {
   "cell_type": "code",
   "execution_count": 14,
   "metadata": {},
   "outputs": [
    {
     "name": "stdout",
     "output_type": "stream",
     "text": [
      "1 odd\n",
      "3 odd\n",
      "5 odd\n",
      "7 odd\n",
      "9 odd\n",
      "11 odd\n",
      "13 odd\n",
      "15 odd\n",
      "17 odd\n"
     ]
    }
   ],
   "source": [
    "for i in range (1, 20):\n",
    "    if i % 2 == 0:\n",
    "        continue\n",
    "    if i % 2 == 1:\n",
    "        print(i, \"odd\")\n",
    "    if i == 17:\n",
    "        break"
   ]
  },
  {
   "cell_type": "code",
   "execution_count": 46,
   "metadata": {
    "vscode": {
     "languageId": "javascript"
    }
   },
   "outputs": [
    {
     "name": "stderr",
     "output_type": "stream",
     "text": [
      "UsageError: Cell magic `%%` not found.\n"
     ]
    }
   ],
   "source": [
    "%% js\n",
    "// HW 1 SECTION 4\n",
    "for (let i = 0; i <= 10; i += 2) {\n",
    "    console.log(i);\n",
    "    if (i === 6) {\n",
    "        break;\n",
    "    }\n",
    "}\n"
   ]
  },
  {
   "cell_type": "code",
   "execution_count": 47,
   "metadata": {},
   "outputs": [
    {
     "name": "stdout",
     "output_type": "stream",
     "text": [
      "This number is 1\n",
      "This number is 3\n",
      "This number is 5\n",
      "This number is 7\n",
      "This number is 9\n"
     ]
    }
   ],
   "source": [
    "# HW 2 SECTION 4\n",
    "for i in range(10):\n",
    "    if i % 2 == 0:\n",
    "        continue\n",
    "    print(f\"This number is {i}\")\n"
   ]
  },
  {
   "attachments": {},
   "cell_type": "markdown",
   "metadata": {},
   "source": [
    "# 3.10"
   ]
  },
  {
   "cell_type": "code",
   "execution_count": 16,
   "metadata": {},
   "outputs": [
    {
     "name": "stdout",
     "output_type": "stream",
     "text": [
      "Adding Numbers In List Script\n",
      "-------------------------\n",
      "Sum of numbers in list is 9\n"
     ]
    }
   ],
   "source": [
    "# POP 1 SECTION 1\n",
    "print(\"Adding Numbers In List Script\")\n",
    "print(\"-\"*25)\n",
    "numlist = [4, 5]\n",
    "while True:\n",
    "    start = input(\"Would you like to (1) enter numbers (2) add numbers (3) remove last value added or (4) exit: \")\n",
    "    if start == \"1\":\n",
    "        val = input(\"Enter a numeric value: \") # take input while storing it in a variable\n",
    "        try: \n",
    "            test = int(val) # testing to see if input is an integer (numeric)\n",
    "        except:\n",
    "            print(\"Please enter a valid number\")\n",
    "            continue # 'continue' keyword skips to next step of while loop (basically restarting the loop)\n",
    "        numlist.append(int(val)) # append method to add values\n",
    "        print(\"Added \"+val+\" to list.\")\n",
    "    elif start == \"2\":\n",
    "        sum = 0\n",
    "        for num in numlist: # loop through list and add all values to sum variable\n",
    "            sum += num\n",
    "        print(\"Sum of numbers in list is \"+str(sum))\n",
    "    elif start == \"3\":\n",
    "        if len(numlist) > 0: # Make sure there are values in list to remove\n",
    "            print(\"Removed \"+str(numlist[len(numlist)-1])+\" from list.\")\n",
    "            numlist.pop()\n",
    "        else:\n",
    "            print(\"No values to delete\")\n",
    "    elif start == \"4\":\n",
    "        break # Break out of the while loop, or it will continue running forever\n",
    "    else:\n",
    "        continue"
   ]
  },
  {
   "cell_type": "code",
   "execution_count": 49,
   "metadata": {},
   "outputs": [
    {
     "name": "stdout",
     "output_type": "stream",
     "text": [
      "Current list: ['apple', 'orange', 'banana']\n",
      "Updated list: ['orange', 'banana']\n"
     ]
    }
   ],
   "source": [
    "# HW 1 SECTION 1\n",
    "\n",
    "mylist = [\"apple\", \"orange\", \"banana\"]\n",
    "\n",
    "print(\"Current list:\", mylist)\n",
    "\n",
    "index = int(input(\"Enter an index to remove an item (0 for 'apple', 1 for 'orange', 2 for 'banana'): \"))\n",
    "\n",
    "removed_item = mylist.remove(mylist[index])\n",
    "\n",
    "print(\"Updated list:\", mylist)"
   ]
  },
  {
   "attachments": {},
   "cell_type": "markdown",
   "metadata": {},
   "source": [
    "POP 1 SECTION 2\n",
    "\n",
    "nums ← 1 to 100\n",
    "odd_sum ← 0\n",
    "\n",
    "for each num in nums:\n",
    "    if num % 2 is 0:\n",
    "        odd_sum ← odd_sum + num\n",
    "\n",
    "print(\"Sum of odd numbers:\", odd_sum)"
   ]
  },
  {
   "cell_type": "code",
   "execution_count": 1,
   "metadata": {},
   "outputs": [
    {
     "name": "stdout",
     "output_type": "stream",
     "text": [
      "\u001b[92mMaximum number: 9\u001b[0m\n",
      "\u001b[92mMinimum number: 1\u001b[0m\n"
     ]
    }
   ],
   "source": [
    "# EXAMPLE\n",
    "def find_max_min(numbers):\n",
    "    if not numbers:\n",
    "        return None, None  # <span style=\"color: #D9B68C;\">Return None if the list is empty</span>\n",
    "    \n",
    "    max_num = numbers[0]  # <span style=\"color: #D9B68C;\">Start with the first number as the max</span>\n",
    "    min_num = numbers[0]  # <span style=\"color: #D9B68C;\">Start with the first number as the min</span>\n",
    "    \n",
    "    for num in numbers:\n",
    "        if num > max_num:\n",
    "            max_num = num  # <span style=\"color: #D9B68C;\">Update max if a larger number is found</span>\n",
    "        if num < min_num:\n",
    "            min_num = num  # <span style=\"color: #D9B68C;\">Update min if a smaller number is found</span>\n",
    "            \n",
    "    return max_num, min_num  # <span style=\"color: #D9B68C;\">Return the found max and min</span>\n",
    "\n",
    "# Example usage\n",
    "numbers = [3, 1, 4, 1, 5, 9, 2, 6, 5, 3, 5]\n",
    "max_num, min_num = find_max_min(numbers)\n",
    "\n",
    "print(f\"\\033[92mMaximum number: {max_num}\\033[0m\")  # Bright green for output\n",
    "print(f\"\\033[92mMinimum number: {min_num}\\033[0m\")  # Bright green for output"
   ]
  },
  {
   "cell_type": "code",
   "execution_count": 55,
   "metadata": {},
   "outputs": [
    {
     "name": "stdout",
     "output_type": "stream",
     "text": [
      "Sum of even numbers: 240\n",
      "Sum of odd numbers: 225\n"
     ]
    }
   ],
   "source": [
    "# HW 1 SECTION 2\n",
    "\n",
    "'''\n",
    "numbers ← list of 30 numbers (1, 2, 3, ..., 30)\n",
    "even_sum ← 0\n",
    "odd_sum ← 0\n",
    "\n",
    "for each number in numbers:\n",
    "    if number % 2 is 0:\n",
    "        even_sum ← even_sum + number\n",
    "    else:\n",
    "        odd_sum ← odd_sum + number\n",
    "\n",
    "print \"Sum of even numbers:\", even_sum\n",
    "print \"Sum of odd numbers:\", odd_sum\n",
    "\n",
    "'''\n",
    "\n",
    "# PYTHON VERSION\n",
    "\n",
    "numbers = list(range(1, 31))\n",
    "\n",
    "even_sum = 0\n",
    "odd_sum = 0\n",
    "\n",
    "for number in numbers:\n",
    "    if number % 2 == 0:\n",
    "        even_sum += number\n",
    "    else:\n",
    "        odd_sum += number\n",
    "\n",
    "print(\"Sum of even numbers:\", even_sum)\n",
    "print(\"Sum of odd numbers:\", odd_sum)\n",
    "\n"
   ]
  },
  {
   "cell_type": "code",
   "execution_count": 51,
   "metadata": {},
   "outputs": [
    {
     "name": "stdout",
     "output_type": "stream",
     "text": [
      "Nikhil is weird\n"
     ]
    }
   ],
   "source": [
    "#POP 1 SECTION 3\n",
    "\n",
    "import random\n",
    "\n",
    "# Define main dishes and sides\n",
    "main_dishes = ['Nikhil', 'Rohan']\n",
    "sides = ['weird', 'cool']\n",
    "\n",
    "# Create meal combinations using list comprehension\n",
    "meal_combinations = [f\"{main} is {side}\" for main in main_dishes for side in sides]\n",
    "\n",
    "# Print a random meal combination\n",
    "print(random.choice(meal_combinations))"
   ]
  },
  {
   "cell_type": "code",
   "execution_count": 54,
   "metadata": {},
   "outputs": [
    {
     "name": "stdout",
     "output_type": "stream",
     "text": [
      "One of my favorite hobbies is:  Skiing\n",
      "One of my favorite hobbies is:  Basketball\n",
      "One of my favorite hobbies is:  Coding\n",
      "One of my favorite hobbies is:  Cooking\n",
      "One of my favorite hobbies is:  Gaming\n"
     ]
    }
   ],
   "source": [
    "# HW 1 SECTION 3\n",
    "\n",
    "\n",
    "hobbies = [\"Skiing\", \"Basketball\", \"Coding\", \"Cooking\", \"Gaming\"]\n",
    "\n",
    "# Loop through each hobby and print it\n",
    "for hobby in hobbies:\n",
    "    print(\"One of my favorite hobbies is: \", hobby)\n"
   ]
  },
  {
   "cell_type": "code",
   "execution_count": null,
   "metadata": {},
   "outputs": [],
   "source": [
    "# EXAMPLE SECTION 4\n",
    "\n",
    "people = []\n",
    "\n",
    "# Function to collect user input and create a person object\n",
    "def add_person():\n",
    "    name = input(\"What is your name? \")\n",
    "    age = input(\"How old are you? \")\n",
    "    gender = input(\"What is ur gender \")\n",
    "    ethnicity = input(\"What is ur  \")\n",
    "    \n",
    "    # Simple Yes/No question for student status\n",
    "    while True:\n",
    "        is_student = input(\"Are you a student? (yes/no): \").lower()\n",
    "        if is_student in [\"yes\", \"no\"]:\n",
    "            is_student = (is_student == \"yes\")  # Converts to Boolean\n",
    "            break\n",
    "        else:\n",
    "            print(\"Please enter 'yes' or 'no'.\")\n",
    "\n",
    "    # Create the person object\n",
    "    person = {\n",
    "        'name': name,\n",
    "        'age': age,\n",
    "        'is_student': is_student\n",
    "    }\n",
    "    \n",
    "    # Add the person to the list\n",
    "    people.append(person)\n",
    "\n",
    "    # Display the added person\n",
    "    display_people()\n",
    "\n",
    "# Function to display the list of people\n",
    "def display_people():\n",
    "    print(\"\\nCurrent List of People:\")\n",
    "    for index, person in enumerate(people, 1):\n",
    "        student_status = \"a student\" if person['is_student'] else \"not a student\"\n",
    "        print(f\"Person {index}: {person['name']}, {person['age']} years old, {student_status}\")\n",
    "\n",
    "# Example Usage\n",
    "add_person()  # Call this to start collecting input from the user\n"
   ]
  },
  {
   "cell_type": "code",
   "execution_count": 56,
   "metadata": {},
   "outputs": [
    {
     "name": "stdout",
     "output_type": "stream",
     "text": [
      "Question: Do you like Python?\n",
      "Your answer: yes\n",
      "Question: Are you learning programming?\n",
      "Your answer: yes\n"
     ]
    }
   ],
   "source": [
    "# HW 1 SECTION 4\n",
    "\n",
    "questions = [\"Do you like Python?\", \"Are you learning programming?\"]\n",
    "answers = [] \n",
    "\n",
    "\n",
    "for question in questions:\n",
    "    answer = input(f\"{question} (yes/no): \")\n",
    "    answers.append(answer)\n",
    "\n",
    "for i in range(len(questions)):\n",
    "    print(f\"Question: {questions[i]}\")\n",
    "    print(f\"Your answer: {answers[i]}\")"
   ]
  },
  {
   "attachments": {},
   "cell_type": "markdown",
   "metadata": {},
   "source": [
    "# 3.1 "
   ]
  },
  {
   "cell_type": "code",
   "execution_count": 63,
   "metadata": {
    "vscode": {
     "languageId": "javascript"
    }
   },
   "outputs": [
    {
     "data": {
      "application/javascript": "// POP 1\n\nvar myDictionary = {\n    1: \"bob\",\n    2: \"boy\",\n    3: \"mihir\"\n};\n\nconsole.log(\"Key 3:\", myDictionary[3]);\n",
      "text/plain": [
       "<IPython.core.display.Javascript object>"
      ]
     },
     "metadata": {},
     "output_type": "display_data"
    }
   ],
   "source": [
    "%%js\n",
    "// POP 1\n",
    "\n",
    "var myDictionary = {\n",
    "    1: \"bob\",\n",
    "    2: \"boy\",\n",
    "    3: \"mihir\"\n",
    "};\n",
    "\n",
    "console.log(\"Key 3:\", myDictionary[3]);"
   ]
  },
  {
   "cell_type": "code",
   "execution_count": 59,
   "metadata": {},
   "outputs": [
    {
     "name": "stdout",
     "output_type": "stream",
     "text": [
      "Welcome to the Math Quiz Game!\n",
      "Answer as many questions as you can. Type 'q' to quit anytime.\n",
      "\n",
      "What is 10 - 10?\n",
      "Invalid input, please enter a number or 'q' to quit.\n",
      "What is 3 * 10?\n",
      "Correct!\n",
      "What is 4 - 3?\n",
      "Correct!\n",
      "What is 3 + 6?\n",
      "Correct!\n",
      "What is 7 + 4?\n",
      "Correct!\n",
      "What is 4 + 3?\n",
      "Correct!\n",
      "What is 9 - 7?\n",
      "Correct!\n",
      "What is 6 * 9?\n",
      "Correct!\n",
      "What is 5 * 6?\n",
      "Correct!\n",
      "What is 2 * 7?\n",
      "Correct!\n",
      "What is 8 + 6?\n",
      "Correct!\n",
      "What is 5 + 1?\n",
      "Correct!\n",
      "What is 5 * 7?\n",
      "Oops! The correct answer was 35.\n",
      "What is 2 * 3?\n",
      "Correct!\n",
      "What is 7 * 3?\n",
      "Correct!\n",
      "What is 7 * 8?\n",
      "Correct!\n",
      "What is 5 * 6?\n",
      "Correct!\n",
      "What is 3 * 5?\n",
      "Oops! The correct answer was 15.\n",
      "What is 1 * 7?\n",
      "Correct!\n",
      "What is 8 - 10?\n",
      "Invalid input, please enter a number or 'q' to quit.\n",
      "What is 4 + 7?\n",
      "Invalid input, please enter a number or 'q' to quit.\n",
      "What is 8 * 2?\n",
      "Invalid input, please enter a number or 'q' to quit.\n",
      "What is 1 - 2?\n",
      "Invalid input, please enter a number or 'q' to quit.\n",
      "What is 2 - 5?\n",
      "Invalid input, please enter a number or 'q' to quit.\n",
      "What is 2 - 2?\n",
      "Invalid input, please enter a number or 'q' to quit.\n",
      "What is 3 - 6?\n",
      "Invalid input, please enter a number or 'q' to quit.\n",
      "What is 4 - 4?\n",
      "Thanks for playing! Your final score is 16.\n"
     ]
    }
   ],
   "source": [
    "# POP 2\n",
    "\n",
    "import random\n",
    "\n",
    "def play_game():\n",
    "    score = 0\n",
    "    operators = ['+', '-', '*']\n",
    "\n",
    "    print(\"Welcome to the Math Quiz Game!\")\n",
    "    print(\"Answer as many questions as you can. Type 'q' to quit anytime.\\n\")\n",
    "\n",
    "    while True:\n",
    "        # Generate two random numbers and choose a random operator\n",
    "        num1 = random.randint(1, 10)\n",
    "        num2 = random.randint(1, 10)\n",
    "        op = random.choice(operators)\n",
    "\n",
    "        # Calculate the correct answer based on the operator\n",
    "        if op == '+':\n",
    "            answer = num1 + num2\n",
    "        elif op == '-':\n",
    "            answer = num1 - num2\n",
    "        else:\n",
    "            answer = num1 * num2\n",
    "\n",
    "        # Ask the player the question\n",
    "        print(f\"What is {num1} {op} {num2}?\")\n",
    "        player_input = input(\"Your answer (or type 'q' to quit): \")\n",
    "\n",
    "        # Check if the player wants to quit\n",
    "        if player_input.lower() == 'q':\n",
    "            break\n",
    "\n",
    "        # Check if the answer is correct\n",
    "        try:\n",
    "            player_answer = int(player_input)\n",
    "            if player_answer == answer:\n",
    "                print(\"Correct!\")\n",
    "                score += 1\n",
    "            else:\n",
    "                print(f\"Oops! The correct answer was {answer}.\")\n",
    "        except ValueError:\n",
    "            print(\"Invalid input, please enter a number or 'q' to quit.\")\n",
    "\n",
    "    print(f\"Thanks for playing! Your final score is {score}.\")\n",
    "\n",
    "# Start the game\n",
    "play_game()\n"
   ]
  },
  {
   "cell_type": "code",
   "execution_count": 4,
   "metadata": {
    "vscode": {
     "languageId": "javascript"
    }
   },
   "outputs": [
    {
     "data": {
      "application/javascript": "// POP 3\n\n// Temperature Converter in JavaScript\nlet temperature = parseFloat(prompt(\"Enter the temperature:\"));\nlet conversionType = prompt(\"Convert to (C)elsius or (F)ahrenheit?\").toUpperCase();\n\nif (conversionType === \"C\") {\n    // Convert Fahrenheit to Celsius\n    let celsius = (temperature - 32) * (5 / 9);\n    console.log(`${temperature}°F is equal to ${celsius.toFixed(2)}°C`);\n} else if (conversionType === \"F\") {\n    // Convert Celsius to Fahrenheit\n    let fahrenheit = (temperature * (9 / 5)) + 32;\n    console.log(`${temperature}°C is equal to ${fahrenheit.toFixed(2)}°F`);\n} else {\n    console.log(\"Invalid conversion type entered.\");\n}\n",
      "text/plain": [
       "<IPython.core.display.Javascript object>"
      ]
     },
     "metadata": {},
     "output_type": "display_data"
    }
   ],
   "source": [
    "%%js\n",
    "// POP 3\n",
    "\n",
    "// Temperature Converter in JavaScript\n",
    "let temperature = parseFloat(prompt(\"Enter the temperature:\"));\n",
    "let conversionType = prompt(\"Convert to (C)elsius or (F)ahrenheit?\").toUpperCase();\n",
    "\n",
    "if (conversionType === \"C\") {\n",
    "    // Convert Fahrenheit to Celsius\n",
    "    let celsius = (temperature - 32) * (5 / 9);\n",
    "    console.log(`${temperature}°F is equal to ${celsius.toFixed(2)}°C`);\n",
    "} else if (conversionType === \"F\") {\n",
    "    // Convert Celsius to Fahrenheit\n",
    "    let fahrenheit = (temperature * (9 / 5)) + 32;\n",
    "    console.log(`${temperature}°C is equal to ${fahrenheit.toFixed(2)}°F`);\n",
    "} else {\n",
    "    console.log(\"Invalid conversion type entered.\");\n",
    "}"
   ]
  },
  {
   "cell_type": "code",
   "execution_count": 5,
   "metadata": {},
   "outputs": [
    {
     "name": "stdout",
     "output_type": "stream",
     "text": [
      "Invalid conversion type entered. Please enter 'C' or 'F'.\n"
     ]
    }
   ],
   "source": [
    "# POP 3\n",
    "def temperature_converter():\n",
    "    try:\n",
    "        # Prompt the user for the temperature\n",
    "        temperature = float(input(\"Enter the temperature: \"))\n",
    "        \n",
    "        # Ask the user for the conversion type\n",
    "        conversion_type = input(\"Convert to Celsius or Fahrenheit? \").strip().upper()\n",
    "\n",
    "        if conversion_type == \"C\":\n",
    "            pass\n",
    "            celsius = (temperature - 32) * (5 / 9)\n",
    "            print(f\"{temperature}°F is equal to {celsius:.2f}°C\")\n",
    "\n",
    "        elif conversion_type == \"F\":\n",
    "            pass\n",
    "            fahrenheit = (temperature * (9 / 5)) + 32\n",
    "            print(f\"{temperature}°C is equal to {fahrenheit:.2f}°F\")\n",
    "\n",
    "        else:\n",
    "            print(\"Invalid conversion type entered. Please enter 'C' or 'F'.\")\n",
    "\n",
    "    except ValueError:\n",
    "        print(\"Invalid input. Please enter a numeric temperature value.\")\n",
    "\n",
    "# Call the temperature converter function\n",
    "temperature_converter()\n"
   ]
  },
  {
   "cell_type": "code",
   "execution_count": null,
   "metadata": {},
   "outputs": [],
   "source": [
    "# HW 1\n",
    "shopping_list = []\n",
    "cost = 0\n",
    "\n",
    "while True:\n",
    "    user_item = input(\"Enter item: \")\n",
    "    item_cost = int(input(\"Enter cost: \"))\n",
    "    shopping_list.append((user_item, item_cost))\n",
    "    cost += item_cost\n",
    "    continue_user = int(input(\"Contine, 1 for yes, 0 for no\"))\n",
    "    if continue_user == 1:\n",
    "        pass\n",
    "    else:\n",
    "        break"
   ]
  },
  {
   "cell_type": "code",
   "execution_count": 6,
   "metadata": {
    "vscode": {
     "languageId": "javascript"
    }
   },
   "outputs": [
    {
     "data": {
      "application/javascript": "// HW 2\n\nconst conversionRates = {\n    cupsToTablespoons: 16,\n    tablespoonsToTeaspoons: 3,\n    cupsToTeaspoons: 48,\n};\n\nfunction convert(quantity, fromUnit, toUnit) {\n    let convertedQuantity;\n\n    if (fromUnit === \"cups\" && toUnit === \"tablespoons\") {\n        convertedQuantity = quantity * conversionRates.cupsToTablespoons;\n    } else if (fromUnit === \"tablespoons\" && toUnit === \"teaspoons\") {\n        convertedQuantity = quantity * conversionRates.tablespoonsToTeaspoons;\n    } else if (fromUnit === \"cups\" && toUnit === \"teaspoons\") {\n        convertedQuantity = quantity * conversionRates.cupsToTeaspoons;\n    } else {\n        return \"Conversion not supported!\";\n    }\n    \n    return convertedQuantity;\n}\n\nlet ingredients = [];\nlet continueInput = true;\n\nwhile (continueInput) {\n    let ingredient = {};\n    \n    ingredient.name = prompt(\"Enter the ingredient name:\");\n    \n    ingredient.quantity = parseFloat(prompt(`Enter the quantity for ${ingredient.name}:`));\n    ingredient.fromUnit = prompt(\"Enter the unit of this quantity (cups/tablespoons/teaspoons):\");\n    ingredient.toUnit = prompt(\"Enter the unit you want to convert to (cups/tablespoons/teaspoons):\");\n\n    ingredient.convertedQuantity = convert(ingredient.quantity, ingredient.fromUnit, ingredient.toUnit);\n\n    ingredients.push(ingredient);\n    \n    let userResponse = prompt(\"Do you want to add another ingredient? (yes/no):\");\n    continueInput = (userResponse.toLowerCase() === \"yes\");\n}\n\nconsole.log(\"Converted Ingredient Quantities:\");\ningredients.forEach((ingredient) => {\n    console.log(`${ingredient.quantity} ${ingredient.fromUnit} of ${ingredient.name} is equivalent to ${ingredient.convertedQuantity} ${ingredient.toUnit}`);\n});\n",
      "text/plain": [
       "<IPython.core.display.Javascript object>"
      ]
     },
     "metadata": {},
     "output_type": "display_data"
    }
   ],
   "source": [
    "%%js \n",
    "// HW 2\n",
    "\n",
    "const conversionRates = {\n",
    "    cupsToTablespoons: 16,\n",
    "    tablespoonsToTeaspoons: 3,\n",
    "    cupsToTeaspoons: 48,\n",
    "};\n",
    "\n",
    "function convert(quantity, fromUnit, toUnit) {\n",
    "    let convertedQuantity;\n",
    "\n",
    "    if (fromUnit === \"cups\" && toUnit === \"tablespoons\") {\n",
    "        convertedQuantity = quantity * conversionRates.cupsToTablespoons;\n",
    "    } else if (fromUnit === \"tablespoons\" && toUnit === \"teaspoons\") {\n",
    "        convertedQuantity = quantity * conversionRates.tablespoonsToTeaspoons;\n",
    "    } else if (fromUnit === \"cups\" && toUnit === \"teaspoons\") {\n",
    "        convertedQuantity = quantity * conversionRates.cupsToTeaspoons;\n",
    "    } else {\n",
    "        return \"Conversion not supported!\";\n",
    "    }\n",
    "    \n",
    "    return convertedQuantity;\n",
    "}\n",
    "\n",
    "let ingredients = [];\n",
    "let continueInput = true;\n",
    "\n",
    "while (continueInput) {\n",
    "    let ingredient = {};\n",
    "    \n",
    "    ingredient.name = prompt(\"Enter the ingredient name:\");\n",
    "    \n",
    "    ingredient.quantity = parseFloat(prompt(`Enter the quantity for ${ingredient.name}:`));\n",
    "    ingredient.fromUnit = prompt(\"Enter the unit of this quantity (cups/tablespoons/teaspoons):\");\n",
    "    ingredient.toUnit = prompt(\"Enter the unit you want to convert to (cups/tablespoons/teaspoons):\");\n",
    "\n",
    "    ingredient.convertedQuantity = convert(ingredient.quantity, ingredient.fromUnit, ingredient.toUnit);\n",
    "\n",
    "    ingredients.push(ingredient);\n",
    "    \n",
    "    let userResponse = prompt(\"Do you want to add another ingredient? (yes/no):\");\n",
    "    continueInput = (userResponse.toLowerCase() === \"yes\");\n",
    "}\n",
    "\n",
    "console.log(\"Converted Ingredient Quantities:\");\n",
    "ingredients.forEach((ingredient) => {\n",
    "    console.log(`${ingredient.quantity} ${ingredient.fromUnit} of ${ingredient.name} is equivalent to ${ingredient.convertedQuantity} ${ingredient.toUnit}`);\n",
    "});"
   ]
  },
  {
   "attachments": {},
   "cell_type": "markdown",
   "metadata": {},
   "source": [
    "# 3.4"
   ]
  },
  {
   "cell_type": "code",
   "execution_count": 8,
   "metadata": {
    "vscode": {
     "languageId": "javascript"
    }
   },
   "outputs": [
    {
     "data": {
      "application/javascript": "// POP 1\n\nlet favoriteMovie = \"Top Gun\";\nlet favoriteSport = \"Badminton\";\nlet petName = \"Nikhil\";\n\nlet concatenatedMessage = \"My favorite movie is \" + favoriteMovie + \". I love playing \" + favoriteSport + \" and my pet's name is \" + petName + \".\";\n\nlet interpolatedMessage = `My favorite movie is ${favoriteMovie}. I love playing ${favoriteSport} and my pet's name is ${petName}.`;\n",
      "text/plain": [
       "<IPython.core.display.Javascript object>"
      ]
     },
     "metadata": {},
     "output_type": "display_data"
    }
   ],
   "source": [
    "%%js\n",
    "// POP 1\n",
    "\n",
    "let favoriteMovie = \"Top Gun\";\n",
    "let favoriteSport = \"Badminton\";\n",
    "let petName = \"Nikhil\";\n",
    "\n",
    "let concatenatedMessage = \"My favorite movie is \" + favoriteMovie + \". I love playing \" + favoriteSport + \" and my pet's name is \" + petName + \".\";\n",
    "\n",
    "let interpolatedMessage = `My favorite movie is ${favoriteMovie}. I love playing ${favoriteSport} and my pet's name is ${petName}.`;"
   ]
  },
  {
   "cell_type": "code",
   "execution_count": 12,
   "metadata": {
    "vscode": {
     "languageId": "javascript"
    }
   },
   "outputs": [
    {
     "data": {
      "application/javascript": "// POP 2\n\nlet phrase = \"Nikhil likes biryani and curry\";\n\nlet partOne = phrase.slice(2, 8);\nlet partTwo = phrase.slice(-18, -12);\nlet remainder = phrase.slice(20);\n\nconsole.log(partOne);\nconsole.log(partTwo);\nconsole.log(remainder);\n",
      "text/plain": [
       "<IPython.core.display.Javascript object>"
      ]
     },
     "metadata": {},
     "output_type": "display_data"
    }
   ],
   "source": [
    "%%js\n",
    "// POP 2\n",
    "\n",
    "let phrase = \"Nikhil likes biryani and curry\";\n",
    "\n",
    "let partOne = phrase.slice(2, 8);\n",
    "let partTwo = phrase.slice(-18, -12);\n",
    "let remainder = phrase.slice(20);\n",
    "\n",
    "console.log(partOne);\n",
    "console.log(partTwo);\n",
    "console.log(remainder);"
   ]
  },
  {
   "cell_type": "code",
   "execution_count": 13,
   "metadata": {},
   "outputs": [
    {
     "name": "stdout",
     "output_type": "stream",
     "text": [
      "H chnky mnky\n"
     ]
    }
   ],
   "source": [
    "#POP 3\n",
    "\n",
    "def remove_vowels(input_str):\n",
    "    vowels = \"aeiouAEIOU\"\n",
    "    result = ''.join([char for char in input_str if char not in vowels])\n",
    "    return result\n",
    "\n",
    "sentence = input(\"Enter sentence\")\n",
    "print(remove_vowels(sentence))"
   ]
  },
  {
   "cell_type": "code",
   "execution_count": 20,
   "metadata": {},
   "outputs": [
    {
     "name": "stdout",
     "output_type": "stream",
     "text": [
      "bob hi\n",
      "mom hi\n",
      "boy stupid the aturi m nikhil hi\n"
     ]
    }
   ],
   "source": [
    "# POP 4\n",
    "\n",
    "def reverse_words(input_str):\n",
    "    words = input_str.split()\n",
    "    reversed_words = \" \".join(words[::-1])\n",
    "    return reversed_words\n",
    "\n",
    "sentence1 = input(\"Enter sentence\")\n",
    "print(reverse_words(sentence1))\n",
    "sentence2 = input(\"Enter sentence\")\n",
    "print(reverse_words(sentence2))\n",
    "sentence3 = input(\"Enter sentence\")\n",
    "print(reverse_words(sentence3))"
   ]
  },
  {
   "cell_type": "code",
   "execution_count": 21,
   "metadata": {
    "vscode": {
     "languageId": "javascript"
    }
   },
   "outputs": [
    {
     "data": {
      "application/javascript": "// HW 1\n\nlet firstName = prompt(\"Enter your first name: \");\nlet lastName = prompt(\"Enter your last name: \");\n\n\nlet message = \"Greetings\" + firstName + lastName +  \".\";\nconsole.log(message);\n",
      "text/plain": [
       "<IPython.core.display.Javascript object>"
      ]
     },
     "metadata": {},
     "output_type": "display_data"
    }
   ],
   "source": [
    "%%js\n",
    "// HW 1\n",
    "\n",
    "let firstName = prompt(\"Enter your first name: \");\n",
    "let lastName = prompt(\"Enter your last name: \");\n",
    "\n",
    "\n",
    "let message = \"Greetings\" + firstName + lastName +  \".\";\n",
    "console.log(message);"
   ]
  },
  {
   "cell_type": "code",
   "execution_count": 25,
   "metadata": {},
   "outputs": [
    {
     "name": "stdout",
     "output_type": "stream",
     "text": [
      "Aiyaaaaa make a proper palindrome\n"
     ]
    }
   ],
   "source": [
    "# HW 2\n",
    "'''\n",
    "def palindrome(input_str):\n",
    "    clean_str = input_str.replace(\" \", \"\").lower()\n",
    "    \n",
    "    return clean_str == clean_str[::-1]\n",
    "input = input('Enter word')\n",
    "print(palindrome(input))\n",
    "'''\n",
    "\n",
    "string = input('Enter a word: ')\n",
    "rev_letters = []\n",
    "\n",
    "for letter in string:\n",
    "    rev_letters.append(letter)\n",
    "\n",
    "result = \"\".join(rev_letters[::-1])\n",
    "\n",
    "if string == result:\n",
    "    print('palindrome')\n",
    "else:\n",
    "    print('Aiyaaaaa make a proper palindrome')\n",
    "    "
   ]
  }
 ],
 "metadata": {
  "kernelspec": {
   "display_name": "venv",
   "language": "python",
   "name": "python3"
  },
  "language_info": {
   "codemirror_mode": {
    "name": "ipython",
    "version": 3
   },
   "file_extension": ".py",
   "mimetype": "text/x-python",
   "name": "python",
   "nbconvert_exporter": "python",
   "pygments_lexer": "ipython3",
   "version": "3.12.5"
  },
  "orig_nbformat": 4,
  "vscode": {
   "interpreter": {
    "hash": "2d794756cd16a7e6cfb2d56a4d21a0099904601599c3bc40788669ad5fc60730"
   }
  }
 },
 "nbformat": 4,
 "nbformat_minor": 2
}
