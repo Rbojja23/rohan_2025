{
 "cells": [
  {
   "cell_type": "raw",
   "metadata": {},
   "source": [
    "---\n",
    "layout: post\n",
    "title: Emoji Hack\n",
    "description:  Tools and Software Development for Sprint 1\n",
    "type: issues \n",
    "comments: true\n",
    "---"
   ]
  },
  {
   "attachments": {},
   "cell_type": "markdown",
   "metadata": {},
   "source": [
    "Hacks Tootls % Equipment:"
   ]
  },
  {
   "cell_type": "code",
   "execution_count": 4,
   "metadata": {},
   "outputs": [
    {
     "name": "stdout",
     "output_type": "stream",
     "text": [
      "🦫 My faviorite animal is a beaver! Dogs like to eat 🦴\n"
     ]
    }
   ],
   "source": [
    "from emoji import emojize \n",
    "print(emojize(\":beaver: My faviorite animal is a beaver! Dogs like to eat :bone:\"))"
   ]
  },
  {
   "cell_type": "code",
   "execution_count": 8,
   "metadata": {
    "vscode": {
     "languageId": "html"
    }
   },
   "outputs": [
    {
     "ename": "SyntaxError",
     "evalue": "invalid syntax (3206474317.py, line 1)",
     "output_type": "error",
     "traceback": [
      "\u001b[0;36m  Cell \u001b[0;32mIn[8], line 1\u001b[0;36m\u001b[0m\n\u001b[0;31m    <script>\u001b[0m\n\u001b[0m    ^\u001b[0m\n\u001b[0;31mSyntaxError\u001b[0m\u001b[0;31m:\u001b[0m invalid syntax\n"
     ]
    }
   ],
   "source": [
    "<script> \n",
    "    src=\"https://utteranc.es/client.js\"\n",
    "    repo=\"nighthawkcoders/portfolio_2025\"\n",
    "    issue-term=\"title\"\n",
    "    label=\"blogpost-comment\"\n",
    "    theme=\"github-light\"\n",
    "    crossorigin=\"anonymous\"\n",
    "    async>\n",
    "</script>"
   ]
  }
 ],
 "metadata": {
  "kernelspec": {
   "display_name": "venv",
   "language": "python",
   "name": "python3"
  },
  "language_info": {
   "codemirror_mode": {
    "name": "ipython",
    "version": 3
   },
   "file_extension": ".py",
   "mimetype": "text/x-python",
   "name": "python",
   "nbconvert_exporter": "python",
   "pygments_lexer": "ipython3",
   "version": "3.12.5 (main, Aug  6 2024, 19:08:49) [Clang 15.0.0 (clang-1500.1.0.2.5)]"
  },
  "orig_nbformat": 4,
  "vscode": {
   "interpreter": {
    "hash": "2d794756cd16a7e6cfb2d56a4d21a0099904601599c3bc40788669ad5fc60730"
   }
  }
 },
 "nbformat": 4,
 "nbformat_minor": 2
}
