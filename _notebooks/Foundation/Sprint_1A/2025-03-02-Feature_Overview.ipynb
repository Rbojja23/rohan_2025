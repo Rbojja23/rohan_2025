{
 "cells": [
  {
   "cell_type": "raw",
   "metadata": {
    "vscode": {
     "languageId": "raw"
    }
   },
   "source": [
    "---\n",
    "layout: post\n",
    "toc: true\n",
    "title: Feature Overview of Fair Fares | Rohan Bojja\n",
    "type: issues \n",
    "comments: true\n",
    "---"
   ]
  },
  {
   "cell_type": "markdown",
   "metadata": {
    "vscode": {
     "languageId": "plaintext"
    }
   },
   "source": [
    "## Introduction:\n",
    "\n",
    "Fair Fares is a feature of this CPT Project that allows for users to efficneltey view travel method options, specifccly with aviable flights. \n",
    "\n",
    "Our project takes in the users input as their Depatrure IATA code (e.g. LAX), and their Arrival IATA code. The output consists of the various avialble flights with time avilabilties, airlines, and a note feature."
   ]
  },
  {
   "cell_type": "markdown",
   "metadata": {},
   "source": [
    "## Purpose of Program:\n",
    "\n",
    "CRUD (Create, Read, Update, Delete), is used so the user will be able to make a post of information (consiting of origin, destination, and note) to the database, and will be able to, through the frotnend itself, replace notes, delete entries, and add more posts."
   ]
  },
  {
   "cell_type": "markdown",
   "metadata": {},
   "source": [
    "## Input/Output Demo\n",
    "\n",
    "### Input/Output in the Full Stack Feature\n",
    "### Frontend API Request and Response:"
   ]
  },
  {
   "cell_type": "code",
   "execution_count": null,
   "metadata": {
    "vscode": {
     "languageId": "powershell"
    }
   },
   "outputs": [],
   "source": [
    "<script type=\"module\">\n",
    "    import { pythonURI, fetchOptions } from '{{site.baseurl}}/assets/js/api/config.js';\n",
    "\n",
    "    document.getElementById('flightForm').addEventListener('submit', async function(event) {\n",
    "        event.preventDefault();\n",
    "        await fetchFlightData();\n",
    "    });\n",
    "\n",
    "    async function fetchFlightData() {\n",
    "        const origin = document.getElementById('origin').value;\n",
    "        const destination = document.getElementById('destination').value;\n",
    "        const flightResults = document.getElementById('flightResults');\n",
    "        const noteSection = document.getElementById('noteSection');\n",
    "        const noteInput = document.getElementById('noteInput');\n",
    "        const saveNoteButton = document.getElementById('saveNoteButton');\n",
    "\n",
    "        flightResults.innerHTML = '<p>Loading...</p>';\n",
    "\n",
    "        try {\n",
    "            const response = await fetch(`http://127.0.0.1:8887/api/flight-api?origin=${origin}&destination=${destination}`);\n",
    "            \n",
    "            if (!response.ok) {\n",
    "                throw new Error(`HTTP error! Status: ${response.status}`);\n",
    "            }\n",
    "\n",
    "            const data = await response.json();\n",
    "            if (data && data.data && data.data.length > 0) {\n",
    "                flightResults.innerHTML = data.data.map(flight =>\n",
    "                    `<div class=\"flight-card\">\n",
    "                        <p>Flight ${flight.flight.iata}: ${flight.airline.name} - Departure: ${flight.departure.scheduled}, Arrival: ${flight.arrival.scheduled}</p>\n",
    "                        <button class=\"note-button\">Add Note</button>\n",
    "                        <div class=\"note-input\" style=\"display:none;\">\n",
    "                            <input type=\"text\" class=\"note-text\" placeholder=\"Type your note here\">\n",
    "                            <button class=\"save-note\">Save Note</button>\n",
    "                        </div>\n",
    "                    </div>`\n",
    "                ).join('');\n",
    "\n",
    "                const noteButtons = document.querySelectorAll('.note-button');\n",
    "                noteButtons.forEach((button, index) => {\n",
    "                    button.addEventListener('click', () => {\n",
    "                        const noteInputSection = button.closest('.flight-card').querySelector('.note-input');\n",
    "                        noteInputSection.style.display = 'block';\n",
    "                    });\n",
    "                });\n",
    "\n",
    "                const saveNoteButtons = document.querySelectorAll('.save-note');\n",
    "                saveNoteButtons.forEach((button, index) => {\n",
    "                    button.addEventListener('click', async () => {\n",
    "                        const noteText = button.closest('.flight-card').querySelector('.note-text').value;\n",
    "                        if (noteText) {\n",
    "                            await postFlightData(origin, destination, noteText);\n",
    "                            showNotesTable(); // Refresh the notes table after saving\n",
    "                        }\n",
    "                    });\n",
    "                });\n",
    "            } else {\n",
    "                flightResults.innerHTML = `<p>No flights found for the provided details.</p>`;\n",
    "            }\n",
    "        } catch (error) {\n",
    "            flightResults.innerHTML = `<p>Error: ${error.message}</p>`;\n",
    "        }\n",
    "    }\n",
    "</script>\n"
   ]
  },
  {
   "cell_type": "markdown",
   "metadata": {},
   "source": [
    "# Big Idea 1.4 Debugging Code and Fixing Errors\n",
    "\n",
    "I used Postman to debug the backend code and find the source of the error, adn then the frontend code was resolved through inspection of the main pages. Adding test data such as this below allowed for the seamless connection testing ebtween the frontend and backend:"
   ]
  },
  {
   "cell_type": "markdown",
   "metadata": {},
   "source": [
    "### Using Postman for Raw API Testing\n",
    "\n",
    "URL: http://192.168.1.10:8887/api/flight\n",
    "\n",
    "- **Request**: Example of a POST request to create new data:\n",
    "    ```json\n",
    "    {\n",
    "      \"origin\": \"LAX\",\n",
    "      \"destination\": \"DEN\",\n",
    "      \"note\": \"Buisness Trip\"\n",
    "    }\n",
    "    ```\n",
    "- **Response**:\n",
    "    ```json\n",
    "    {\n",
    "        \"destination\": \"DEN\",\n",
    "        \"id\": 4,\n",
    "        \"notes\": \"Buisness Trip\",\n",
    "        \"origin\": \"LAX\"\n",
    "    }\n",
    "    ```\n",
    "\n",
    "- **Request**: Example of a PUT request to update  data:\n",
    "    ```json\n",
    "    {\n",
    "      \"id\": 4,\n",
    "      \"origin\": \"LAX\",\n",
    "      \"destination\": \"DEN\",\n",
    "      \"note\": \"Buisness Trip\"\n",
    "    }\n",
    "    ```\n",
    "- **Response**:\n",
    "    ```json\n",
    "    {\n",
    "        \"destination\": \"DEN\",\n",
    "        \"id\": 4,\n",
    "        \"notes\": \"UPDATED NOTE\",\n",
    "        \"origin\": \"LAX\"\n",
    "    }\n",
    "    ```\n",
    "\n",
    "- **Request**: Example of a DELETE request to delete  data:\n",
    "    ```json\n",
    "    {\n",
    "      \"id\": 4\n",
    "    }\n",
    "    ```\n",
    "- **Response**:\n",
    "    ```json\n",
    "    {\n",
    "        \"message\": \"Flight deleted successfully\"\n",
    "    }\n",
    "    ```\n",
    "\n",
    "\n",
    "- Error Responses:\n",
    "    - **400 Bad Request**: If required fields are missing.\n",
    "    - **404 Not Found**: If the endpoint is incorrect."
   ]
  },
  {
   "cell_type": "code",
   "execution_count": null,
   "metadata": {},
   "outputs": [],
   "source": [
    "# INIT\n",
    "db.create_all()\n",
    "\n",
    "\n",
    "# Test data\n",
    "flights = [\n",
    "    Flight(origin='LAX', destination='JFK', note='Flight from Los Angeles to New York'),\n",
    "    Flight(origin='SFO', destination='ATL', note='Flight from San Francisco to Atlanta'),\n",
    "    Flight(origin='ORD', destination='MIA', note='Flight from Chicago to Miami'),\n",
    "]\n",
    "\n",
    "for flight in flights:\n",
    "    try:\n",
    "        flight.create()\n",
    "        print(f\"Record created: {repr(flight)}\")\n",
    "    except IntegrityError:\n",
    "        db.session.remove()\n",
    "        print(f\"Record exists or error: {flight.origin} to {flight.destination}\")\n",
    "        \n",
    "        \n",
    "        \n",
    "# RESTORE\n",
    "for flight_data in data:\n",
    "    _ = flight_data.pop('id', None)  # Remove 'id' from post_data\n",
    "    title = flight_data.get(\"origin\", None)\n",
    "    flight = Flight.query.filter_by(origin=title).first()\n",
    "    if flight:\n",
    "        flight.update(flight_data)\n",
    "    else:\n",
    "        flight = Flight(**flight_data)\n",
    "        flight.update(flight_data)\n",
    "        flight.create()\n",
    "        \n",
    "        \n",
    "# BACKUP\n",
    "def main():\n",
    "    # Step 1: Backup the old database\n",
    "    with app.app_context():\n",
    "        backup_data()"
   ]
  },
  {
   "cell_type": "markdown",
   "metadata": {},
   "source": [
    "# Big Idea 2 Data\n",
    "\n",
    "We used SQLite databases in order to manage all this data:"
   ]
  },
  {
   "cell_type": "markdown",
   "metadata": {},
   "source": [
    "![SQLite Screenshot]({{site.baseurl}}/images/sqlite.png)"
   ]
  },
  {
   "cell_type": "markdown",
   "metadata": {},
   "source": [
    "Database privacy is kept with the way it is handled through either lsits or dictaries, where the difference is how they are keyed through. Database retrivel is done using the query method to return list of flights or rows in the table, and then can be used with backend to frotnend integraiton to display on the main page. The Datbase abckup and reecovery are used with the init, resotre, and backup python scripts, which just adds to functionality."
   ]
  },
  {
   "cell_type": "markdown",
   "metadata": {},
   "source": [
    "# Use of Lists, Dictionaries, and Database\n",
    "\n",
    "### Data Handling in the Program\n",
    "- **Lists**: Used to represent rows of data retrieved from the database. Example:\n",
    "    ```python\n",
    "    datas = [\n",
    "        {\"id\": 1, \"origin\": \"LAX\", \"destination\": \"DEN\", \"note\": \"Testing\"}\n",
    "    ]\n",
    "    ```\n",
    "- **Dictionaries**: Represent individual database entries as key-value pairs (columns).\n",
    "    ```python\n",
    "    data = {\n",
    "        \"id\": 1, \n",
    "        \"origin\": \"LAX\", \n",
    "        \"destination\": \"DEN\", \n",
    "        \"note\": \"Testing\"\n",
    "    }\n",
    "    ```\n",
    "\n",
    "### Database Queries\n",
    "We use SQLAlchemy to interact with the database:\n",
    "- **Extracting Rows**:\n",
    "    ```python\n",
    "    flight = Flight.query.get(flight_id)  # Returns a list of Flight objects\n",
    "    ```\n",
    "- **Formatting Response Data**:\n",
    "    ```python\n",
    "    return jsonify([flight.read() for flight in all_flights])\n",
    "    ```\n"
   ]
  },
  {
   "cell_type": "markdown",
   "metadata": {
    "vscode": {
     "languageId": "plaintext"
    }
   },
   "source": [
    "<script type=module>\n",
    "    async function showNotesTable() {\n",
    "        const tableSection = document.getElementById('notesTable');\n",
    "        tableSection.innerHTML = ''; // Clear any previous content\n",
    "\n",
    "        try {\n",
    "            // Fetch notes from the server\n",
    "            const response = await fetch('http://127.0.0.1:8887/api/flight');\n",
    "\n",
    "            if (!response.ok) {\n",
    "                throw new Error(`Failed to fetch flight data with notes. Status: ${response.status}`);\n",
    "            }\n",
    "\n",
    "            const flights = await response.json();\n",
    "            console.log(flights); // Log the returned data for debugging\n",
    "\n",
    "            if (flights && flights.length > 0) {\n",
    "                const table = document.createElement('table');\n",
    "                table.innerHTML = `<tr><th>Origin</th><th>Destination</th><th>Notes</th><th>Actions</th></tr>`;\n",
    "\n",
    "                flights.forEach(flight => {\n",
    "                    table.appendChild(buildTableRow(flight));\n",
    "                });\n",
    "\n",
    "                tableSection.appendChild(table);\n",
    "            } else {\n",
    "                tableSection.innerHTML = '<p>No notes available.</p>';\n",
    "            }\n",
    "        } catch (error) {\n",
    "            console.error('Error loading the notes table:', error);\n",
    "            tableSection.innerHTML = '<p>Failed to load notes. Please try again later.</p>';\n",
    "        }\n",
    "    }\n",
    "</script>"
   ]
  },
  {
   "cell_type": "markdown",
   "metadata": {},
   "source": [
    "## Querying from Database"
   ]
  },
  {
   "cell_type": "code",
   "execution_count": null,
   "metadata": {},
   "outputs": [],
   "source": [
    "def get(self):\n",
    "    flight_id = request.args.get('id')\n",
    "\n",
    "    if flight_id:\n",
    "        flight = Flight.query.get(flight_id)\n",
    "        if not flight:\n",
    "            return {'message': 'Flight not found'}, 404\n",
    "        return jsonify(flight.read())\n",
    "\n",
    "    all_flights = Flight.query.all()\n",
    "    return jsonify([flight.read() for flight in all_flights])"
   ]
  },
  {
   "cell_type": "markdown",
   "metadata": {},
   "source": [
    "## Method to be compatible with database"
   ]
  },
  {
   "cell_type": "code",
   "execution_count": null,
   "metadata": {},
   "outputs": [],
   "source": [
    "def post(self):\n",
    "    data = request.get_json()\n",
    "\n",
    "    if not data or 'origin' not in data or 'destination' not in data or 'note' not in data:\n",
    "        return {'message': 'Origin, destination, and note are required'}, 400\n",
    "\n",
    "    flight = Flight(\n",
    "        origin=data.get('origin'),\n",
    "        destination=data.get('destination'),\n",
    "        note=data.get('note')\n",
    "    )\n",
    "\n",
    "    try:\n",
    "        flight.create()\n",
    "        return jsonify(flight.read())\n",
    "    except Exception as e:\n",
    "        return {'message': f'Error saving flight: {e}'}, 500"
   ]
  },
  {
   "cell_type": "markdown",
   "metadata": {},
   "source": [
    "### Database Tools: Data Creation and Recovery\n",
    "- **`db_init`**: Initializes the database schema for the program.\n",
    "- **`db_restore`**: Recovers tester data for consistent testing environments.\n",
    "- **`db_backup`**: Saves the current state of the database for restoration."
   ]
  },
  {
   "cell_type": "markdown",
   "metadata": {},
   "source": [
    "# Algorithmic Code Request\n",
    "\n",
    "## CRUD Operations:"
   ]
  },
  {
   "cell_type": "code",
   "execution_count": null,
   "metadata": {},
   "outputs": [],
   "source": [
    "class _CRUD(Resource):\n",
    "    def post(self):\n",
    "        data = request.get_json()\n",
    "\n",
    "        if not data or 'origin' not in data or 'destination' not in data or 'note' not in data:\n",
    "            return {'message': 'Origin, destination, and note are required'}, 400\n",
    "\n",
    "        flight = Flight(\n",
    "            origin=data.get('origin'),\n",
    "            destination=data.get('destination'),\n",
    "            note=data.get('note')\n",
    "        )\n",
    "\n",
    "        try:\n",
    "            flight.create()\n",
    "            return jsonify(flight.read())\n",
    "        except Exception as e:\n",
    "            return {'message': f'Error saving flight: {e}'}, 500\n",
    "\n",
    "    def get(self):\n",
    "        flight_id = request.args.get('id')\n",
    "\n",
    "        if flight_id:\n",
    "            flight = Flight.query.get(flight_id)\n",
    "            if not flight:\n",
    "                return {'message': 'Flight not found'}, 404\n",
    "            return jsonify(flight.read())\n",
    "\n",
    "        all_flights = Flight.query.all()\n",
    "        return jsonify([flight.read() for flight in all_flights])\n",
    "\n",
    "    def put(self):\n",
    "        data = request.get_json()\n",
    "\n",
    "        if not data or 'id' not in data:\n",
    "            return {'message': 'ID is required for updating a flight'}, 400\n",
    "\n",
    "        flight = Flight.query.get(data['id'])\n",
    "        if not flight:\n",
    "            return {'message': 'Flight not found'}, 404\n",
    "\n",
    "        try:\n",
    "            flight.update(data)\n",
    "            return jsonify(flight.read())\n",
    "        except Exception as e:\n",
    "            return {'message': f'Error updating flight: {e}'}, 500\n",
    "\n",
    "    def delete(self):\n",
    "        data = request.get_json()\n",
    "\n",
    "        if not data or 'id' not in data:\n",
    "            return {'message': 'ID is required for deleting a flight'}, 400\n",
    "\n",
    "        flight = Flight.query.get(data['id'])\n",
    "        if not flight:\n",
    "            return {'message': 'Flight not found'}, 404\n",
    "\n",
    "        try:\n",
    "            flight.delete()\n",
    "            return {'message': 'Flight deleted successfully'}, 200\n",
    "        except Exception as e:\n",
    "            return {'message': f'Error deleting flight: {e}'}, 500\n",
    "\n",
    "\n",
    "# Register the CRUD resource\n",
    "api.add_resource(_CRUD, '/flight')"
   ]
  },
  {
   "cell_type": "markdown",
   "metadata": {},
   "source": [
    "# Big Idea 4 Internet\n",
    "\n",
    "Being the deployment assistant admin, I ahve to keep records of the deplyoment blog: https://kiruthic-selvakumar.github.io/travel_frontend/2025/02/02/deployment_blog.html\n",
    "\n",
    "We used Amazon Web services to deploy the application. The domain name system for Intertravel was:\n",
    "\n",
    "Server: https://intertravel.stu.nighthawkcodingsociety.com/\n",
    "Domain: nighthawkcodingsociety.com\n",
    "Subdomain: intertravel.stu\n",
    "\n",
    "Furthermore, we used JWT tokens to autheticate the server. To also contribute to deployment, the ngnix file, docker compose, and other files were created, and kept as records in the blog.\n",
    "\n",
    "\n",
    "As show ABOVE, the CRUD operations are used to interact with the backend, where the PUT and DELETE functions are sequnecing through the database for specified infromation."
   ]
  },
  {
   "cell_type": "markdown",
   "metadata": {},
   "source": []
  }
 ],
 "metadata": {
  "kernelspec": {
   "display_name": "venv",
   "language": "python",
   "name": "python3"
  },
  "language_info": {
   "codemirror_mode": {
    "name": "ipython",
    "version": 3
   },
   "file_extension": ".py",
   "mimetype": "text/x-python",
   "name": "python",
   "nbconvert_exporter": "python",
   "pygments_lexer": "ipython3",
   "version": "3.12.9"
  }
 },
 "nbformat": 4,
 "nbformat_minor": 2
}
