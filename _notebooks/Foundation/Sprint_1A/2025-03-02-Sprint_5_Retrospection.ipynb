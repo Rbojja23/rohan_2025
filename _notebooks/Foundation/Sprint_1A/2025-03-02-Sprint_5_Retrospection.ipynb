{
 "cells": [
  {
   "cell_type": "raw",
   "metadata": {
    "vscode": {
     "languageId": "raw"
    }
   },
   "source": [
    "---\n",
    "layout: post\n",
    "toc: true\n",
    "title: Sprint 5 Retrospection | Rohan Bojja\n",
    "type: issues \n",
    "comments: true\n",
    "---"
   ]
  },
  {
   "cell_type": "markdown",
   "metadata": {},
   "source": [
    "# 5 Main Parts over 12 weeks\n",
    "\n",
    "1. Burn Down List / Planning / Figma\n",
    "2. Frontend Creation / Design / Fetch Request\n",
    "3. Creation of an API / Postman Testing\n",
    "4. CRUD Implementation / Frontend to Backend Full Stack\n",
    "5. Assistant Deployment Admin Role / Deployment Blog Records"
   ]
  },
  {
   "cell_type": "markdown",
   "metadata": {},
   "source": [
    "# Burn Down List and Planning"
   ]
  },
  {
   "cell_type": "markdown",
   "metadata": {},
   "source": [
    "![Burn Down List Screenshot]({{site.baseurl}}/images/burn.png)"
   ]
  },
  {
   "cell_type": "markdown",
   "metadata": {},
   "source": [
    "By using this burn down list, I was able to quickly go through multiple tasks and make sure I was on point with everything I did, and progress through the feature effincently."
   ]
  },
  {
   "cell_type": "markdown",
   "metadata": {},
   "source": [
    "![Figma Screenshot]({{site.baseurl}}/images/figma.png)"
   ]
  },
  {
   "cell_type": "markdown",
   "metadata": {},
   "source": [
    "I was the creator of the FIGMA design at the beggining of the UI deisnging planning. I made sure to make a workflow between all the pages and give a chance for all team members to customize their own page. This is where I learned how to have a cohesive UI design on the frontend."
   ]
  },
  {
   "cell_type": "markdown",
   "metadata": {},
   "source": [
    "# Frontend Creation / Fetch Request"
   ]
  },
  {
   "cell_type": "markdown",
   "metadata": {},
   "source": [
    "The CSS for the Frontend was updated finnally to this version. This is vital to the website because it allows for a cohesive UI, which allows for the user to want to interact:"
   ]
  },
  {
   "cell_type": "markdown",
   "metadata": {
    "vscode": {
     "languageId": "html"
    }
   },
   "source": [
    "![CSS Screenshot]({{site.baseurl}}/images/css.png)"
   ]
  },
  {
   "cell_type": "markdown",
   "metadata": {},
   "source": [
    "I have also worked on the frotnend fetch request to the abckend API. Before this iteration, I autommaticcly did all the work in the frontend, even with the api sourcing, however, I learnt that using the backend is much more efficent, espically when needing the model file."
   ]
  },
  {
   "cell_type": "markdown",
   "metadata": {},
   "source": [
    "![Fetch Screenshot]({{site.baseurl}}/images/fetch.png)"
   ]
  },
  {
   "cell_type": "markdown",
   "metadata": {},
   "source": [
    "# Creation of an API / Postman Testing"
   ]
  },
  {
   "cell_type": "markdown",
   "metadata": {},
   "source": [
    "![API Screenshot]({{site.baseurl}}/images/api.png)"
   ]
  },
  {
   "cell_type": "markdown",
   "metadata": {},
   "source": [
    "This is the API code, which I have iterated after the frontend api source, and put it in the backend. As you can see, it shows the sourcing of the API, even with the token, and checks if all the information enccesary is validated."
   ]
  },
  {
   "cell_type": "markdown",
   "metadata": {},
   "source": [
    "Here is the Postman testing, where I have tested this all for abckend functionality, before any Full stack completition. This is vital to make sure there are no conflicts with post functions, and making sure it all gets uploaded to the database."
   ]
  },
  {
   "cell_type": "markdown",
   "metadata": {},
   "source": [
    "### Using Postman for Raw API Testing\n",
    "\n",
    "URL: http://192.168.1.10:8887/api/flight\n",
    "\n",
    "- **Request**: Example of a POST request to create new data:\n",
    "    ```json\n",
    "    {\n",
    "      \"origin\": \"LAX\",\n",
    "      \"destination\": \"DEN\",\n",
    "      \"note\": \"Buisness Trip\"\n",
    "    }\n",
    "    ```\n",
    "- **Response**:\n",
    "    ```json\n",
    "    {\n",
    "        \"destination\": \"DEN\",\n",
    "        \"id\": 4,\n",
    "        \"notes\": \"Buisness Trip\",\n",
    "        \"origin\": \"LAX\"\n",
    "    }\n",
    "    ```\n",
    "\n",
    "- **Request**: Example of a PUT request to update  data:\n",
    "    ```json\n",
    "    {\n",
    "      \"id\": 4,\n",
    "      \"origin\": \"LAX\",\n",
    "      \"destination\": \"DEN\",\n",
    "      \"note\": \"Buisness Trip\"\n",
    "    }\n",
    "    ```\n",
    "- **Response**:\n",
    "    ```json\n",
    "    {\n",
    "        \"destination\": \"DEN\",\n",
    "        \"id\": 4,\n",
    "        \"notes\": \"UPDATED NOTE\",\n",
    "        \"origin\": \"LAX\"\n",
    "    }\n",
    "    ```\n",
    "\n",
    "- **Request**: Example of a DELETE request to delete  data:\n",
    "    ```json\n",
    "    {\n",
    "      \"id\": 4\n",
    "    }\n",
    "    ```\n",
    "- **Response**:\n",
    "    ```json\n",
    "    {\n",
    "        \"message\": \"Flight deleted successfully\"\n",
    "    }\n",
    "    ```\n",
    "\n",
    "\n",
    "- Error Responses:\n",
    "    - **400 Bad Request**: If required fields are missing.\n",
    "    - **404 Not Found**: If the endpoint is incorrect."
   ]
  },
  {
   "cell_type": "markdown",
   "metadata": {},
   "source": [
    "# CRUD Implementation / Frontend to Backend Full Stack"
   ]
  },
  {
   "cell_type": "markdown",
   "metadata": {},
   "source": [
    "I have implemented CRUD features, create, read, update, and delete, for the user to completely interact with the feature itself, mainly through the posts of flights, and itneracting with the notes made on the flight. Attached are the four functions."
   ]
  },
  {
   "cell_type": "markdown",
   "metadata": {},
   "source": [
    "![CRUD Screenshot]({{site.baseurl}}/images/crud.png)"
   ]
  },
  {
   "cell_type": "markdown",
   "metadata": {},
   "source": [
    "I have also done full stack implementation, as for example, you can see with the notes feature in the frontend code. You can see the post function, update function, and delete function, that all cals the crud functions from the abckend, that were already previously tested with postman."
   ]
  },
  {
   "cell_type": "markdown",
   "metadata": {},
   "source": [
    "![Notes Screenshot]({{site.baseurl}}/images/notes.png)"
   ]
  },
  {
   "cell_type": "markdown",
   "metadata": {},
   "source": [
    "# Assistant Deployment Admin Role / Deployment Blog Records"
   ]
  },
  {
   "cell_type": "markdown",
   "metadata": {},
   "source": [
    "As the Assitant Deployment Admin, I was in charge of the deployment blog, where I had to keep records on DNHS, ngnix files, docker files, and list out the steps in order to recreate if neccesary. (https://kiruthic-selvakumar.github.io/travel_frontend/2025/02/02/deployment_blog.html)"
   ]
  },
  {
   "cell_type": "markdown",
   "metadata": {},
   "source": [
    "![Admin Screenshot]({{site.baseurl}}/images/admin.png)"
   ]
  },
  {
   "cell_type": "markdown",
   "metadata": {},
   "source": [
    "| Category                                    | Max Points | Self Grade | Explanation |\n",
    "|---------------------------------------------|------------|------------|-------------|\n",
    "| **Sprint 5 Retrospection**            | 5          | 4.5        | My five main things, planning, frontend creation, api creation, crud implementation, and deployment assitant admin roles, were all throughly explained throughout the blog, and supported with images and screenshots of work proof. I beleive this deserves a 4.5 because of the implemntations of the API showing iteration from the very first couple of times they were integrated, from just onto the forntned, into a seperate file in the abckend, to being inputted into model files to create a database. |\n",
    "| **Full Stack Project Demo**     | 2          | 1.75        | The demo covered all of the required CPT requirments, and showed a functioning CRUD output and input, fetch request to the outsourced API, and unique output of all the listed flights, that eases the user. However, the reason this doesnt earn anymore than a 1.75, is because of its simplicity, not only with the user. It could be improved in terms of complexity with who edits what entry, and although it is mainly meant to be a public feature (e.g. to display delay times), it may be beneficial to add admin roles, when I recently though that wasnt neccesary.|\n",
    "| **Project Feature Blog** | 1          | 0.9        | The blog, along with CPT/FRQ lanugage, and while sourcing the Big Ideas, clearly explains the proccess of how to do Full sTakc implementation, testing with postman, backend database inquires, and other methods that college baord requires us to know. I made the blog throughough with adding visuals and screenshots to show proof of concept and functionality. |\n",
    "| **MCQ Review & N@TM**                         | 1          | 0.9        | Although my perofrmance on the MCQ was slightly above par for myself, I would still like to improve in the areas we've discussed. I still gave a 0.9 due to the thorough review of the MC, where everys ingle incorrect quesiton was restated and reasoned throguh. For the N@TM, I also went ot three differnt booths and took notes, interacting with the hosts, and showing proof of visiting. I also analyzed our results from our interviewers and people who stopped by, where we scored higher than an average rating, showing the attrativness of the features. |\n",
    "| **Contributions to Team**              | 1          | 0.9       | Not only as being an Assistant Deployment Admin, but I also feel I was always consistent with presentations. Wether it be with reviews with Mr. Mortneson, or also helped our scrum amster take head of the Kanabn board, I have since been an integral part of the organization of the team. Likewise, I have created the majority of the Figma, which was key to cohesive UI designing. I created records of the deplyoment blog with file reords, important DNS information, and updated it with steps throughout the proccess. |\n",
    "| **Overall Score**                           | 10         | **8.95**    | For next steps, when working on this feature in the future, I would like to implement more unqiue CRUd features, such as a calender, etc. I would also like to apply my knowledge ot intenrships, as I am also doing currently with molecular dynamics and python. I would also like to carry forward by deployment skills by attempting to deploy a website creation of my own in the future, which could be beneficial to my own learning, while also putting my skills to use to show future interviewers and even friends. |\n"
   ]
  }
 ],
 "metadata": {
  "kernelspec": {
   "display_name": "venv",
   "language": "python",
   "name": "python3"
  },
  "language_info": {
   "codemirror_mode": {
    "name": "ipython",
    "version": 3
   },
   "file_extension": ".py",
   "mimetype": "text/x-python",
   "name": "python",
   "nbconvert_exporter": "python",
   "pygments_lexer": "ipython3",
   "version": "3.12.9"
  }
 },
 "nbformat": 4,
 "nbformat_minor": 2
}
