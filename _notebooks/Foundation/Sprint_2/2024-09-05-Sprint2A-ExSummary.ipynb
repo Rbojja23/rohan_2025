{
 "cells": [
  {
   "attachments": {},
   "cell_type": "markdown",
   "metadata": {},
   "source": [
    "# Self Grade: 0.89\n",
    "I contributed to the lesson first with content (3.5 - 3.5 Javascript), helped create the quiz modal, created half of the quiz questions (\"What does the code output\"), and graded other homework.\n",
    "\n",
    "# Reason for 0.89\n",
    "Although I contributed a lot towards the content aspect of the lesson and being a part of the creation of side tasks (quiz and modal), I believe I wasn't as much of a help to the debugging aspect. When our group came across an issue where the navigation was messed up for the lesson, Yash and Nikhil took the initiative, while I still attempted to look for the issue, I could not resolve it, and it was Yash and Nikhil who did."
   ]
  },
  {
   "attachments": {},
   "cell_type": "markdown",
   "metadata": {},
   "source": [
    "# Self Grade: 0.89\n",
    "I contributed to the lesson first with content (3.5 - 3.5 Javascript), helped create the quiz modal, created half of the quiz questions (\"What does the code output\"), and graded other homework.\n",
    "\n",
    "# Reason for 0.89\n",
    "Although I contributed a lot towards the content aspect of the lesson and being a part of the creation of side tasks (quiz and modal), I believe I wasn't as much of a help to the debugging aspect. When our group came across an issue where the navigation was messed up for the lesson, Yash and Nikhil took the initiative, while I still attempted to look for the issue, I could not resolve it, and it was Yash and Nikhil who did.\n",
    "\n",
    "# What I learned:\n",
    "\n",
    "1. Collaboration skills: I believe that one of the main takeaways I had from the project is the constant collaboration that was needed, not just between scrum masters. For example, at the end of the day, all of ours lessons needed to be thorough, and some groups were struggling with that. After completing my content, I took initiative and went and helped about several groups with errors that they were facing (i.e. Arhaan and Mihir).\n",
    "2. Technical skills: I believe I learnt the most in the aspect, especially because javascript is not a coding language I am familiar with, so it took a lot of W3 schools and stack overflow to figure out the problems I was having with my code. However, after the experience I had with coding in javascript for sections 1-5 in our teams lesson, I am confident enough to code javascript for similar tasks without any external sources help. One of the main things I learned about using javascript was the need of HTML to output it. I believe our team was the first to figure this out, as we created the javscvript code for the users reference, and then underneath that, we created the javascript code within the html, so that the code would not be shown on the lesson, but rather the output of the previous. One main thing I learned with our own lesson, Data Abstraction, is how to efficiently code to decrease complexity and make it easier for modifying later. I didn't know at all what abstraction meant, and how it was applicable to code at the beginning, but as time went on, I was able to relate the concept with python variables for example, or dictionaries."
   ]
  },
  {
   "attachments": {},
   "cell_type": "markdown",
   "metadata": {},
   "source": [
    "# Summary of relevancy checklist:\n",
    "\n",
    "- Ind. Contribution: Contribute through creating 3.1-3.5 javascript lessons, creating quiz modal, and creating half of the quiz questions.\n",
    "- Personal Notebooks: All the homework and popcorn hacks are completed, and I added comments scattered throughout for easy reference, if I needed to refresh my self on the content. I made each hack unique with my own inputs and modified code output. I also added a mini game at the end of my notebook, Running from the Mongols, which I presented before, that contains all of the lesson aspects, such as mathematical operators or dictionaries.\n",
    "- Grading/Feedback: Our group had a set scale for grading which we followed, along with filling out a breakdown of all the grades into separate parts. I contributed by finishing 5 out of 20 grades, which we equally contributed in total. I was thorough when going through the notebook, and made sure to add any extra points from the quiz or javascript homework if they had any. I also gave feedback as to why I took off points, or why I gave them points.\n",
    "- Other: Our group had a strong presentation, with many integrated visual aspects, such as the codepen Nikhil made. I believe we also taught our lesson well enough for the students to complete homework hacks, which we can validate by looking at the grades of the notebooks and seeing if they understood the concept or not. We were also organized, with an issue dedicated to organizing tasks, and creating a slack group chat that was often active for communication."
   ]
  }
 ],
 "metadata": {
  "kernelspec": {
   "display_name": "venv",
   "language": "python",
   "name": "python3"
  },
  "language_info": {
   "codemirror_mode": {
    "name": "ipython",
    "version": 3
   },
   "file_extension": ".py",
   "mimetype": "text/x-python",
   "name": "python",
   "nbconvert_exporter": "python",
   "pygments_lexer": "ipython3",
   "version": "3.12.5 (main, Aug  6 2024, 19:08:49) [Clang 15.0.0 (clang-1500.1.0.2.5)]"
  },
  "orig_nbformat": 4,
  "vscode": {
   "interpreter": {
    "hash": "2d794756cd16a7e6cfb2d56a4d21a0099904601599c3bc40788669ad5fc60730"
   }
  }
 },
 "nbformat": 4,
 "nbformat_minor": 2
}
