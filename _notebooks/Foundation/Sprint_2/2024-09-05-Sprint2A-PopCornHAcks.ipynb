{
 "cells": [
  {
   "attachments": {},
   "cell_type": "markdown",
   "metadata": {},
   "source": [
    "# 3.8"
   ]
  },
  {
   "cell_type": "code",
   "execution_count": 1,
   "metadata": {},
   "outputs": [
    {
     "name": "stdout",
     "output_type": "stream",
     "text": [
      "meh dal\n",
      "yummy rasam\n"
     ]
    }
   ],
   "source": [
    "# HW 1 FIRST SECTION PY\n",
    "\n",
    "curry = {'meh': 'dal', 'yummy': \"rasam\"}\n",
    "\n",
    "for key in curry:\n",
    "    print(key, curry[key])\n",
    " "
   ]
  },
  {
   "cell_type": "code",
   "execution_count": 30,
   "metadata": {
    "vscode": {
     "languageId": "javascript"
    }
   },
   "outputs": [
    {
     "data": {
      "application/javascript": "// HW 1 FIRST SECTION JV\n\nconst bobs = {\n    \"first\": \"bob1\",\n    \"second\": \"bob2\"\n}\n\nfor (const key in bobs) {\n    console.log(key + \": \" + bobs[key])\n}\n",
      "text/plain": [
       "<IPython.core.display.Javascript object>"
      ]
     },
     "metadata": {},
     "output_type": "display_data"
    }
   ],
   "source": [
    "%%js\n",
    "// HW 1 FIRST SECTION JV\n",
    "\n",
    "const bobs = {\n",
    "    \"first\": \"bob1\",\n",
    "    \"second\": \"bob2\"\n",
    "}\n",
    "\n",
    "for (const key in bobs) {\n",
    "    console.log(key + \": \" + bobs[key])\n",
    "}"
   ]
  },
  {
   "cell_type": "code",
   "execution_count": 35,
   "metadata": {
    "vscode": {
     "languageId": "javascript"
    }
   },
   "outputs": [
    {
     "data": {
      "application/javascript": "//POP 1 FIRST SECTION\n\nfor (let i = 0; i < 5; i++) {\n    console.log(i);\n}\n",
      "text/plain": [
       "<IPython.core.display.Javascript object>"
      ]
     },
     "metadata": {},
     "output_type": "display_data"
    }
   ],
   "source": [
    "%%js\n",
    "//POP 1 FIRST SECTION\n",
    "\n",
    "for (let i = 0; i < 5; i++) {\n",
    "    console.log(i);\n",
    "}"
   ]
  },
  {
   "cell_type": "code",
   "execution_count": 1,
   "metadata": {},
   "outputs": [
    {
     "name": "stdout",
     "output_type": "stream",
     "text": [
      "🗿\n",
      "🏛\n",
      "🛳\n"
     ]
    }
   ],
   "source": [
    "# POP 2 FIRST SECTION\n",
    "structures = ['🗿', '🏛', '🛳']\n",
    "for structure in structures:\n",
    "    print(structure)"
   ]
  },
  {
   "cell_type": "code",
   "execution_count": 3,
   "metadata": {
    "vscode": {
     "languageId": "javascript"
    }
   },
   "outputs": [
    {
     "data": {
      "application/javascript": "const fruits = ['apple', 'banana', 'cherry'];\n\nfor (let i = 0; i < fruits.length; i++) {\n    console.log(fruits[i]);\n}\n",
      "text/plain": [
       "<IPython.core.display.Javascript object>"
      ]
     },
     "metadata": {},
     "output_type": "display_data"
    }
   ],
   "source": [
    "//POP 2 FIRST SECTION\n",
    "%%javascript\n",
    "const names = ['bob', 'joe', 'smith'];\n",
    "\n",
    "for (let i = 0; i < names.length; i++) {\n",
    "    console.log(names[i]);\n",
    "}"
   ]
  },
  {
   "cell_type": "code",
   "execution_count": 6,
   "metadata": {},
   "outputs": [
    {
     "name": "stdout",
     "output_type": "stream",
     "text": [
      "1\n",
      "3\n",
      "5\n",
      "7\n",
      "9\n",
      "11\n",
      "13\n",
      "15\n",
      "17\n",
      "19\n"
     ]
    }
   ],
   "source": [
    "# POP 1 SECOND SECTION\n",
    "number = 1\n",
    "\n",
    "while number <= 20:\n",
    "    if number % 2 == 1:\n",
    "        print(number)\n",
    "    number += 1"
   ]
  },
  {
   "cell_type": "code",
   "execution_count": 9,
   "metadata": {},
   "outputs": [
    {
     "name": "stdout",
     "output_type": "stream",
     "text": [
      "Flipped: tails\n",
      "Landed on tails!\n"
     ]
    }
   ],
   "source": [
    "# POP 2 SECOND SECTION\n",
    "import random\n",
    "\n",
    "flip = \"\"\n",
    "\n",
    "while flip != \"tails\":\n",
    "    flip = random.choice([\"heads\", \"tails\"])\n",
    "    print(f\"Flipped: {flip}\")\n",
    "\n",
    "print(\"Landed on tails!\")"
   ]
  },
  {
   "cell_type": "code",
   "execution_count": 44,
   "metadata": {},
   "outputs": [
    {
     "name": "stdout",
     "output_type": "stream",
     "text": [
      "1\n",
      "2\n",
      "Fizz\n",
      "4\n",
      "Buzz\n",
      "Fizz\n",
      "Boom\n",
      "8\n",
      "Fizz\n",
      "Buzz\n",
      "11\n",
      "Fizz\n",
      "13\n",
      "Boom\n",
      "FizzBuzz\n",
      "16\n",
      "17\n",
      "Fizz\n",
      "19\n",
      "Buzz\n",
      "Boom\n",
      "22\n",
      "23\n",
      "Fizz\n",
      "Buzz\n",
      "26\n",
      "Fizz\n",
      "Boom\n",
      "29\n",
      "FizzBuzz\n",
      "31\n",
      "32\n",
      "Fizz\n",
      "34\n",
      "Buzz\n",
      "Fizz\n",
      "37\n",
      "38\n",
      "Fizz\n",
      "Buzz\n",
      "41\n",
      "Boom\n",
      "43\n",
      "44\n",
      "FizzBuzz\n",
      "46\n",
      "47\n",
      "Fizz\n",
      "Boom\n",
      "Buzz\n"
     ]
    }
   ],
   "source": [
    "# HW 1 SECTION 2\n",
    "'''\n",
    "Print numbers from 1 to 50.\n",
    "For multiples of 3, print “Fizz” instead of the number.\n",
    "For multiples of 5, print “Buzz” instead of the number.\n",
    "For numbers divisible by both 3 and 5, print “FizzBuzz”.\n",
    "Add a twist: for multiples of 7, print “Boom”.\n",
    "'''\n",
    "i = 1\n",
    "while i < 51:\n",
    "    if i % 3 == 0:\n",
    "        if i % 5 == 0:\n",
    "            print(\"FizzBuzz\")\n",
    "        elif i % 7 == 0:\n",
    "            print(\"Boom\")\n",
    "        else:\n",
    "            print(\"Fizz\")\n",
    "    elif i % 5 == 0:\n",
    "        if i % 3 == 0:\n",
    "            print(\"FizzBuzz\")\n",
    "        else:\n",
    "            print(\"Buzz\")\n",
    "    elif i % 7 == 0:\n",
    "            print(\"Boom\")\n",
    "    else:\n",
    "        print(i)\n",
    "    i += 1"
   ]
  },
  {
   "cell_type": "code",
   "execution_count": 57,
   "metadata": {},
   "outputs": [
    {
     "name": "stdout",
     "output_type": "stream",
     "text": [
      "good job bringing out your inner indian scammer vibes\n",
      "Faild Attempt you bad bad person\n",
      "Amount of times you brain is bad again: 2\n",
      "Faild Attempt you bad bad person\n",
      "Amount of times you brain is bad again: 2\n",
      "Faild Attempt you bad bad person\n",
      "Amount of times you brain is bad again: 2\n",
      "Faild Attempt you bad bad person\n",
      "Amount of times you brain is bad again: 2\n"
     ]
    },
    {
     "ename": "KeyboardInterrupt",
     "evalue": "Interrupted by user",
     "output_type": "error",
     "traceback": [
      "\u001b[0;31m---------------------------------------------------------------------------\u001b[0m",
      "\u001b[0;31mKeyboardInterrupt\u001b[0m                         Traceback (most recent call last)",
      "Cell \u001b[0;32mIn[57], line 15\u001b[0m\n\u001b[1;32m     13\u001b[0m \u001b[39mwhile\u001b[39;00m wrong_counter \u001b[39m>\u001b[39m \u001b[39m0\u001b[39m:\n\u001b[1;32m     14\u001b[0m     user \u001b[39m=\u001b[39m \u001b[39minput\u001b[39m(\u001b[39m\"\u001b[39m\u001b[39mEnter the username buddy: \u001b[39m\u001b[39m\"\u001b[39m)\n\u001b[0;32m---> 15\u001b[0m     psd \u001b[39m=\u001b[39m \u001b[39minput\u001b[39;49m(\u001b[39m\"\u001b[39;49m\u001b[39mEnter passcode or i will come to ur house and find you: \u001b[39;49m\u001b[39m\"\u001b[39;49m)\n\u001b[1;32m     17\u001b[0m     \u001b[39mif\u001b[39;00m user \u001b[39m!=\u001b[39m username \u001b[39mor\u001b[39;00m psd \u001b[39m!=\u001b[39m password:\n\u001b[1;32m     18\u001b[0m         \u001b[39mprint\u001b[39m(\u001b[39m\"\u001b[39m\u001b[39mFaild Attempt you bad bad person\u001b[39m\u001b[39m\"\u001b[39m)\n",
      "File \u001b[0;32m~/nighthawk/student_2025/venv/lib/python3.12/site-packages/ipykernel/kernelbase.py:1282\u001b[0m, in \u001b[0;36mKernel.raw_input\u001b[0;34m(self, prompt)\u001b[0m\n\u001b[1;32m   1280\u001b[0m     msg \u001b[39m=\u001b[39m \u001b[39m\"\u001b[39m\u001b[39mraw_input was called, but this frontend does not support input requests.\u001b[39m\u001b[39m\"\u001b[39m\n\u001b[1;32m   1281\u001b[0m     \u001b[39mraise\u001b[39;00m StdinNotImplementedError(msg)\n\u001b[0;32m-> 1282\u001b[0m \u001b[39mreturn\u001b[39;00m \u001b[39mself\u001b[39;49m\u001b[39m.\u001b[39;49m_input_request(\n\u001b[1;32m   1283\u001b[0m     \u001b[39mstr\u001b[39;49m(prompt),\n\u001b[1;32m   1284\u001b[0m     \u001b[39mself\u001b[39;49m\u001b[39m.\u001b[39;49m_parent_ident[\u001b[39m\"\u001b[39;49m\u001b[39mshell\u001b[39;49m\u001b[39m\"\u001b[39;49m],\n\u001b[1;32m   1285\u001b[0m     \u001b[39mself\u001b[39;49m\u001b[39m.\u001b[39;49mget_parent(\u001b[39m\"\u001b[39;49m\u001b[39mshell\u001b[39;49m\u001b[39m\"\u001b[39;49m),\n\u001b[1;32m   1286\u001b[0m     password\u001b[39m=\u001b[39;49m\u001b[39mFalse\u001b[39;49;00m,\n\u001b[1;32m   1287\u001b[0m )\n",
      "File \u001b[0;32m~/nighthawk/student_2025/venv/lib/python3.12/site-packages/ipykernel/kernelbase.py:1325\u001b[0m, in \u001b[0;36mKernel._input_request\u001b[0;34m(self, prompt, ident, parent, password)\u001b[0m\n\u001b[1;32m   1322\u001b[0m \u001b[39mexcept\u001b[39;00m \u001b[39mKeyboardInterrupt\u001b[39;00m:\n\u001b[1;32m   1323\u001b[0m     \u001b[39m# re-raise KeyboardInterrupt, to truncate traceback\u001b[39;00m\n\u001b[1;32m   1324\u001b[0m     msg \u001b[39m=\u001b[39m \u001b[39m\"\u001b[39m\u001b[39mInterrupted by user\u001b[39m\u001b[39m\"\u001b[39m\n\u001b[0;32m-> 1325\u001b[0m     \u001b[39mraise\u001b[39;00m \u001b[39mKeyboardInterrupt\u001b[39;00m(msg) \u001b[39mfrom\u001b[39;00m \u001b[39mNone\u001b[39;00m\n\u001b[1;32m   1326\u001b[0m \u001b[39mexcept\u001b[39;00m \u001b[39mException\u001b[39;00m:\n\u001b[1;32m   1327\u001b[0m     \u001b[39mself\u001b[39m\u001b[39m.\u001b[39mlog\u001b[39m.\u001b[39mwarning(\u001b[39m\"\u001b[39m\u001b[39mInvalid Message:\u001b[39m\u001b[39m\"\u001b[39m, exc_info\u001b[39m=\u001b[39m\u001b[39mTrue\u001b[39;00m)\n",
      "\u001b[0;31mKeyboardInterrupt\u001b[0m: Interrupted by user"
     ]
    }
   ],
   "source": [
    "# HW 2 SECTION 2\n",
    "'''\n",
    "The user has 3 attempts to enter the correct username and password.\n",
    "After each failed attempt, display how many attempts are left.\n",
    "After 3 failed attempts, display a message saying the account is locked.\n",
    "Use a do-while loop to handle the login process, prompting the user for their credentials until they either succeed or run out of attempts.\n",
    "'''\n",
    "\n",
    "username = \"bobski123\"\n",
    "password = \"12345\"\n",
    "wrong_counter = 3\n",
    "\n",
    "while wrong_counter > 0:\n",
    "    user = input(\"Enter the username buddy: \")\n",
    "    psd = input(\"Enter passcode or i will come to ur house and find you: \")\n",
    "    \n",
    "    if user != username or psd != password:\n",
    "        print(\"Faild Attempt you bad bad person\")\n",
    "        print(\"Amount of times you brain is bad again:\", wrong_counter - 1)\n",
    "    else:\n",
    "        print(\"good job bringing out your inner indian scammer vibes\")\n",
    "    \n",
    "\n",
    "\n",
    "\n"
   ]
  },
  {
   "cell_type": "code",
   "execution_count": 10,
   "metadata": {},
   "outputs": [
    {
     "name": "stdout",
     "output_type": "stream",
     "text": [
      "Your To-Do List:\n",
      "1. Study Chem\n",
      "2. Study math\n",
      "3. Almost forgetting world\n",
      "4. eating cereal\n",
      "5. pat nikhil aggresivley on the back\n"
     ]
    }
   ],
   "source": [
    "# POP 1 SECTION THREE\n",
    "tasks = [\n",
    "    \"Study Chem\",\n",
    "    \"Study math\",\n",
    "    \"Almost forgetting world\",\n",
    "    \"eating cereal\",\n",
    "    \"pat nikhil aggresivley on the back\"\n",
    "]\n",
    "\n",
    "# Function to display tasks with indices\n",
    "def display_tasks():\n",
    "    print(\"Your To-Do List:\")\n",
    "    for index in range(len(tasks)):\n",
    "        print(f\"{index + 1}. {tasks[index]}\")  # Display task with its index\n",
    "\n",
    "# Call the function\n",
    "display_tasks()"
   ]
  },
  {
   "cell_type": "code",
   "execution_count": 12,
   "metadata": {
    "vscode": {
     "languageId": "javascript"
    }
   },
   "outputs": [
    {
     "data": {
      "application/javascript": "// List of tasks\nconst tasks = [\n    \"Study Chem\",\n    \"Study math\",\n    \"Almost forgetting world\",\n    \"eating cereal\",\n    \"pat nikhil aggresivley on the back\"\n];\n\n// Function to display tasks with indices\nfunction displayTasks() {\n    console.log(\"Your To-Do List:\");\n    for (let index = 0; index < tasks.length; index++) {\n        console.log(`${index + 1}. ${tasks[index]}`); // Display task with its index\n    }\n}\n\n// Call the function\ndisplayTasks();\n",
      "text/plain": [
       "<IPython.core.display.Javascript object>"
      ]
     },
     "metadata": {},
     "output_type": "display_data"
    }
   ],
   "source": [
    "// POP 1 SECTION THREE \n",
    "%%javascript\n",
    "// List of tasks\n",
    "const tasks = [\n",
    "    \"Study Chem\",\n",
    "    \"Study math\",\n",
    "    \"Almost forgetting world\",\n",
    "    \"eating cereal\",\n",
    "    \"pat nikhil aggresivley on the back\"\n",
    "];\n",
    "\n",
    "// Function to display tasks with indices\n",
    "function displayTasks() {\n",
    "    console.log(\"Your To-Do List:\");\n",
    "    for (let index = 0; index < tasks.length; index++) {\n",
    "        console.log(`${index + 1}. ${tasks[index]}`); // Display task with its index\n",
    "    }\n",
    "}\n",
    "\n",
    "// Call the function\n",
    "displayTasks();"
   ]
  },
  {
   "cell_type": "code",
   "execution_count": null,
   "metadata": {
    "vscode": {
     "languageId": "javascript"
    }
   },
   "outputs": [],
   "source": [
    "// POP 1 SECTION FOUR \n",
    "\n",
    "%%javascript\n",
    "for (let i = 0; i < 10; i++)\n",
    "  for (let i = 0; i < 10; i++) {\n",
    "    if (i === 5) {\n",
    "        break;\n",
    "    }\n",
    "    console.log(i);\n",
    "}"
   ]
  },
  {
   "cell_type": "code",
   "execution_count": 14,
   "metadata": {},
   "outputs": [
    {
     "name": "stdout",
     "output_type": "stream",
     "text": [
      "1 odd\n",
      "3 odd\n",
      "5 odd\n",
      "7 odd\n",
      "9 odd\n",
      "11 odd\n",
      "13 odd\n",
      "15 odd\n",
      "17 odd\n"
     ]
    }
   ],
   "source": [
    "for i in range (1, 20):\n",
    "    if i % 2 == 0:\n",
    "        continue\n",
    "    if i % 2 == 1:\n",
    "        print(i, \"odd\")\n",
    "    if i == 17:\n",
    "        break"
   ]
  },
  {
   "cell_type": "code",
   "execution_count": 46,
   "metadata": {
    "vscode": {
     "languageId": "javascript"
    }
   },
   "outputs": [
    {
     "name": "stderr",
     "output_type": "stream",
     "text": [
      "UsageError: Cell magic `%%` not found.\n"
     ]
    }
   ],
   "source": [
    "%% js\n",
    "// HW 1 SECTION 4\n",
    "for (let i = 0; i <= 10; i += 2) {\n",
    "    console.log(i);\n",
    "    if (i === 6) {\n",
    "        break;\n",
    "    }\n",
    "}\n"
   ]
  },
  {
   "cell_type": "code",
   "execution_count": 47,
   "metadata": {},
   "outputs": [
    {
     "name": "stdout",
     "output_type": "stream",
     "text": [
      "This number is 1\n",
      "This number is 3\n",
      "This number is 5\n",
      "This number is 7\n",
      "This number is 9\n"
     ]
    }
   ],
   "source": [
    "# HW 2 SECTION 4\n",
    "for i in range(10):\n",
    "    if i % 2 == 0:\n",
    "        continue\n",
    "    print(f\"This number is {i}\")\n"
   ]
  },
  {
   "attachments": {},
   "cell_type": "markdown",
   "metadata": {},
   "source": [
    "# 3.10"
   ]
  },
  {
   "cell_type": "code",
   "execution_count": 16,
   "metadata": {},
   "outputs": [
    {
     "name": "stdout",
     "output_type": "stream",
     "text": [
      "Adding Numbers In List Script\n",
      "-------------------------\n",
      "Sum of numbers in list is 9\n"
     ]
    }
   ],
   "source": [
    "# POP 1 SECTION 1\n",
    "print(\"Adding Numbers In List Script\")\n",
    "print(\"-\"*25)\n",
    "numlist = [4, 5]\n",
    "while True:\n",
    "    start = input(\"Would you like to (1) enter numbers (2) add numbers (3) remove last value added or (4) exit: \")\n",
    "    if start == \"1\":\n",
    "        val = input(\"Enter a numeric value: \") # take input while storing it in a variable\n",
    "        try: \n",
    "            test = int(val) # testing to see if input is an integer (numeric)\n",
    "        except:\n",
    "            print(\"Please enter a valid number\")\n",
    "            continue # 'continue' keyword skips to next step of while loop (basically restarting the loop)\n",
    "        numlist.append(int(val)) # append method to add values\n",
    "        print(\"Added \"+val+\" to list.\")\n",
    "    elif start == \"2\":\n",
    "        sum = 0\n",
    "        for num in numlist: # loop through list and add all values to sum variable\n",
    "            sum += num\n",
    "        print(\"Sum of numbers in list is \"+str(sum))\n",
    "    elif start == \"3\":\n",
    "        if len(numlist) > 0: # Make sure there are values in list to remove\n",
    "            print(\"Removed \"+str(numlist[len(numlist)-1])+\" from list.\")\n",
    "            numlist.pop()\n",
    "        else:\n",
    "            print(\"No values to delete\")\n",
    "    elif start == \"4\":\n",
    "        break # Break out of the while loop, or it will continue running forever\n",
    "    else:\n",
    "        continue"
   ]
  },
  {
   "cell_type": "code",
   "execution_count": 49,
   "metadata": {},
   "outputs": [
    {
     "name": "stdout",
     "output_type": "stream",
     "text": [
      "Current list: ['apple', 'orange', 'banana']\n",
      "Updated list: ['orange', 'banana']\n"
     ]
    }
   ],
   "source": [
    "# HW 1 SECTION 1\n",
    "\n",
    "mylist = [\"apple\", \"orange\", \"banana\"]\n",
    "\n",
    "print(\"Current list:\", mylist)\n",
    "\n",
    "index = int(input(\"Enter an index to remove an item (0 for 'apple', 1 for 'orange', 2 for 'banana'): \"))\n",
    "\n",
    "removed_item = mylist.remove(mylist[index])\n",
    "\n",
    "print(\"Updated list:\", mylist)"
   ]
  },
  {
   "attachments": {},
   "cell_type": "markdown",
   "metadata": {},
   "source": [
    "POP 1 SECTION 2\n",
    "\n",
    "nums ← 1 to 100\n",
    "odd_sum ← 0\n",
    "\n",
    "for each num in nums:\n",
    "    if num % 2 is 0:\n",
    "        odd_sum ← odd_sum + num\n",
    "\n",
    "print(\"Sum of odd numbers:\", odd_sum)"
   ]
  },
  {
   "cell_type": "code",
   "execution_count": 1,
   "metadata": {},
   "outputs": [
    {
     "name": "stdout",
     "output_type": "stream",
     "text": [
      "\u001b[92mMaximum number: 9\u001b[0m\n",
      "\u001b[92mMinimum number: 1\u001b[0m\n"
     ]
    }
   ],
   "source": [
    "# EXAMPLE\n",
    "def find_max_min(numbers):\n",
    "    if not numbers:\n",
    "        return None, None  # <span style=\"color: #D9B68C;\">Return None if the list is empty</span>\n",
    "    \n",
    "    max_num = numbers[0]  # <span style=\"color: #D9B68C;\">Start with the first number as the max</span>\n",
    "    min_num = numbers[0]  # <span style=\"color: #D9B68C;\">Start with the first number as the min</span>\n",
    "    \n",
    "    for num in numbers:\n",
    "        if num > max_num:\n",
    "            max_num = num  # <span style=\"color: #D9B68C;\">Update max if a larger number is found</span>\n",
    "        if num < min_num:\n",
    "            min_num = num  # <span style=\"color: #D9B68C;\">Update min if a smaller number is found</span>\n",
    "            \n",
    "    return max_num, min_num  # <span style=\"color: #D9B68C;\">Return the found max and min</span>\n",
    "\n",
    "# Example usage\n",
    "numbers = [3, 1, 4, 1, 5, 9, 2, 6, 5, 3, 5]\n",
    "max_num, min_num = find_max_min(numbers)\n",
    "\n",
    "print(f\"\\033[92mMaximum number: {max_num}\\033[0m\")  # Bright green for output\n",
    "print(f\"\\033[92mMinimum number: {min_num}\\033[0m\")  # Bright green for output"
   ]
  },
  {
   "cell_type": "code",
   "execution_count": 55,
   "metadata": {},
   "outputs": [
    {
     "name": "stdout",
     "output_type": "stream",
     "text": [
      "Sum of even numbers: 240\n",
      "Sum of odd numbers: 225\n"
     ]
    }
   ],
   "source": [
    "# HW 1 SECTION 2\n",
    "\n",
    "'''\n",
    "numbers ← list of 30 numbers (1, 2, 3, ..., 30)\n",
    "even_sum ← 0\n",
    "odd_sum ← 0\n",
    "\n",
    "for each number in numbers:\n",
    "    if number % 2 is 0:\n",
    "        even_sum ← even_sum + number\n",
    "    else:\n",
    "        odd_sum ← odd_sum + number\n",
    "\n",
    "print \"Sum of even numbers:\", even_sum\n",
    "print \"Sum of odd numbers:\", odd_sum\n",
    "\n",
    "'''\n",
    "\n",
    "# PYTHON VERSION\n",
    "\n",
    "numbers = list(range(1, 31))\n",
    "\n",
    "even_sum = 0\n",
    "odd_sum = 0\n",
    "\n",
    "for number in numbers:\n",
    "    if number % 2 == 0:\n",
    "        even_sum += number\n",
    "    else:\n",
    "        odd_sum += number\n",
    "\n",
    "print(\"Sum of even numbers:\", even_sum)\n",
    "print(\"Sum of odd numbers:\", odd_sum)\n",
    "\n"
   ]
  },
  {
   "cell_type": "code",
   "execution_count": 51,
   "metadata": {},
   "outputs": [
    {
     "name": "stdout",
     "output_type": "stream",
     "text": [
      "Nikhil is weird\n"
     ]
    }
   ],
   "source": [
    "#POP 1 SECTION 3\n",
    "\n",
    "import random\n",
    "\n",
    "# Define main dishes and sides\n",
    "main_dishes = ['Nikhil', 'Rohan']\n",
    "sides = ['weird', 'cool']\n",
    "\n",
    "# Create meal combinations using list comprehension\n",
    "meal_combinations = [f\"{main} is {side}\" for main in main_dishes for side in sides]\n",
    "\n",
    "# Print a random meal combination\n",
    "print(random.choice(meal_combinations))"
   ]
  },
  {
   "cell_type": "code",
   "execution_count": 54,
   "metadata": {},
   "outputs": [
    {
     "name": "stdout",
     "output_type": "stream",
     "text": [
      "One of my favorite hobbies is:  Skiing\n",
      "One of my favorite hobbies is:  Basketball\n",
      "One of my favorite hobbies is:  Coding\n",
      "One of my favorite hobbies is:  Cooking\n",
      "One of my favorite hobbies is:  Gaming\n"
     ]
    }
   ],
   "source": [
    "# HW 1 SECTION 3\n",
    "\n",
    "\n",
    "hobbies = [\"Skiing\", \"Basketball\", \"Coding\", \"Cooking\", \"Gaming\"]\n",
    "\n",
    "# Loop through each hobby and print it\n",
    "for hobby in hobbies:\n",
    "    print(\"One of my favorite hobbies is: \", hobby)\n"
   ]
  },
  {
   "cell_type": "code",
   "execution_count": null,
   "metadata": {},
   "outputs": [],
   "source": [
    "# EXAMPLE SECTION 4\n",
    "\n",
    "people = []\n",
    "\n",
    "# Function to collect user input and create a person object\n",
    "def add_person():\n",
    "    name = input(\"What is your name? \")\n",
    "    age = input(\"How old are you? \")\n",
    "    gender = input(\"What is ur gender \")\n",
    "    ethnicity = input(\"What is ur  \")\n",
    "    \n",
    "    # Simple Yes/No question for student status\n",
    "    while True:\n",
    "        is_student = input(\"Are you a student? (yes/no): \").lower()\n",
    "        if is_student in [\"yes\", \"no\"]:\n",
    "            is_student = (is_student == \"yes\")  # Converts to Boolean\n",
    "            break\n",
    "        else:\n",
    "            print(\"Please enter 'yes' or 'no'.\")\n",
    "\n",
    "    # Create the person object\n",
    "    person = {\n",
    "        'name': name,\n",
    "        'age': age,\n",
    "        'is_student': is_student\n",
    "    }\n",
    "    \n",
    "    # Add the person to the list\n",
    "    people.append(person)\n",
    "\n",
    "    # Display the added person\n",
    "    display_people()\n",
    "\n",
    "# Function to display the list of people\n",
    "def display_people():\n",
    "    print(\"\\nCurrent List of People:\")\n",
    "    for index, person in enumerate(people, 1):\n",
    "        student_status = \"a student\" if person['is_student'] else \"not a student\"\n",
    "        print(f\"Person {index}: {person['name']}, {person['age']} years old, {student_status}\")\n",
    "\n",
    "# Example Usage\n",
    "add_person()  # Call this to start collecting input from the user\n"
   ]
  },
  {
   "cell_type": "code",
   "execution_count": 56,
   "metadata": {},
   "outputs": [
    {
     "name": "stdout",
     "output_type": "stream",
     "text": [
      "Question: Do you like Python?\n",
      "Your answer: yes\n",
      "Question: Are you learning programming?\n",
      "Your answer: yes\n"
     ]
    }
   ],
   "source": [
    "# HW 1 SECTION 4\n",
    "\n",
    "questions = [\"Do you like Python?\", \"Are you learning programming?\"]\n",
    "answers = [] \n",
    "\n",
    "\n",
    "for question in questions:\n",
    "    answer = input(f\"{question} (yes/no): \")\n",
    "    answers.append(answer)\n",
    "\n",
    "for i in range(len(questions)):\n",
    "    print(f\"Question: {questions[i]}\")\n",
    "    print(f\"Your answer: {answers[i]}\")"
   ]
  },
  {
   "attachments": {},
   "cell_type": "markdown",
   "metadata": {},
   "source": [
    "# 3.1 "
   ]
  },
  {
   "cell_type": "code",
   "execution_count": 63,
   "metadata": {
    "vscode": {
     "languageId": "javascript"
    }
   },
   "outputs": [
    {
     "data": {
      "application/javascript": "// POP 1\n\nvar myDictionary = {\n    1: \"bob\",\n    2: \"boy\",\n    3: \"mihir\"\n};\n\nconsole.log(\"Key 3:\", myDictionary[3]);\n",
      "text/plain": [
       "<IPython.core.display.Javascript object>"
      ]
     },
     "metadata": {},
     "output_type": "display_data"
    }
   ],
   "source": [
    "%%js\n",
    "// POP 1\n",
    "\n",
    "var myDictionary = {\n",
    "    1: \"bob\",\n",
    "    2: \"boy\",\n",
    "    3: \"mihir\"\n",
    "};\n",
    "\n",
    "console.log(\"Key 3:\", myDictionary[3]);"
   ]
  },
  {
   "cell_type": "code",
   "execution_count": 59,
   "metadata": {},
   "outputs": [
    {
     "name": "stdout",
     "output_type": "stream",
     "text": [
      "Welcome to the Math Quiz Game!\n",
      "Answer as many questions as you can. Type 'q' to quit anytime.\n",
      "\n",
      "What is 10 - 10?\n",
      "Invalid input, please enter a number or 'q' to quit.\n",
      "What is 3 * 10?\n",
      "Correct!\n",
      "What is 4 - 3?\n",
      "Correct!\n",
      "What is 3 + 6?\n",
      "Correct!\n",
      "What is 7 + 4?\n",
      "Correct!\n",
      "What is 4 + 3?\n",
      "Correct!\n",
      "What is 9 - 7?\n",
      "Correct!\n",
      "What is 6 * 9?\n",
      "Correct!\n",
      "What is 5 * 6?\n",
      "Correct!\n",
      "What is 2 * 7?\n",
      "Correct!\n",
      "What is 8 + 6?\n",
      "Correct!\n",
      "What is 5 + 1?\n",
      "Correct!\n",
      "What is 5 * 7?\n",
      "Oops! The correct answer was 35.\n",
      "What is 2 * 3?\n",
      "Correct!\n",
      "What is 7 * 3?\n",
      "Correct!\n",
      "What is 7 * 8?\n",
      "Correct!\n",
      "What is 5 * 6?\n",
      "Correct!\n",
      "What is 3 * 5?\n",
      "Oops! The correct answer was 15.\n",
      "What is 1 * 7?\n",
      "Correct!\n",
      "What is 8 - 10?\n",
      "Invalid input, please enter a number or 'q' to quit.\n",
      "What is 4 + 7?\n",
      "Invalid input, please enter a number or 'q' to quit.\n",
      "What is 8 * 2?\n",
      "Invalid input, please enter a number or 'q' to quit.\n",
      "What is 1 - 2?\n",
      "Invalid input, please enter a number or 'q' to quit.\n",
      "What is 2 - 5?\n",
      "Invalid input, please enter a number or 'q' to quit.\n",
      "What is 2 - 2?\n",
      "Invalid input, please enter a number or 'q' to quit.\n",
      "What is 3 - 6?\n",
      "Invalid input, please enter a number or 'q' to quit.\n",
      "What is 4 - 4?\n",
      "Thanks for playing! Your final score is 16.\n"
     ]
    }
   ],
   "source": [
    "# POP 2\n",
    "\n",
    "import random\n",
    "\n",
    "def play_game():\n",
    "    score = 0\n",
    "    operators = ['+', '-', '*']\n",
    "\n",
    "    print(\"Welcome to the Math Quiz Game!\")\n",
    "    print(\"Answer as many questions as you can. Type 'q' to quit anytime.\\n\")\n",
    "\n",
    "    while True:\n",
    "        # Generate two random numbers and choose a random operator\n",
    "        num1 = random.randint(1, 10)\n",
    "        num2 = random.randint(1, 10)\n",
    "        op = random.choice(operators)\n",
    "\n",
    "        # Calculate the correct answer based on the operator\n",
    "        if op == '+':\n",
    "            answer = num1 + num2\n",
    "        elif op == '-':\n",
    "            answer = num1 - num2\n",
    "        else:\n",
    "            answer = num1 * num2\n",
    "\n",
    "        # Ask the player the question\n",
    "        print(f\"What is {num1} {op} {num2}?\")\n",
    "        player_input = input(\"Your answer (or type 'q' to quit): \")\n",
    "\n",
    "        # Check if the player wants to quit\n",
    "        if player_input.lower() == 'q':\n",
    "            break\n",
    "\n",
    "        # Check if the answer is correct\n",
    "        try:\n",
    "            player_answer = int(player_input)\n",
    "            if player_answer == answer:\n",
    "                print(\"Correct!\")\n",
    "                score += 1\n",
    "            else:\n",
    "                print(f\"Oops! The correct answer was {answer}.\")\n",
    "        except ValueError:\n",
    "            print(\"Invalid input, please enter a number or 'q' to quit.\")\n",
    "\n",
    "    print(f\"Thanks for playing! Your final score is {score}.\")\n",
    "\n",
    "# Start the game\n",
    "play_game()\n"
   ]
  },
  {
   "cell_type": "code",
   "execution_count": 4,
   "metadata": {
    "vscode": {
     "languageId": "javascript"
    }
   },
   "outputs": [
    {
     "data": {
      "application/javascript": "// POP 3\n\n// Temperature Converter in JavaScript\nlet temperature = parseFloat(prompt(\"Enter the temperature:\"));\nlet conversionType = prompt(\"Convert to (C)elsius or (F)ahrenheit?\").toUpperCase();\n\nif (conversionType === \"C\") {\n    // Convert Fahrenheit to Celsius\n    let celsius = (temperature - 32) * (5 / 9);\n    console.log(`${temperature}°F is equal to ${celsius.toFixed(2)}°C`);\n} else if (conversionType === \"F\") {\n    // Convert Celsius to Fahrenheit\n    let fahrenheit = (temperature * (9 / 5)) + 32;\n    console.log(`${temperature}°C is equal to ${fahrenheit.toFixed(2)}°F`);\n} else {\n    console.log(\"Invalid conversion type entered.\");\n}\n",
      "text/plain": [
       "<IPython.core.display.Javascript object>"
      ]
     },
     "metadata": {},
     "output_type": "display_data"
    }
   ],
   "source": [
    "%%js\n",
    "// POP 3\n",
    "\n",
    "// Temperature Converter in JavaScript\n",
    "let temperature = parseFloat(prompt(\"Enter the temperature:\"));\n",
    "let conversionType = prompt(\"Convert to (C)elsius or (F)ahrenheit?\").toUpperCase();\n",
    "\n",
    "if (conversionType === \"C\") {\n",
    "    // Convert Fahrenheit to Celsius\n",
    "    let celsius = (temperature - 32) * (5 / 9);\n",
    "    console.log(`${temperature}°F is equal to ${celsius.toFixed(2)}°C`);\n",
    "} else if (conversionType === \"F\") {\n",
    "    // Convert Celsius to Fahrenheit\n",
    "    let fahrenheit = (temperature * (9 / 5)) + 32;\n",
    "    console.log(`${temperature}°C is equal to ${fahrenheit.toFixed(2)}°F`);\n",
    "} else {\n",
    "    console.log(\"Invalid conversion type entered.\");\n",
    "}"
   ]
  },
  {
   "cell_type": "code",
   "execution_count": 5,
   "metadata": {},
   "outputs": [
    {
     "name": "stdout",
     "output_type": "stream",
     "text": [
      "Invalid conversion type entered. Please enter 'C' or 'F'.\n"
     ]
    }
   ],
   "source": [
    "# POP 3\n",
    "def temperature_converter():\n",
    "    try:\n",
    "        # Prompt the user for the temperature\n",
    "        temperature = float(input(\"Enter the temperature: \"))\n",
    "        \n",
    "        # Ask the user for the conversion type\n",
    "        conversion_type = input(\"Convert to Celsius or Fahrenheit? \").strip().upper()\n",
    "\n",
    "        if conversion_type == \"C\":\n",
    "            pass\n",
    "            celsius = (temperature - 32) * (5 / 9)\n",
    "            print(f\"{temperature}°F is equal to {celsius:.2f}°C\")\n",
    "\n",
    "        elif conversion_type == \"F\":\n",
    "            pass\n",
    "            fahrenheit = (temperature * (9 / 5)) + 32\n",
    "            print(f\"{temperature}°C is equal to {fahrenheit:.2f}°F\")\n",
    "\n",
    "        else:\n",
    "            print(\"Invalid conversion type entered. Please enter 'C' or 'F'.\")\n",
    "\n",
    "    except ValueError:\n",
    "        print(\"Invalid input. Please enter a numeric temperature value.\")\n",
    "\n",
    "# Call the temperature converter function\n",
    "temperature_converter()\n"
   ]
  },
  {
   "cell_type": "code",
   "execution_count": null,
   "metadata": {},
   "outputs": [],
   "source": [
    "# HW 1\n",
    "shopping_list = []\n",
    "cost = 0\n",
    "\n",
    "while True:\n",
    "    user_item = input(\"Enter item: \")\n",
    "    item_cost = int(input(\"Enter cost: \"))\n",
    "    shopping_list.append((user_item, item_cost))\n",
    "    cost += item_cost\n",
    "    continue_user = int(input(\"Contine, 1 for yes, 0 for no\"))\n",
    "    if continue_user == 1:\n",
    "        pass\n",
    "    else:\n",
    "        break"
   ]
  },
  {
   "cell_type": "code",
   "execution_count": 6,
   "metadata": {
    "vscode": {
     "languageId": "javascript"
    }
   },
   "outputs": [
    {
     "data": {
      "application/javascript": "// HW 2\n\nconst conversionRates = {\n    cupsToTablespoons: 16,\n    tablespoonsToTeaspoons: 3,\n    cupsToTeaspoons: 48,\n};\n\nfunction convert(quantity, fromUnit, toUnit) {\n    let convertedQuantity;\n\n    if (fromUnit === \"cups\" && toUnit === \"tablespoons\") {\n        convertedQuantity = quantity * conversionRates.cupsToTablespoons;\n    } else if (fromUnit === \"tablespoons\" && toUnit === \"teaspoons\") {\n        convertedQuantity = quantity * conversionRates.tablespoonsToTeaspoons;\n    } else if (fromUnit === \"cups\" && toUnit === \"teaspoons\") {\n        convertedQuantity = quantity * conversionRates.cupsToTeaspoons;\n    } else {\n        return \"Conversion not supported!\";\n    }\n    \n    return convertedQuantity;\n}\n\nlet ingredients = [];\nlet continueInput = true;\n\nwhile (continueInput) {\n    let ingredient = {};\n    \n    ingredient.name = prompt(\"Enter the ingredient name:\");\n    \n    ingredient.quantity = parseFloat(prompt(`Enter the quantity for ${ingredient.name}:`));\n    ingredient.fromUnit = prompt(\"Enter the unit of this quantity (cups/tablespoons/teaspoons):\");\n    ingredient.toUnit = prompt(\"Enter the unit you want to convert to (cups/tablespoons/teaspoons):\");\n\n    ingredient.convertedQuantity = convert(ingredient.quantity, ingredient.fromUnit, ingredient.toUnit);\n\n    ingredients.push(ingredient);\n    \n    let userResponse = prompt(\"Do you want to add another ingredient? (yes/no):\");\n    continueInput = (userResponse.toLowerCase() === \"yes\");\n}\n\nconsole.log(\"Converted Ingredient Quantities:\");\ningredients.forEach((ingredient) => {\n    console.log(`${ingredient.quantity} ${ingredient.fromUnit} of ${ingredient.name} is equivalent to ${ingredient.convertedQuantity} ${ingredient.toUnit}`);\n});\n",
      "text/plain": [
       "<IPython.core.display.Javascript object>"
      ]
     },
     "metadata": {},
     "output_type": "display_data"
    }
   ],
   "source": [
    "%%js \n",
    "// HW 2\n",
    "\n",
    "const conversionRates = {\n",
    "    cupsToTablespoons: 16,\n",
    "    tablespoonsToTeaspoons: 3,\n",
    "    cupsToTeaspoons: 48,\n",
    "};\n",
    "\n",
    "function convert(quantity, fromUnit, toUnit) {\n",
    "    let convertedQuantity;\n",
    "\n",
    "    if (fromUnit === \"cups\" && toUnit === \"tablespoons\") {\n",
    "        convertedQuantity = quantity * conversionRates.cupsToTablespoons;\n",
    "    } else if (fromUnit === \"tablespoons\" && toUnit === \"teaspoons\") {\n",
    "        convertedQuantity = quantity * conversionRates.tablespoonsToTeaspoons;\n",
    "    } else if (fromUnit === \"cups\" && toUnit === \"teaspoons\") {\n",
    "        convertedQuantity = quantity * conversionRates.cupsToTeaspoons;\n",
    "    } else {\n",
    "        return \"Conversion not supported!\";\n",
    "    }\n",
    "    \n",
    "    return convertedQuantity;\n",
    "}\n",
    "\n",
    "let ingredients = [];\n",
    "let continueInput = true;\n",
    "\n",
    "while (continueInput) {\n",
    "    let ingredient = {};\n",
    "    \n",
    "    ingredient.name = prompt(\"Enter the ingredient name:\");\n",
    "    \n",
    "    ingredient.quantity = parseFloat(prompt(`Enter the quantity for ${ingredient.name}:`));\n",
    "    ingredient.fromUnit = prompt(\"Enter the unit of this quantity (cups/tablespoons/teaspoons):\");\n",
    "    ingredient.toUnit = prompt(\"Enter the unit you want to convert to (cups/tablespoons/teaspoons):\");\n",
    "\n",
    "    ingredient.convertedQuantity = convert(ingredient.quantity, ingredient.fromUnit, ingredient.toUnit);\n",
    "\n",
    "    ingredients.push(ingredient);\n",
    "    \n",
    "    let userResponse = prompt(\"Do you want to add another ingredient? (yes/no):\");\n",
    "    continueInput = (userResponse.toLowerCase() === \"yes\");\n",
    "}\n",
    "\n",
    "console.log(\"Converted Ingredient Quantities:\");\n",
    "ingredients.forEach((ingredient) => {\n",
    "    console.log(`${ingredient.quantity} ${ingredient.fromUnit} of ${ingredient.name} is equivalent to ${ingredient.convertedQuantity} ${ingredient.toUnit}`);\n",
    "});"
   ]
  },
  {
   "attachments": {},
   "cell_type": "markdown",
   "metadata": {},
   "source": [
    "# 3.4"
   ]
  },
  {
   "cell_type": "code",
   "execution_count": 8,
   "metadata": {
    "vscode": {
     "languageId": "javascript"
    }
   },
   "outputs": [
    {
     "data": {
      "application/javascript": "// POP 1\n\nlet favoriteMovie = \"Top Gun\";\nlet favoriteSport = \"Badminton\";\nlet petName = \"Nikhil\";\n\nlet concatenatedMessage = \"My favorite movie is \" + favoriteMovie + \". I love playing \" + favoriteSport + \" and my pet's name is \" + petName + \".\";\n\nlet interpolatedMessage = `My favorite movie is ${favoriteMovie}. I love playing ${favoriteSport} and my pet's name is ${petName}.`;\n",
      "text/plain": [
       "<IPython.core.display.Javascript object>"
      ]
     },
     "metadata": {},
     "output_type": "display_data"
    }
   ],
   "source": [
    "%%js\n",
    "// POP 1\n",
    "\n",
    "let favoriteMovie = \"Top Gun\";\n",
    "let favoriteSport = \"Badminton\";\n",
    "let petName = \"Nikhil\";\n",
    "\n",
    "let concatenatedMessage = \"My favorite movie is \" + favoriteMovie + \". I love playing \" + favoriteSport + \" and my pet's name is \" + petName + \".\";\n",
    "\n",
    "let interpolatedMessage = `My favorite movie is ${favoriteMovie}. I love playing ${favoriteSport} and my pet's name is ${petName}.`;"
   ]
  },
  {
   "cell_type": "code",
   "execution_count": 12,
   "metadata": {
    "vscode": {
     "languageId": "javascript"
    }
   },
   "outputs": [
    {
     "data": {
      "application/javascript": "// POP 2\n\nlet phrase = \"Nikhil likes biryani and curry\";\n\nlet partOne = phrase.slice(2, 8);\nlet partTwo = phrase.slice(-18, -12);\nlet remainder = phrase.slice(20);\n\nconsole.log(partOne);\nconsole.log(partTwo);\nconsole.log(remainder);\n",
      "text/plain": [
       "<IPython.core.display.Javascript object>"
      ]
     },
     "metadata": {},
     "output_type": "display_data"
    }
   ],
   "source": [
    "%%js\n",
    "// POP 2\n",
    "\n",
    "let phrase = \"Nikhil likes biryani and curry\";\n",
    "\n",
    "let partOne = phrase.slice(2, 8);\n",
    "let partTwo = phrase.slice(-18, -12);\n",
    "let remainder = phrase.slice(20);\n",
    "\n",
    "console.log(partOne);\n",
    "console.log(partTwo);\n",
    "console.log(remainder);"
   ]
  },
  {
   "cell_type": "code",
   "execution_count": 13,
   "metadata": {},
   "outputs": [
    {
     "name": "stdout",
     "output_type": "stream",
     "text": [
      "H chnky mnky\n"
     ]
    }
   ],
   "source": [
    "#POP 3\n",
    "\n",
    "def remove_vowels(input_str):\n",
    "    vowels = \"aeiouAEIOU\"\n",
    "    result = ''.join([char for char in input_str if char not in vowels])\n",
    "    return result\n",
    "\n",
    "sentence = input(\"Enter sentence\")\n",
    "print(remove_vowels(sentence))"
   ]
  },
  {
   "cell_type": "code",
   "execution_count": 20,
   "metadata": {},
   "outputs": [
    {
     "name": "stdout",
     "output_type": "stream",
     "text": [
      "bob hi\n",
      "mom hi\n",
      "boy stupid the aturi m nikhil hi\n"
     ]
    }
   ],
   "source": [
    "# POP 4\n",
    "\n",
    "def reverse_words(input_str):\n",
    "    words = input_str.split()\n",
    "    reversed_words = \" \".join(words[::-1])\n",
    "    return reversed_words\n",
    "\n",
    "sentence1 = input(\"Enter sentence\")\n",
    "print(reverse_words(sentence1))\n",
    "sentence2 = input(\"Enter sentence\")\n",
    "print(reverse_words(sentence2))\n",
    "sentence3 = input(\"Enter sentence\")\n",
    "print(reverse_words(sentence3))"
   ]
  },
  {
   "cell_type": "code",
   "execution_count": 21,
   "metadata": {
    "vscode": {
     "languageId": "javascript"
    }
   },
   "outputs": [
    {
     "data": {
      "application/javascript": "// HW 1\n\nlet firstName = prompt(\"Enter your first name: \");\nlet lastName = prompt(\"Enter your last name: \");\n\n\nlet message = \"Greetings\" + firstName + lastName +  \".\";\nconsole.log(message);\n",
      "text/plain": [
       "<IPython.core.display.Javascript object>"
      ]
     },
     "metadata": {},
     "output_type": "display_data"
    }
   ],
   "source": [
    "%%js\n",
    "// HW 1\n",
    "\n",
    "let firstName = prompt(\"Enter your first name: \");\n",
    "let lastName = prompt(\"Enter your last name: \");\n",
    "\n",
    "\n",
    "let message = \"Greetings\" + firstName + lastName +  \".\";\n",
    "console.log(message);"
   ]
  },
  {
   "cell_type": "code",
   "execution_count": 25,
   "metadata": {},
   "outputs": [
    {
     "name": "stdout",
     "output_type": "stream",
     "text": [
      "Aiyaaaaa make a proper palindrome\n"
     ]
    }
   ],
   "source": [
    "# HW 2\n",
    "'''\n",
    "def palindrome(input_str):\n",
    "    clean_str = input_str.replace(\" \", \"\").lower()\n",
    "    \n",
    "    return clean_str == clean_str[::-1]\n",
    "input = input('Enter word')\n",
    "print(palindrome(input))\n",
    "'''\n",
    "\n",
    "string = input('Enter a word: ')\n",
    "rev_letters = []\n",
    "\n",
    "for letter in string:\n",
    "    rev_letters.append(letter)\n",
    "\n",
    "result = \"\".join(rev_letters[::-1])\n",
    "\n",
    "if string == result:\n",
    "    print('palindrome')\n",
    "else:\n",
    "    print('Aiyaaaaa make a proper palindrome')\n",
    "    "
   ]
  },
  {
   "attachments": {},
   "cell_type": "markdown",
   "metadata": {},
   "source": [
    "# 3.3"
   ]
  },
  {
   "cell_type": "code",
   "execution_count": 28,
   "metadata": {},
   "outputs": [
    {
     "name": "stdout",
     "output_type": "stream",
     "text": [
      "Add:  5\n",
      "Subtract:  -1\n",
      "Multiply:  6\n",
      "Divide:  0.6666666666666666\n"
     ]
    }
   ],
   "source": [
    "# POP 1\n",
    "\n",
    "a = int(input(\"Enter first num: \"))\n",
    "b = int(input(\"Enter second num: \"))\n",
    "\n",
    "print(f\"Add: \", (a+b))\n",
    "print(f\"Subtract: \", (a-b))\n",
    "print(f\"Multiply: \", (a*b))\n",
    "print(f\"Divide: \", (a/b))"
   ]
  },
  {
   "cell_type": "code",
   "execution_count": 27,
   "metadata": {},
   "outputs": [
    {
     "name": "stdout",
     "output_type": "stream",
     "text": [
      "The 4th Fibonacci number is: 2\n"
     ]
    }
   ],
   "source": [
    "# POP 2\n",
    "\n",
    "def fibonacci(n):\n",
    "    if n == 1:\n",
    "        return 0\n",
    "    elif n == 2:\n",
    "        return 1\n",
    "    else:\n",
    "        return fibonacci(n - 1) + fibonacci(n - 2)\n",
    "\n",
    "\n",
    "n = int(input(\"Enter the nth number for the Fibonacci sequence: \"))\n",
    "print(f\"The {n}th Fibonacci number is: {fibonacci(n)}\")"
   ]
  },
  {
   "cell_type": "code",
   "execution_count": 39,
   "metadata": {},
   "outputs": [
    {
     "ename": "ModuleNotFoundError",
     "evalue": "No module named 'numpy'",
     "output_type": "error",
     "traceback": [
      "\u001b[0;31m---------------------------------------------------------------------------\u001b[0m",
      "\u001b[0;31mModuleNotFoundError\u001b[0m                       Traceback (most recent call last)",
      "Cell \u001b[0;32mIn[39], line 3\u001b[0m\n\u001b[1;32m      1\u001b[0m \u001b[39m# HW 1\u001b[39;00m\n\u001b[0;32m----> 3\u001b[0m \u001b[39mimport\u001b[39;00m \u001b[39mnumpy\u001b[39;00m \u001b[39mas\u001b[39;00m \u001b[39mnp\u001b[39;00m\n\u001b[1;32m      4\u001b[0m \u001b[39mimport\u001b[39;00m \u001b[39mlogging\u001b[39;00m\n\u001b[1;32m      5\u001b[0m \u001b[39mimport\u001b[39;00m \u001b[39msys\u001b[39;00m\n",
      "\u001b[0;31mModuleNotFoundError\u001b[0m: No module named 'numpy'"
     ]
    }
   ],
   "source": [
    "# HW 1\n",
    "\n",
    "import numpy as np\n",
    "import logging\n",
    "import sys\n",
    "\n",
    "# Configure logging\n",
    "logging.basicConfig(level=logging.INFO, format='%(levelname)s:%(message)s')\n",
    "\n",
    "def matrix_multiply(A, B):\n",
    "    \"\"\"\n",
    "    Perform matrix multiplication between two numpy arrays A and B.\n",
    "    \"\"\"\n",
    "    logging.debug(f\"Multiplying matrices:\\n{A}\\n{B}\")\n",
    "    return np.dot(A, B)\n",
    "\n",
    "def matrix_power(M, power):\n",
    "    \"\"\"\n",
    "    Raise matrix M to the specified power using binary exponentiation.\n",
    "    \"\"\"\n",
    "    if power < 0:\n",
    "        raise ValueError(\"Power must be a non-negative integer.\")\n",
    "    \n",
    "    result = np.identity(len(M), dtype=object)\n",
    "    logging.debug(f\"Initial identity matrix:\\n{result}\")\n",
    "    \n",
    "    while power > 0:\n",
    "        if power % 2 == 1:\n",
    "            result = matrix_multiply(result, M)\n",
    "            logging.debug(f\"Result after multiplying by M:\\n{result}\")\n",
    "        M = matrix_multiply(M, M)\n",
    "        logging.debug(f\"Matrix M squared:\\n{M}\")\n",
    "        power = power // 2\n",
    "        logging.debug(f\"Power reduced to: {power}\")\n",
    "    \n",
    "    return result\n",
    "\n",
    "def fibonacci_matrix(n):\n",
    "    \"\"\"\n",
    "    Calculate the nth Fibonacci number using matrix exponentiation.\n",
    "    \"\"\"\n",
    "    if not isinstance(n, int):\n",
    "        raise TypeError(\"Input must be an integer.\")\n",
    "    if n < 0:\n",
    "        raise ValueError(\"Fibonacci number is not defined for negative integers.\")\n",
    "    elif n == 0:\n",
    "        return 0\n",
    "    elif n == 1:\n",
    "        return 1\n",
    "    \n",
    "    F = np.array([[1, 1],\n",
    "                  [1, 0]], dtype=object)\n",
    "    \n",
    "    result = matrix_power(F, n-1)\n",
    "    \n",
    "    logging.info(f\"Matrix raised to power {n-1}:\\n{result}\")\n",
    "    \n",
    "    return result[0][0]\n",
    "\n",
    "def validate_input(user_input):\n",
    "    \"\"\"\n",
    "    Validate the user input to ensure it's a non-negative integer.\n",
    "    \"\"\"\n",
    "    try:\n",
    "        value = int(user_input)\n",
    "        if value < 0:\n",
    "            raise ValueError\n",
    "        return value\n",
    "    except ValueError:\n",
    "        raise ValueError(\"Please enter a valid non-negative integer.\")\n",
    "\n",
    "def main():\n",
    "    \"\"\"\n",
    "    Main function to execute the Fibonacci calculation.\n",
    "    \"\"\"\n",
    "    try:\n",
    "        user_input = input(\"Enter the position of the Fibonacci number you want to calculate: \")\n",
    "        n = validate_input(user_input)\n",
    "        fib_n = fibonacci_matrix(n)\n",
    "        print(f\"Fibonacci number at position {n} is: {fib_n}\")\n",
    "    except ValueError as ve:\n",
    "        logging.error(ve)\n",
    "    except Exception as e:\n",
    "        logging.error(f\"An unexpected error occurred: {e}\")\n",
    "        sys.exit(1)\n",
    "\n",
    "if __name__ == \"__main__\":\n",
    "    main()"
   ]
  },
  {
   "attachments": {},
   "cell_type": "markdown",
   "metadata": {},
   "source": [
    "# 3.5"
   ]
  },
  {
   "cell_type": "code",
   "execution_count": 30,
   "metadata": {},
   "outputs": [
    {
     "name": "stdout",
     "output_type": "stream",
     "text": [
      "I was punched, so  I am bruised\n",
      "I was burised, but we dont know if I was punched.\n"
     ]
    }
   ],
   "source": [
    "# POP 1\n",
    "def A():\n",
    "    return \"I got punched\"  # Condition A\n",
    "\n",
    "def B():\n",
    "    return \"I am bruised\"  # Condition B\n",
    "\n",
    "# Original statement: if A then B\n",
    "if A():\n",
    "    print(\"I was punched, so \", B())\n",
    "else:\n",
    "    print(\"I did not get punched,  so we cannot conclude anything about getting bruised.\")\n",
    "\n",
    "# Contrapositive: if not B then not A\n",
    "if not B():\n",
    "    print(\"I was not brused, therefore I was not: \", A())\n",
    "else:\n",
    "    print(\"I was burised, but we dont know if I was punched.\")"
   ]
  },
  {
   "cell_type": "code",
   "execution_count": 37,
   "metadata": {
    "vscode": {
     "languageId": "javascript"
    }
   },
   "outputs": [
    {
     "data": {
      "application/javascript": "// POP 1 JAVA VERSIOM\n\nfunction A() {\n    return true; // Condition A\n}\n\nfunction B() {\n    return true; // Condition B\n}\n\n// Main function\nfunction main() {\n    // Original statement: if A then B\n    if (A()) {\n        console.log(\"A is true, so B must also be true: \" + B());\n    } else {\n        console.log(\"A is false, we cannot conclude anything about B.\");\n    }\n    \n    // Contrapositive: if not B then not A\n    if (!B()) {\n        console.log(\"B is false, therefore A must also be false: \" + !A());\n    } else {\n        console.log(\"B is true, we cannot conclude anything about A.\");\n    }\n}\n\n// Call the main function to run the code\nmain();\n",
      "text/plain": [
       "<IPython.core.display.Javascript object>"
      ]
     },
     "metadata": {},
     "output_type": "display_data"
    }
   ],
   "source": [
    "%%js\n",
    "// POP 1 JAVA VERSIOM\n",
    "\n",
    "function A() {\n",
    "    return true; // Condition A\n",
    "}\n",
    "\n",
    "function B() {\n",
    "    return true; // Condition B\n",
    "}\n",
    "\n",
    "// Main function\n",
    "function main() {\n",
    "    // Original statement: if A then B\n",
    "    if (A()) {\n",
    "        console.log(\"A is true, so B must also be true: \" + B());\n",
    "    } else {\n",
    "        console.log(\"A is false, we cannot conclude anything about B.\");\n",
    "    }\n",
    "    \n",
    "    // Contrapositive: if not B then not A\n",
    "    if (!B()) {\n",
    "        console.log(\"B is false, therefore A must also be false: \" + !A());\n",
    "    } else {\n",
    "        console.log(\"B is true, we cannot conclude anything about A.\");\n",
    "    }\n",
    "}\n",
    "\n",
    "// Call the main function to run the code\n",
    "main();\n"
   ]
  },
  {
   "cell_type": "code",
   "execution_count": 34,
   "metadata": {},
   "outputs": [
    {
     "name": "stdout",
     "output_type": "stream",
     "text": [
      "A     B | AND | OR | NOT A\n",
      "---------------------------\n",
      "1     1     | 1    | 1   | False\n",
      "1     0     | 0    | 1   | False\n",
      "0     1     | 0    | 1   | True\n",
      "0     0     | 0    | 0   | True\n"
     ]
    }
   ],
   "source": [
    "# HW 1\n",
    "\n",
    "def AND(A, B):\n",
    "    return A and B\n",
    "\n",
    "def OR(A, B):\n",
    "    return A or B\n",
    "\n",
    "def NOT(A):\n",
    "    return not A\n",
    "\n",
    "print(\"A     B | AND | OR | NOT A\")\n",
    "print(\"---------------------------\")\n",
    "for A in [True, False]:\n",
    "    for B in [True, False]:\n",
    "        print(f\"{A:<5} {B:<5} | {AND(A, B):<4} | {OR(A, B):<3} | {NOT(A)}\")"
   ]
  },
  {
   "cell_type": "code",
   "execution_count": 33,
   "metadata": {
    "vscode": {
     "languageId": "javascript"
    }
   },
   "outputs": [
    {
     "name": "stderr",
     "output_type": "stream",
     "text": [
      "UsageError: Cell magic `%%` not found.\n"
     ]
    }
   ],
   "source": [
    "%% js\n",
    "// HW 2\n",
    "// It is suppsoed to be javascript but code is in java, so output does not work.\n",
    "\n",
    "\n",
    "\n",
    "class LogicGateSimulator {\n",
    "\n",
    "    // Define logic gate functions\n",
    "    static AND(A, B) {\n",
    "        return A && B;\n",
    "    }\n",
    "\n",
    "    static OR(A, B) {\n",
    "        return A || B;\n",
    "    }\n",
    "\n",
    "    static NOT(A) {\n",
    "        return !A;\n",
    "    }\n",
    "\n",
    "    static NAND(A, B) {\n",
    "        return !(A && B);\n",
    "    }\n",
    "\n",
    "    static NOR(A, B) {\n",
    "        return !(A || B);\n",
    "    }\n",
    "\n",
    "    static XOR(A, B) {\n",
    "        return A ^ B;\n",
    "    }\n",
    "\n",
    "    // Display the results of the logic gates\n",
    "    static displayGateOperations(A, B) {\n",
    "        console.log(`A: ${A}, B: ${B}`);\n",
    "        console.log(`AND: ${LogicGateSimulator.AND(A, B)}`);\n",
    "        console.log(`OR: ${LogicGateSimulator.OR(A, B)}`);\n",
    "        console.log(`NOT A: ${LogicGateSimulator.NOT(A)}`);\n",
    "        console.log(`NAND: ${LogicGateSimulator.NAND(A, B)}`);\n",
    "        console.log(`NOR: ${LogicGateSimulator.NOR(A, B)}`);\n",
    "        console.log(`XOR: ${LogicGateSimulator.XOR(A, B)}`);\n",
    "        console.log(\"-----------------------------\");\n",
    "    }\n",
    "\n",
    "    static main() {\n",
    "        const readline = require('readline').createInterface({\n",
    "            input: process.stdin,\n",
    "            output: process.stdout\n",
    "        });\n",
    "\n",
    "        console.log(\"Logic Gate Simulator\");\n",
    "        console.log(\"Enter 'exit' to quit\");\n",
    "\n",
    "        const askQuestions = () => {\n",
    "            readline.question(\"Enter value for A (true/false): \", (A_input) => {\n",
    "                if (A_input.toLowerCase() === \"exit\") {\n",
    "                    readline.close();\n",
    "                    return;\n",
    "                }\n",
    "\n",
    "                readline.question(\"Enter value for B (true/false): \", (B_input) => {\n",
    "                    if (B_input.toLowerCase() === \"exit\") {\n",
    "                        readline.close();\n",
    "                        return;\n",
    "                    }\n",
    "\n",
    "                    // Convert inputs to boolean\n",
    "                    const A = (A_input.toLowerCase() === 'true');\n",
    "                    const B = (B_input.toLowerCase() === 'true');\n",
    "\n",
    "                    // Display the results\n",
    "                    LogicGateSimulator.displayGateOperations(A, B);\n",
    "                    askQuestions();\n",
    "                });\n",
    "            });\n",
    "        };\n",
    "\n",
    "        askQuestions();\n",
    "    }\n",
    "}\n",
    "\n",
    "LogicGateSimulator.main();\n",
    "\n"
   ]
  },
  {
   "attachments": {},
   "cell_type": "markdown",
   "metadata": {},
   "source": [
    "# 3.6"
   ]
  },
  {
   "cell_type": "code",
   "execution_count": 1,
   "metadata": {},
   "outputs": [
    {
     "name": "stdout",
     "output_type": "stream",
     "text": [
      "no remainder after divided by 10\n"
     ]
    }
   ],
   "source": [
    "# POP 1\n",
    "\n",
    "x = 200\n",
    "\n",
    "if x % 10 == 0:\n",
    "    print(\"no remainder after divided by 10\")\n",
    "else:\n",
    "    print(\"remainde after 10\")"
   ]
  },
  {
   "cell_type": "code",
   "execution_count": 32,
   "metadata": {
    "vscode": {
     "languageId": "javascript"
    }
   },
   "outputs": [
    {
     "data": {
      "application/javascript": "// POP 1\n\nlet x = 200;\n\n// Conditional statement\nif (x % 10 == 0) {\n    console.log(\"no remainder after divided by 10\");\n} else {\n    console.log(\"remainde after 10\");\n}\n",
      "text/plain": [
       "<IPython.core.display.Javascript object>"
      ]
     },
     "metadata": {},
     "output_type": "display_data"
    }
   ],
   "source": [
    "%%js\n",
    "// POP 1\n",
    "\n",
    "let x = 200;\n",
    "\n",
    "// Conditional statement\n",
    "if (x % 10 == 0) {\n",
    "    console.log(\"no remainder after divided by 10\");\n",
    "} else {\n",
    "    console.log(\"remainde after 10\");\n",
    "}"
   ]
  },
  {
   "cell_type": "code",
   "execution_count": 2,
   "metadata": {},
   "outputs": [
    {
     "name": "stdout",
     "output_type": "stream",
     "text": [
      "Not alien\n"
     ]
    }
   ],
   "source": [
    "# POP 2\n",
    "\n",
    "isHuman = True\n",
    "\n",
    "if isHuman:\n",
    "    print(\"Not alien\")\n",
    "else:\n",
    "    print(\"Alien\")"
   ]
  },
  {
   "cell_type": "code",
   "execution_count": 31,
   "metadata": {
    "vscode": {
     "languageId": "javascript"
    }
   },
   "outputs": [
    {
     "data": {
      "application/javascript": "// POP 2\n\nlet isHuman = true;\n\nif (isHuman) {\n    console.log(\"Not alien\");\n} else {\n    console.log(\"Alien\");\n}\n",
      "text/plain": [
       "<IPython.core.display.Javascript object>"
      ]
     },
     "metadata": {},
     "output_type": "display_data"
    }
   ],
   "source": [
    "%%js\n",
    "// POP 2\n",
    "\n",
    "let isHuman = true;\n",
    "\n",
    "if (isHuman) {\n",
    "    console.log(\"Not alien\");\n",
    "} else {\n",
    "    console.log(\"Alien\");\n",
    "}"
   ]
  },
  {
   "cell_type": "code",
   "execution_count": 9,
   "metadata": {},
   "outputs": [
    {
     "name": "stdout",
     "output_type": "stream",
     "text": [
      "5\n",
      "greater or equal to five, not divisble by 2\n"
     ]
    }
   ],
   "source": [
    "# POP 3\n",
    "import random\n",
    "\n",
    "value = random.randint(1, 10)\n",
    "print(value)\n",
    "\n",
    "if value >= 5:\n",
    "    if value % 2 == 0:\n",
    "        print(\"greater or equal to five, divisbile by two\")\n",
    "    else:\n",
    "        print(\"greater or equal to five, not divisble by 2\")\n",
    "else:\n",
    "    if value % 2 == 0:\n",
    "        print(\"less that five, divisbile by two\")\n",
    "    else:\n",
    "        print(\"less that 5, not divisble by 2\")\n",
    "    \n"
   ]
  },
  {
   "cell_type": "code",
   "execution_count": 30,
   "metadata": {
    "vscode": {
     "languageId": "javascript"
    }
   },
   "outputs": [
    {
     "data": {
      "application/javascript": "// POP 3\n\nconst value = Math.floor(Math.random() * 10) + 1;\nconsole.log(value);\n\nif (value >= 5) {\n    if (value % 2 === 0) {\n        console.log(\"greater or equal to five, divisible by two\");\n    } else {\n        console.log(\"greater or equal to five, not divisible by 2\");\n    }\n} else {\n    if (value % 2 === 0) {\n        console.log(\"less than five, divisible by two\");\n    } else {\n        console.log(\"less than 5, not divisible by 2\");\n    }\n}\n",
      "text/plain": [
       "<IPython.core.display.Javascript object>"
      ]
     },
     "metadata": {},
     "output_type": "display_data"
    }
   ],
   "source": [
    "%%js\n",
    "// POP 3\n",
    "\n",
    "const value = Math.floor(Math.random() * 10) + 1;\n",
    "console.log(value);\n",
    "\n",
    "if (value >= 5) {\n",
    "    if (value % 2 === 0) {\n",
    "        console.log(\"greater or equal to five, divisible by two\");\n",
    "    } else {\n",
    "        console.log(\"greater or equal to five, not divisible by 2\");\n",
    "    }\n",
    "} else {\n",
    "    if (value % 2 === 0) {\n",
    "        console.log(\"less than five, divisible by two\");\n",
    "    } else {\n",
    "        console.log(\"less than 5, not divisible by 2\");\n",
    "    }\n",
    "}"
   ]
  },
  {
   "cell_type": "code",
   "execution_count": 33,
   "metadata": {},
   "outputs": [
    {
     "name": "stdout",
     "output_type": "stream",
     "text": [
      "DING DING DING\n",
      "DING DING DING\n",
      "DING DING DING\n",
      "DING DING DING\n",
      "WHY WHY WHY\n",
      "DING DING DING\n",
      "Num of wrong:  1\n",
      "Num of correct:  5\n"
     ]
    }
   ],
   "source": [
    "# HW 1\n",
    "\n",
    "correct_ans = 0\n",
    "wrong_ans = 0\n",
    "\n",
    "q1 = input(\"What is the capital of Russia: \").lower()\n",
    "if q1 == \"moscow\":\n",
    "    print('DING DING DING')\n",
    "    correct_ans += 1\n",
    "else:\n",
    "    print(\"WHY WHY WHY\")\n",
    "    wrong_ans += 1\n",
    "\n",
    "q2 = input(\"What is the capital of France: \").lower()\n",
    "if q2 == \"paris\":\n",
    "    print('DING DING DING')\n",
    "    correct_ans += 1\n",
    "else:\n",
    "    print(\"WHY WHY WHY\")\n",
    "    wrong_ans += 1\n",
    "\n",
    "q3 = input(\"What is the capital of Germany: \").lower()\n",
    "if q3 == \"berlin\":\n",
    "    print('DING DING DING')\n",
    "    correct_ans += 1\n",
    "else:\n",
    "    print(\"WHY WHY WHY\")\n",
    "    wrong_ans += 1\n",
    "    \n",
    "q4 = input(\"What is the capital of South Korea: \").lower()\n",
    "if q4 == \"seoul\":\n",
    "    print('DING DING DING')\n",
    "    correct_ans += 1\n",
    "else:\n",
    "    print(\"WHY WHY WHY\")\n",
    "    wrong_ans += 1\n",
    "\n",
    "q5 = input(\"What is the capital of Australia: \").lower()\n",
    "if q5 == \"canaberra\":\n",
    "    print('DING DING DING')\n",
    "    correct_ans += 1\n",
    "else:\n",
    "    print(\"WHY WHY WHY\")\n",
    "    wrong_ans += 1\n",
    "\n",
    "q6 = input(\"What is the capital of Rohan: \").lower()\n",
    "if q6 == \"r\":\n",
    "    print('DING DING DING')\n",
    "    correct_ans += 1\n",
    "else:\n",
    "    print(\"WHY WHY WHY\")\n",
    "    wrong_ans += 1\n",
    "    \n",
    "print(\"Num of wrong: \", wrong_ans)\n",
    "print(\"Num of correct: \", correct_ans)"
   ]
  },
  {
   "attachments": {},
   "cell_type": "markdown",
   "metadata": {},
   "source": [
    "# 3.7"
   ]
  },
  {
   "cell_type": "code",
   "execution_count": 11,
   "metadata": {},
   "outputs": [
    {
     "name": "stdout",
     "output_type": "stream",
     "text": [
      "You get a welch gummy bears.\n"
     ]
    }
   ],
   "source": [
    "# POP 1\n",
    "age = int(input(\"Enter age: \"))\n",
    "likes_sweets = int(input(\"Do you like sweets? (yes = 1/no = 0): \"))\n",
    "\n",
    "if age >= 10:\n",
    "    if likes_sweets == 1:\n",
    "        print(\"You can have chocolate!\")\n",
    "    else:\n",
    "        print(\"get some salad...\")\n",
    "else:\n",
    "    print(\"You get a welch gummy bears.\")"
   ]
  },
  {
   "cell_type": "code",
   "execution_count": 29,
   "metadata": {
    "vscode": {
     "languageId": "javascript"
    }
   },
   "outputs": [
    {
     "data": {
      "application/javascript": "// POP 1\n\nage = 5;\nlikes_sweets = Number(input('Do you like sweets? (yes = 1/no = 0): '));\n\nif (age >= 10) {\n    if (likes_sweets == 1) {\n        console.log('You can have chocolate!');\n    } else {\n        console.log('get some salad...');\n} else {\n    console.log('You get a welch gummy bears.');\n\n    }\n}\n",
      "text/plain": [
       "<IPython.core.display.Javascript object>"
      ]
     },
     "metadata": {},
     "output_type": "display_data"
    }
   ],
   "source": [
    "%%js\n",
    "// POP 1\n",
    "\n",
    "age = 5;\n",
    "likes_sweets = Number(input('Do you like sweets? (yes = 1/no = 0): '));\n",
    "\n",
    "if (age >= 10) {\n",
    "    if (likes_sweets == 1) {\n",
    "        console.log('You can have chocolate!');\n",
    "    } else {\n",
    "        console.log('get some salad...');\n",
    "} else {\n",
    "    console.log('You get a welch gummy bears.');\n",
    "\n",
    "    }\n",
    "}"
   ]
  },
  {
   "cell_type": "code",
   "execution_count": 14,
   "metadata": {},
   "outputs": [
    {
     "name": "stdout",
     "output_type": "stream",
     "text": [
      "You can buy a nikhil\n"
     ]
    }
   ],
   "source": [
    "# POP 2\n",
    "\n",
    "# Savings\n",
    "total = 500  \n",
    "\n",
    "# Laptop prices\n",
    "tomato = 800\n",
    "potato = 700\n",
    "nikhil = 100\n",
    "\n",
    "# Determine which laptop you can buy\n",
    "if total >= tomato:\n",
    "    print(\"You can buy a tomato\")\n",
    "elif total >= potato:\n",
    "    print(\"You can buy a potato\")\n",
    "elif total >= nikhil:\n",
    "    print(\"You can buy a nikhil\")\n",
    "else:\n",
    "    print(\"You don't have enough money to buy a laptop.\")"
   ]
  },
  {
   "cell_type": "code",
   "execution_count": 28,
   "metadata": {
    "vscode": {
     "languageId": "javascript"
    }
   },
   "outputs": [
    {
     "data": {
      "application/javascript": "// POP 3\n\n\nlet store_open = true;\nlet vegetables_available = false;\n\nif (store_open) {\n    console.log(\"You can go shopping. YAYYYY.\");\n\n    if (vegetables_available) {\n        console.log(\"Buy vegetables.\");\n    } else {\n        console.log(\"Check for other items instead.\");\n    }\n} else {\n    console.log(\"The store is closed, go away.\");\n}\n",
      "text/plain": [
       "<IPython.core.display.Javascript object>"
      ]
     },
     "metadata": {},
     "output_type": "display_data"
    }
   ],
   "source": [
    "%%js\n",
    "// POP 3\n",
    "\n",
    "\n",
    "let store_open = true;\n",
    "let vegetables_available = false;\n",
    "\n",
    "if (store_open) {\n",
    "    console.log(\"You can go shopping. YAYYYY.\");\n",
    "\n",
    "    if (vegetables_available) {\n",
    "        console.log(\"Buy vegetables.\");\n",
    "    } else {\n",
    "        console.log(\"Check for other items instead.\");\n",
    "    }\n",
    "} else {\n",
    "    console.log(\"The store is closed, go away.\");\n",
    "}"
   ]
  },
  {
   "cell_type": "code",
   "execution_count": 10,
   "metadata": {},
   "outputs": [
    {
     "name": "stdout",
     "output_type": "stream",
     "text": [
      "verfied to be greater than 5\n",
      "play with younger kids\n"
     ]
    }
   ],
   "source": [
    "# HW 1\n",
    "\n",
    "user_age = int(input(\"Enter your age: \"))\n",
    "user_ball = int(input(\"Do you have a ball (yes = 1, no = 2): \"))\n",
    "\n",
    "if user_age >= 5 and user_ball == 1:\n",
    "    print(\"verfied to be greater than 5\")\n",
    "    if user_age >= 8:\n",
    "        print(\"play with older kids\")\n",
    "    else:\n",
    "        print(\"play with younger kids\")\n",
    "else:\n",
    "    print(\"cant join games\")"
   ]
  },
  {
   "attachments": {},
   "cell_type": "markdown",
   "metadata": {},
   "source": [
    "# Project"
   ]
  },
  {
   "cell_type": "code",
   "execution_count": 3,
   "metadata": {},
   "outputs": [
    {
     "name": "stdout",
     "output_type": "stream",
     "text": [
      "Hello explored traveler!\n",
      "My name is Ivan I, prince of the Rus, in 13th century. These lands have been torn down and broken apart by the Mongols, please, do something!\n",
      "As you help prevent and defend attacks from the Mongols, your stats change: health:  100 , experience:  0\n",
      "Now it's time to choose your main weapon!\n",
      "Good choice, a bow and arrow is used in longer range combat. The damage it can deal is  20 , and its attack distance is 40\n",
      "Good choice, a spear is used in very close combat. The damage it can deal is  50 , and its attack distance is 5\n",
      "Good choice, a sword is used in closer combat. The damage it can deal is  25 , and its attack distance is 10\n",
      "10 years later ....\n",
      "OH NO, GENGHIS KHAN IS ATTACKING!\n",
      "DEPLOY ALL FORCES\n",
      "The enemy is too far for a sword attack.\n",
      "You missed  1 times! Your health is now:  90\n",
      "Great job, you completed your first fight! You increased your expierence!\n",
      "10  points!\n",
      "     _____\n",
      "    /     \\\n",
      "   /       \\\n",
      "  |   /\\_/\\ |\n",
      "  |  ( O O )|\n",
      "  |   \\_v_/ |\n",
      "   \\_______/\n",
      "     |   |\n",
      "     |   |\n",
      "   __|   |__\n",
      "  /  |   |  \\\n",
      " /   |   |   \\\n",
      "|    |   |    |\n",
      "     |   |\n",
      "    /     \\\n",
      "   /       \\\n",
      "  /__     __\\\n",
      "     |___|\n"
     ]
    }
   ],
   "source": [
    "# Running From The Mongols\n",
    "import sys\n",
    "import random\n",
    "\n",
    "health = 100\n",
    "experience = 0\n",
    "\n",
    "print(\"Hello explored traveler!\")\n",
    "print(\"My name is Ivan I, prince of the Rus, in 13th century. These lands have been torn down and broken apart by the Mongols, please, do something!\")\n",
    "print(\"As you help prevent and defend attacks from the Mongols, your stats change: health: \", health, \", experience: \", experience)\n",
    "\n",
    "ans1 = input(\"Are you ready for the journey? (yes/no): \").lower()\n",
    "if ans1 != \"yes\":\n",
    "    sys.exit()\n",
    "    \n",
    "print(\"Now it's time to choose your main weapon!\")\n",
    "\n",
    "# Weapon Dictionary values for each key: index 0: damage, index 1: attack distance\n",
    "weapon_dict = {\n",
    "    \"Sword\": [25, 10],\n",
    "    \"Bow_Arrow\": [20, 40],\n",
    "    \"Spear\": [50, 5]\n",
    "}\n",
    "\n",
    "# List of catchphrases\n",
    "catchphrases = [\"Bam!\", \"Slash!\", \"Hit!\", \"Smack!\", \"Strike!\", \"Wham!\"]\n",
    "\n",
    "while True:\n",
    "    learning_weapons = input(\"Let's look at the different types of weapons, the Sword(0), the Bow and Arrow(1), and the Spear(2). Type 3 to stop: \")\n",
    "    \n",
    "    if learning_weapons == '0':\n",
    "        print(\"Good choice, a sword is used in closer combat. The damage it can deal is \", weapon_dict[\"Sword\"][0], \", and its attack distance is\", weapon_dict[\"Sword\"][1])\n",
    "    elif learning_weapons == '1':\n",
    "        print(\"Good choice, a bow and arrow is used in longer range combat. The damage it can deal is \", weapon_dict[\"Bow_Arrow\"][0], \", and its attack distance is\", weapon_dict[\"Bow_Arrow\"][1])\n",
    "    elif learning_weapons == '2':\n",
    "        print(\"Good choice, a spear is used in very close combat. The damage it can deal is \", weapon_dict[\"Spear\"][0], \", and its attack distance is\", weapon_dict[\"Spear\"][1])\n",
    "    elif learning_weapons == '3':\n",
    "        break\n",
    "    else:\n",
    "        print(\"Invalid input. Please choose a valid weapon or type 3 to stop.\")\n",
    "\n",
    "main_weapon = input(\"So which one do you choose: 0 for sword, 1 for bow and arrow, and 2 for spear: \")\n",
    "\n",
    "\n",
    "print(\"10 years later ....\")\n",
    "print(\"OH NO, GENGHIS KHAN IS ATTACKING!\")\n",
    "print(\"DEPLOY ALL FORCES\")\n",
    "\n",
    "\n",
    "'''\n",
    "Peusdocode for function strucutre:\n",
    "\n",
    "define combat method (parameters are distance and health):\n",
    "    if the distance of the enemy is <= weapon distance:\n",
    "        while the enemy health is > 0:\n",
    "            print random catchphrase\n",
    "            Subtract from enemy health with weapon damage\n",
    "        print enemy is defeated\n",
    "    else:\n",
    "        print the enemy is too far away\n",
    "'''\n",
    "\n",
    "def take_damage(player_health, missed_shots):\n",
    "    player_health -= missed_shots * 10\n",
    "    print(\"You missed \", missed_shots, \"times! Your health is now: \", player_health)\n",
    "    return player_health\n",
    "\n",
    "def sword_combat(distance_to_enemy, enemy_health, player_health, missed_shots):\n",
    "    if distance_to_enemy <= weapon_dict[\"Sword\"][1]:\n",
    "        while enemy_health > 0:\n",
    "            print(random.choice(catchphrases))\n",
    "            enemy_health -= weapon_dict[\"Sword\"][0]\n",
    "        print(\"Enemy defeated with the sword!\")\n",
    "    else:\n",
    "        print(\"The enemy is too far for a sword attack.\")\n",
    "        missed_shots += 1\n",
    "        player_health = take_damage(player_health, missed_shots)\n",
    "    return player_health, missed_shots\n",
    "\n",
    "def bow_arrow_combat(distance_to_enemy, enemy_health, player_health, missed_shots):\n",
    "    if distance_to_enemy <= weapon_dict[\"Bow_Arrow\"][1]:\n",
    "        while enemy_health > 0:\n",
    "            print(random.choice(catchphrases))\n",
    "            enemy_health -= weapon_dict[\"Bow_Arrow\"][0]\n",
    "        print(\"Enemy defeated with the bow and arrow!\")\n",
    "    else:\n",
    "        print(\"The enemy is too far for a bow and arrow attack.\")\n",
    "        missed_shots += 1\n",
    "        player_health = take_damage(player_health, missed_shots)\n",
    "    return player_health, missed_shots\n",
    "\n",
    "def spear_combat(distance_to_enemy, enemy_health, player_health, missed_shots):\n",
    "    if distance_to_enemy <= weapon_dict[\"Spear\"][1]:\n",
    "        while enemy_health > 0:\n",
    "            print(random.choice(catchphrases))\n",
    "            enemy_health -= weapon_dict[\"Spear\"][0]\n",
    "        print(\"Enemy defeated with the spear!\")\n",
    "    else:\n",
    "        print(\"The enemy is too far for a spear attack.\")\n",
    "        missed_shots += 1\n",
    "        player_health = take_damage(player_health, missed_shots)\n",
    "    return player_health, missed_shots\n",
    "\n",
    "weapon_final_choice = int(input(\"What weapon are you using? For every time you miss a shot, you lose health. (0 for sword, 1 for bow and arrow, 2 for spear): \"))\n",
    "\n",
    "enemy_distance = random.randint(1, 40)\n",
    "enemy_health = 50\n",
    "missed_shots = 0\n",
    "\n",
    "if weapon_final_choice == 0:\n",
    "    health, missed_shots = sword_combat(enemy_distance, enemy_health, health, missed_shots)\n",
    "elif weapon_final_choice == 1:\n",
    "    health, missed_shots = bow_arrow_combat(enemy_distance, enemy_health, health, missed_shots)\n",
    "elif weapon_final_choice == 2:\n",
    "    health, missed_shots = spear_combat(enemy_distance, enemy_health, health, missed_shots)\n",
    "\n",
    "if health <= 0:\n",
    "    print(\"Oh no, your health is too low, you perished with the Mongols!\")\n",
    "    sys.exit()\n",
    "else:\n",
    "    print(\"Great job, you completed your first fight! You increased your expierence!\")\n",
    "    experience += 10\n",
    "    print(experience, \" points!\")\n",
    "    pass\n",
    "\n",
    "print(\"     _____\")\n",
    "print(\"    /     \\\\\")\n",
    "print(\"   /       \\\\\")\n",
    "print(\"  |   /\\\\_/\\\\ |\")\n",
    "print(\"  |  ( O O )|\")\n",
    "print(\"  |   \\\\_v_/ |\")\n",
    "print(\"   \\\\_______/\")\n",
    "print(\"     |   |\")\n",
    "print(\"     |   |\")\n",
    "print(\"   __|   |__\")\n",
    "print(\"  /  |   |  \\\\\")\n",
    "print(\" /   |   |   \\\\\")\n",
    "print(\"|    |   |    |\")\n",
    "print(\"     |   |\")\n",
    "print(\"    /     \\\\\")\n",
    "print(\"   /       \\\\\")\n",
    "print(\"  /__     __\\\\\")\n",
    "print(\"     |___|\")\n",
    "\n",
    "\n",
    "\n",
    "        \n",
    "\n",
    "\n",
    "\n",
    "\n",
    "\n"
   ]
  }
 ],
 "metadata": {
  "kernelspec": {
   "display_name": "venv",
   "language": "python",
   "name": "python3"
  },
  "language_info": {
   "codemirror_mode": {
    "name": "ipython",
    "version": 3
   },
   "file_extension": ".py",
   "mimetype": "text/x-python",
   "name": "python",
   "nbconvert_exporter": "python",
   "pygments_lexer": "ipython3",
   "version": "3.12.7"
  },
  "orig_nbformat": 4,
  "vscode": {
   "interpreter": {
    "hash": "2d794756cd16a7e6cfb2d56a4d21a0099904601599c3bc40788669ad5fc60730"
   }
  }
 },
 "nbformat": 4,
 "nbformat_minor": 2
}
